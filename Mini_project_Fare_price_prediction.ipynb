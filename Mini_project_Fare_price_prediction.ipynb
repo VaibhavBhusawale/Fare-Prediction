{
  "cells": [
    {
      "cell_type": "markdown",
      "metadata": {
        "id": "view-in-github",
        "colab_type": "text"
      },
      "source": [
        "<a href=\"https://colab.research.google.com/github/VaibhavBhusawale/Fare-Prediction/blob/main/Mini_project_Fare_price_prediction.ipynb\" target=\"_parent\"><img src=\"https://colab.research.google.com/assets/colab-badge.svg\" alt=\"Open In Colab\"/></a>"
      ]
    },
    {
      "cell_type": "markdown",
      "metadata": {
        "id": "De1JZuKRTI3b"
      },
      "source": [
        "The dataset “trips.csv” contains the following fields:\n",
        "\n",
        "key - a unique identifier for each trip\n",
        "\n",
        "fare_amount - the cost of each trip in usd\n",
        "\n",
        "pickup_datetime - date and time when the meter was engaged\n",
        "\n",
        "passenger_count - the number of passengers in the vehicle (driver entered value)\n",
        "\n",
        "pickup_longitude - the longitude where the meter was engaged\n",
        "\n",
        "pickup_latitude - the latitude where the meter was engaged\n",
        "\n",
        "dropoff_longitude - the longitude where the meter was disengaged\n",
        "\n",
        "dropoff_latitude - the latitude where the meter was disengaged\n",
        "\n",
        "– You need to analyse the data and create an efficient model that will estimate the fare prices accurately. \n"
      ]
    },
    {
      "cell_type": "code",
      "execution_count": 4,
      "metadata": {
        "id": "93Gr5GzSUM7t"
      },
      "outputs": [],
      "source": [
        "import pandas as pd\n",
        "import numpy as np\n",
        "import matplotlib.pyplot as plt\n",
        "import seaborn as sns"
      ]
    },
    {
      "cell_type": "code",
      "execution_count": 5,
      "metadata": {
        "colab": {
          "base_uri": "https://localhost:8080/"
        },
        "id": "LjMyD23AZuRY",
        "outputId": "3f624973-32b9-4866-e84c-989c02dd916e"
      },
      "outputs": [
        {
          "output_type": "stream",
          "name": "stdout",
          "text": [
            "Drive already mounted at /content/drive; to attempt to forcibly remount, call drive.mount(\"/content/drive\", force_remount=True).\n"
          ]
        }
      ],
      "source": [
        "from google.colab import drive\n",
        "drive.mount('/content/drive')"
      ]
    },
    {
      "cell_type": "code",
      "execution_count": 6,
      "metadata": {
        "id": "iOrC2tgzaIRW"
      },
      "outputs": [],
      "source": [
        "# Read the health insurance data set \n",
        "path = '/content/drive/MyDrive/Mini Project/trip.csv'\n",
        "\n",
        "df = pd.read_csv(path)"
      ]
    },
    {
      "cell_type": "code",
      "execution_count": 7,
      "metadata": {
        "colab": {
          "base_uri": "https://localhost:8080/",
          "height": 206
        },
        "id": "RbzQSaGqaVmg",
        "outputId": "bdfc4040-edcd-42b2-e514-50b1167f932e"
      },
      "outputs": [
        {
          "output_type": "execute_result",
          "data": {
            "text/plain": [
              "      index                            key  fare_amount  \\\n",
              "0  24238194    2015-05-07 19:52:06.0000003          7.5   \n",
              "1  27835199    2009-07-17 20:04:56.0000002          7.7   \n",
              "2  44984355   2009-08-24 21:45:00.00000061         12.9   \n",
              "3  25894730    2009-06-26 08:22:21.0000001          5.3   \n",
              "4  17610152  2014-08-28 17:47:00.000000188         16.0   \n",
              "\n",
              "           pickup_datetime  pickup_longitude  pickup_latitude  \\\n",
              "0  2015-05-07 19:52:06 UTC        -73.999817        40.738354   \n",
              "1  2009-07-17 20:04:56 UTC        -73.994355        40.728225   \n",
              "2  2009-08-24 21:45:00 UTC        -74.005043        40.740770   \n",
              "3  2009-06-26 08:22:21 UTC        -73.976124        40.790844   \n",
              "4  2014-08-28 17:47:00 UTC        -73.925023        40.744085   \n",
              "\n",
              "   dropoff_longitude  dropoff_latitude  passenger_count  \n",
              "0         -73.999512         40.723217                1  \n",
              "1         -73.994710         40.750325                1  \n",
              "2         -73.962565         40.772647                1  \n",
              "3         -73.965316         40.803349                3  \n",
              "4         -73.973082         40.761247                5  "
            ],
            "text/html": [
              "\n",
              "  <div id=\"df-727df087-bb0d-44e4-a9c6-04495bdf6c3f\">\n",
              "    <div class=\"colab-df-container\">\n",
              "      <div>\n",
              "<style scoped>\n",
              "    .dataframe tbody tr th:only-of-type {\n",
              "        vertical-align: middle;\n",
              "    }\n",
              "\n",
              "    .dataframe tbody tr th {\n",
              "        vertical-align: top;\n",
              "    }\n",
              "\n",
              "    .dataframe thead th {\n",
              "        text-align: right;\n",
              "    }\n",
              "</style>\n",
              "<table border=\"1\" class=\"dataframe\">\n",
              "  <thead>\n",
              "    <tr style=\"text-align: right;\">\n",
              "      <th></th>\n",
              "      <th>index</th>\n",
              "      <th>key</th>\n",
              "      <th>fare_amount</th>\n",
              "      <th>pickup_datetime</th>\n",
              "      <th>pickup_longitude</th>\n",
              "      <th>pickup_latitude</th>\n",
              "      <th>dropoff_longitude</th>\n",
              "      <th>dropoff_latitude</th>\n",
              "      <th>passenger_count</th>\n",
              "    </tr>\n",
              "  </thead>\n",
              "  <tbody>\n",
              "    <tr>\n",
              "      <th>0</th>\n",
              "      <td>24238194</td>\n",
              "      <td>2015-05-07 19:52:06.0000003</td>\n",
              "      <td>7.5</td>\n",
              "      <td>2015-05-07 19:52:06 UTC</td>\n",
              "      <td>-73.999817</td>\n",
              "      <td>40.738354</td>\n",
              "      <td>-73.999512</td>\n",
              "      <td>40.723217</td>\n",
              "      <td>1</td>\n",
              "    </tr>\n",
              "    <tr>\n",
              "      <th>1</th>\n",
              "      <td>27835199</td>\n",
              "      <td>2009-07-17 20:04:56.0000002</td>\n",
              "      <td>7.7</td>\n",
              "      <td>2009-07-17 20:04:56 UTC</td>\n",
              "      <td>-73.994355</td>\n",
              "      <td>40.728225</td>\n",
              "      <td>-73.994710</td>\n",
              "      <td>40.750325</td>\n",
              "      <td>1</td>\n",
              "    </tr>\n",
              "    <tr>\n",
              "      <th>2</th>\n",
              "      <td>44984355</td>\n",
              "      <td>2009-08-24 21:45:00.00000061</td>\n",
              "      <td>12.9</td>\n",
              "      <td>2009-08-24 21:45:00 UTC</td>\n",
              "      <td>-74.005043</td>\n",
              "      <td>40.740770</td>\n",
              "      <td>-73.962565</td>\n",
              "      <td>40.772647</td>\n",
              "      <td>1</td>\n",
              "    </tr>\n",
              "    <tr>\n",
              "      <th>3</th>\n",
              "      <td>25894730</td>\n",
              "      <td>2009-06-26 08:22:21.0000001</td>\n",
              "      <td>5.3</td>\n",
              "      <td>2009-06-26 08:22:21 UTC</td>\n",
              "      <td>-73.976124</td>\n",
              "      <td>40.790844</td>\n",
              "      <td>-73.965316</td>\n",
              "      <td>40.803349</td>\n",
              "      <td>3</td>\n",
              "    </tr>\n",
              "    <tr>\n",
              "      <th>4</th>\n",
              "      <td>17610152</td>\n",
              "      <td>2014-08-28 17:47:00.000000188</td>\n",
              "      <td>16.0</td>\n",
              "      <td>2014-08-28 17:47:00 UTC</td>\n",
              "      <td>-73.925023</td>\n",
              "      <td>40.744085</td>\n",
              "      <td>-73.973082</td>\n",
              "      <td>40.761247</td>\n",
              "      <td>5</td>\n",
              "    </tr>\n",
              "  </tbody>\n",
              "</table>\n",
              "</div>\n",
              "      <button class=\"colab-df-convert\" onclick=\"convertToInteractive('df-727df087-bb0d-44e4-a9c6-04495bdf6c3f')\"\n",
              "              title=\"Convert this dataframe to an interactive table.\"\n",
              "              style=\"display:none;\">\n",
              "        \n",
              "  <svg xmlns=\"http://www.w3.org/2000/svg\" height=\"24px\"viewBox=\"0 0 24 24\"\n",
              "       width=\"24px\">\n",
              "    <path d=\"M0 0h24v24H0V0z\" fill=\"none\"/>\n",
              "    <path d=\"M18.56 5.44l.94 2.06.94-2.06 2.06-.94-2.06-.94-.94-2.06-.94 2.06-2.06.94zm-11 1L8.5 8.5l.94-2.06 2.06-.94-2.06-.94L8.5 2.5l-.94 2.06-2.06.94zm10 10l.94 2.06.94-2.06 2.06-.94-2.06-.94-.94-2.06-.94 2.06-2.06.94z\"/><path d=\"M17.41 7.96l-1.37-1.37c-.4-.4-.92-.59-1.43-.59-.52 0-1.04.2-1.43.59L10.3 9.45l-7.72 7.72c-.78.78-.78 2.05 0 2.83L4 21.41c.39.39.9.59 1.41.59.51 0 1.02-.2 1.41-.59l7.78-7.78 2.81-2.81c.8-.78.8-2.07 0-2.86zM5.41 20L4 18.59l7.72-7.72 1.47 1.35L5.41 20z\"/>\n",
              "  </svg>\n",
              "      </button>\n",
              "      \n",
              "  <style>\n",
              "    .colab-df-container {\n",
              "      display:flex;\n",
              "      flex-wrap:wrap;\n",
              "      gap: 12px;\n",
              "    }\n",
              "\n",
              "    .colab-df-convert {\n",
              "      background-color: #E8F0FE;\n",
              "      border: none;\n",
              "      border-radius: 50%;\n",
              "      cursor: pointer;\n",
              "      display: none;\n",
              "      fill: #1967D2;\n",
              "      height: 32px;\n",
              "      padding: 0 0 0 0;\n",
              "      width: 32px;\n",
              "    }\n",
              "\n",
              "    .colab-df-convert:hover {\n",
              "      background-color: #E2EBFA;\n",
              "      box-shadow: 0px 1px 2px rgba(60, 64, 67, 0.3), 0px 1px 3px 1px rgba(60, 64, 67, 0.15);\n",
              "      fill: #174EA6;\n",
              "    }\n",
              "\n",
              "    [theme=dark] .colab-df-convert {\n",
              "      background-color: #3B4455;\n",
              "      fill: #D2E3FC;\n",
              "    }\n",
              "\n",
              "    [theme=dark] .colab-df-convert:hover {\n",
              "      background-color: #434B5C;\n",
              "      box-shadow: 0px 1px 3px 1px rgba(0, 0, 0, 0.15);\n",
              "      filter: drop-shadow(0px 1px 2px rgba(0, 0, 0, 0.3));\n",
              "      fill: #FFFFFF;\n",
              "    }\n",
              "  </style>\n",
              "\n",
              "      <script>\n",
              "        const buttonEl =\n",
              "          document.querySelector('#df-727df087-bb0d-44e4-a9c6-04495bdf6c3f button.colab-df-convert');\n",
              "        buttonEl.style.display =\n",
              "          google.colab.kernel.accessAllowed ? 'block' : 'none';\n",
              "\n",
              "        async function convertToInteractive(key) {\n",
              "          const element = document.querySelector('#df-727df087-bb0d-44e4-a9c6-04495bdf6c3f');\n",
              "          const dataTable =\n",
              "            await google.colab.kernel.invokeFunction('convertToInteractive',\n",
              "                                                     [key], {});\n",
              "          if (!dataTable) return;\n",
              "\n",
              "          const docLinkHtml = 'Like what you see? Visit the ' +\n",
              "            '<a target=\"_blank\" href=https://colab.research.google.com/notebooks/data_table.ipynb>data table notebook</a>'\n",
              "            + ' to learn more about interactive tables.';\n",
              "          element.innerHTML = '';\n",
              "          dataTable['output_type'] = 'display_data';\n",
              "          await google.colab.output.renderOutput(dataTable, element);\n",
              "          const docLink = document.createElement('div');\n",
              "          docLink.innerHTML = docLinkHtml;\n",
              "          element.appendChild(docLink);\n",
              "        }\n",
              "      </script>\n",
              "    </div>\n",
              "  </div>\n",
              "  "
            ]
          },
          "metadata": {},
          "execution_count": 7
        }
      ],
      "source": [
        "df.head()"
      ]
    },
    {
      "cell_type": "code",
      "execution_count": 8,
      "metadata": {
        "colab": {
          "base_uri": "https://localhost:8080/"
        },
        "id": "kBDGwtaeam2S",
        "outputId": "3f43c562-1d59-4eb8-84e3-267f2a318634"
      },
      "outputs": [
        {
          "output_type": "execute_result",
          "data": {
            "text/plain": [
              "(200000, 9)"
            ]
          },
          "metadata": {},
          "execution_count": 8
        }
      ],
      "source": [
        "df.shape"
      ]
    },
    {
      "cell_type": "code",
      "execution_count": 9,
      "metadata": {
        "colab": {
          "base_uri": "https://localhost:8080/"
        },
        "id": "ERMFT9p6am5p",
        "outputId": "c6edb32c-c72d-426b-a9d6-2dc397c9ff1f"
      },
      "outputs": [
        {
          "output_type": "execute_result",
          "data": {
            "text/plain": [
              "Index(['index', 'key', 'fare_amount', 'pickup_datetime', 'pickup_longitude',\n",
              "       'pickup_latitude', 'dropoff_longitude', 'dropoff_latitude',\n",
              "       'passenger_count'],\n",
              "      dtype='object')"
            ]
          },
          "metadata": {},
          "execution_count": 9
        }
      ],
      "source": [
        "df.columns"
      ]
    },
    {
      "cell_type": "code",
      "execution_count": 10,
      "metadata": {
        "colab": {
          "base_uri": "https://localhost:8080/",
          "height": 300
        },
        "id": "3rfmm-3YaWlq",
        "outputId": "aedf7b76-32d6-4f24-b4d5-830343e1d1c2"
      },
      "outputs": [
        {
          "output_type": "execute_result",
          "data": {
            "text/plain": [
              "              index    fare_amount  pickup_longitude  pickup_latitude  \\\n",
              "count  2.000000e+05  200000.000000     200000.000000    200000.000000   \n",
              "mean   2.771250e+07      11.359955        -72.527638        39.935885   \n",
              "std    1.601382e+07       9.901776         11.437787         7.720539   \n",
              "min    1.000000e+00     -52.000000      -1340.648410       -74.015515   \n",
              "25%    1.382535e+07       6.000000        -73.992065        40.734796   \n",
              "50%    2.774550e+07       8.500000        -73.981823        40.752592   \n",
              "75%    4.155530e+07      12.500000        -73.967154        40.767158   \n",
              "max    5.542357e+07     499.000000         57.418457      1644.421482   \n",
              "\n",
              "       dropoff_longitude  dropoff_latitude  passenger_count  \n",
              "count      199999.000000     199999.000000    200000.000000  \n",
              "mean          -72.525292         39.923890         1.684535  \n",
              "std            13.117408          6.794829         1.385997  \n",
              "min         -3356.666300       -881.985513         0.000000  \n",
              "25%           -73.991407         40.733823         1.000000  \n",
              "50%           -73.980093         40.753042         1.000000  \n",
              "75%           -73.963658         40.768001         2.000000  \n",
              "max          1153.572603        872.697628       208.000000  "
            ],
            "text/html": [
              "\n",
              "  <div id=\"df-2782c53c-07cc-474a-b4b1-5ace6d4861f4\">\n",
              "    <div class=\"colab-df-container\">\n",
              "      <div>\n",
              "<style scoped>\n",
              "    .dataframe tbody tr th:only-of-type {\n",
              "        vertical-align: middle;\n",
              "    }\n",
              "\n",
              "    .dataframe tbody tr th {\n",
              "        vertical-align: top;\n",
              "    }\n",
              "\n",
              "    .dataframe thead th {\n",
              "        text-align: right;\n",
              "    }\n",
              "</style>\n",
              "<table border=\"1\" class=\"dataframe\">\n",
              "  <thead>\n",
              "    <tr style=\"text-align: right;\">\n",
              "      <th></th>\n",
              "      <th>index</th>\n",
              "      <th>fare_amount</th>\n",
              "      <th>pickup_longitude</th>\n",
              "      <th>pickup_latitude</th>\n",
              "      <th>dropoff_longitude</th>\n",
              "      <th>dropoff_latitude</th>\n",
              "      <th>passenger_count</th>\n",
              "    </tr>\n",
              "  </thead>\n",
              "  <tbody>\n",
              "    <tr>\n",
              "      <th>count</th>\n",
              "      <td>2.000000e+05</td>\n",
              "      <td>200000.000000</td>\n",
              "      <td>200000.000000</td>\n",
              "      <td>200000.000000</td>\n",
              "      <td>199999.000000</td>\n",
              "      <td>199999.000000</td>\n",
              "      <td>200000.000000</td>\n",
              "    </tr>\n",
              "    <tr>\n",
              "      <th>mean</th>\n",
              "      <td>2.771250e+07</td>\n",
              "      <td>11.359955</td>\n",
              "      <td>-72.527638</td>\n",
              "      <td>39.935885</td>\n",
              "      <td>-72.525292</td>\n",
              "      <td>39.923890</td>\n",
              "      <td>1.684535</td>\n",
              "    </tr>\n",
              "    <tr>\n",
              "      <th>std</th>\n",
              "      <td>1.601382e+07</td>\n",
              "      <td>9.901776</td>\n",
              "      <td>11.437787</td>\n",
              "      <td>7.720539</td>\n",
              "      <td>13.117408</td>\n",
              "      <td>6.794829</td>\n",
              "      <td>1.385997</td>\n",
              "    </tr>\n",
              "    <tr>\n",
              "      <th>min</th>\n",
              "      <td>1.000000e+00</td>\n",
              "      <td>-52.000000</td>\n",
              "      <td>-1340.648410</td>\n",
              "      <td>-74.015515</td>\n",
              "      <td>-3356.666300</td>\n",
              "      <td>-881.985513</td>\n",
              "      <td>0.000000</td>\n",
              "    </tr>\n",
              "    <tr>\n",
              "      <th>25%</th>\n",
              "      <td>1.382535e+07</td>\n",
              "      <td>6.000000</td>\n",
              "      <td>-73.992065</td>\n",
              "      <td>40.734796</td>\n",
              "      <td>-73.991407</td>\n",
              "      <td>40.733823</td>\n",
              "      <td>1.000000</td>\n",
              "    </tr>\n",
              "    <tr>\n",
              "      <th>50%</th>\n",
              "      <td>2.774550e+07</td>\n",
              "      <td>8.500000</td>\n",
              "      <td>-73.981823</td>\n",
              "      <td>40.752592</td>\n",
              "      <td>-73.980093</td>\n",
              "      <td>40.753042</td>\n",
              "      <td>1.000000</td>\n",
              "    </tr>\n",
              "    <tr>\n",
              "      <th>75%</th>\n",
              "      <td>4.155530e+07</td>\n",
              "      <td>12.500000</td>\n",
              "      <td>-73.967154</td>\n",
              "      <td>40.767158</td>\n",
              "      <td>-73.963658</td>\n",
              "      <td>40.768001</td>\n",
              "      <td>2.000000</td>\n",
              "    </tr>\n",
              "    <tr>\n",
              "      <th>max</th>\n",
              "      <td>5.542357e+07</td>\n",
              "      <td>499.000000</td>\n",
              "      <td>57.418457</td>\n",
              "      <td>1644.421482</td>\n",
              "      <td>1153.572603</td>\n",
              "      <td>872.697628</td>\n",
              "      <td>208.000000</td>\n",
              "    </tr>\n",
              "  </tbody>\n",
              "</table>\n",
              "</div>\n",
              "      <button class=\"colab-df-convert\" onclick=\"convertToInteractive('df-2782c53c-07cc-474a-b4b1-5ace6d4861f4')\"\n",
              "              title=\"Convert this dataframe to an interactive table.\"\n",
              "              style=\"display:none;\">\n",
              "        \n",
              "  <svg xmlns=\"http://www.w3.org/2000/svg\" height=\"24px\"viewBox=\"0 0 24 24\"\n",
              "       width=\"24px\">\n",
              "    <path d=\"M0 0h24v24H0V0z\" fill=\"none\"/>\n",
              "    <path d=\"M18.56 5.44l.94 2.06.94-2.06 2.06-.94-2.06-.94-.94-2.06-.94 2.06-2.06.94zm-11 1L8.5 8.5l.94-2.06 2.06-.94-2.06-.94L8.5 2.5l-.94 2.06-2.06.94zm10 10l.94 2.06.94-2.06 2.06-.94-2.06-.94-.94-2.06-.94 2.06-2.06.94z\"/><path d=\"M17.41 7.96l-1.37-1.37c-.4-.4-.92-.59-1.43-.59-.52 0-1.04.2-1.43.59L10.3 9.45l-7.72 7.72c-.78.78-.78 2.05 0 2.83L4 21.41c.39.39.9.59 1.41.59.51 0 1.02-.2 1.41-.59l7.78-7.78 2.81-2.81c.8-.78.8-2.07 0-2.86zM5.41 20L4 18.59l7.72-7.72 1.47 1.35L5.41 20z\"/>\n",
              "  </svg>\n",
              "      </button>\n",
              "      \n",
              "  <style>\n",
              "    .colab-df-container {\n",
              "      display:flex;\n",
              "      flex-wrap:wrap;\n",
              "      gap: 12px;\n",
              "    }\n",
              "\n",
              "    .colab-df-convert {\n",
              "      background-color: #E8F0FE;\n",
              "      border: none;\n",
              "      border-radius: 50%;\n",
              "      cursor: pointer;\n",
              "      display: none;\n",
              "      fill: #1967D2;\n",
              "      height: 32px;\n",
              "      padding: 0 0 0 0;\n",
              "      width: 32px;\n",
              "    }\n",
              "\n",
              "    .colab-df-convert:hover {\n",
              "      background-color: #E2EBFA;\n",
              "      box-shadow: 0px 1px 2px rgba(60, 64, 67, 0.3), 0px 1px 3px 1px rgba(60, 64, 67, 0.15);\n",
              "      fill: #174EA6;\n",
              "    }\n",
              "\n",
              "    [theme=dark] .colab-df-convert {\n",
              "      background-color: #3B4455;\n",
              "      fill: #D2E3FC;\n",
              "    }\n",
              "\n",
              "    [theme=dark] .colab-df-convert:hover {\n",
              "      background-color: #434B5C;\n",
              "      box-shadow: 0px 1px 3px 1px rgba(0, 0, 0, 0.15);\n",
              "      filter: drop-shadow(0px 1px 2px rgba(0, 0, 0, 0.3));\n",
              "      fill: #FFFFFF;\n",
              "    }\n",
              "  </style>\n",
              "\n",
              "      <script>\n",
              "        const buttonEl =\n",
              "          document.querySelector('#df-2782c53c-07cc-474a-b4b1-5ace6d4861f4 button.colab-df-convert');\n",
              "        buttonEl.style.display =\n",
              "          google.colab.kernel.accessAllowed ? 'block' : 'none';\n",
              "\n",
              "        async function convertToInteractive(key) {\n",
              "          const element = document.querySelector('#df-2782c53c-07cc-474a-b4b1-5ace6d4861f4');\n",
              "          const dataTable =\n",
              "            await google.colab.kernel.invokeFunction('convertToInteractive',\n",
              "                                                     [key], {});\n",
              "          if (!dataTable) return;\n",
              "\n",
              "          const docLinkHtml = 'Like what you see? Visit the ' +\n",
              "            '<a target=\"_blank\" href=https://colab.research.google.com/notebooks/data_table.ipynb>data table notebook</a>'\n",
              "            + ' to learn more about interactive tables.';\n",
              "          element.innerHTML = '';\n",
              "          dataTable['output_type'] = 'display_data';\n",
              "          await google.colab.output.renderOutput(dataTable, element);\n",
              "          const docLink = document.createElement('div');\n",
              "          docLink.innerHTML = docLinkHtml;\n",
              "          element.appendChild(docLink);\n",
              "        }\n",
              "      </script>\n",
              "    </div>\n",
              "  </div>\n",
              "  "
            ]
          },
          "metadata": {},
          "execution_count": 10
        }
      ],
      "source": [
        "df.describe()"
      ]
    },
    {
      "cell_type": "markdown",
      "metadata": {
        "id": "h1qQP-KGa9ut"
      },
      "source": [
        "**Hypothesis Generation**"
      ]
    },
    {
      "cell_type": "markdown",
      "metadata": {
        "id": "o_89NUbYa_wa"
      },
      "source": [
        "1. Trip Distance : We know thw distance is important to calculate fare amount according to distance traveled.  If the distance to be traveled is more, then fare should be higher.\n",
        "2. Time of travel : According to time we can decide fare like during peak traffic hours, the taxi fare may be higher or more charges on night trip\n",
        "3. Day of travel : Fare amount may differ on weekday and weekends\n",
        "4. Month of travel : Fare may differ on seasons and festival time \n",
        "5. Weather Condition : If it is Raining, snowing, there may be lower availability of cabs and hence higher fares.\n",
        "6. Pickup and drop-off : Fare may be different based on the kind of neighborhood or pickup point is longer \n",
        "7. Availability of Taxi: If a particular location has a lot of cabs available, the fares may be lower.If cabs are lower then fare may be increase \n",
        "8. Vehicle type : Fare amount Depends on which type of vehicle is require like suv, Tuv or seats capacity or brand of vehicle etc.\n",
        "\n"
      ]
    },
    {
      "cell_type": "markdown",
      "metadata": {
        "id": "01mEWvzQg42D"
      },
      "source": [
        "We know the what type of data and features require for predicting fare and after that collecting data from server we have 'index', 'key', 'fare_amount', 'pickup_datetime', 'pickup_longitude','pickup_latitude', 'dropoff_longitude', 'dropoff_latitude','passenger_count' these features\n",
        "\n",
        "So lets go to predict best fare according to besed on all hypothesics testing to get best fare\n",
        "berfore going to to prediction we should work on our dataset to understand the dataset  by using Data cleaning and Exploration \n"
      ]
    },
    {
      "cell_type": "markdown",
      "metadata": {
        "id": "B1PNC8d0g452"
      },
      "source": [
        "#**Data Cleaning and Exploration**"
      ]
    },
    {
      "cell_type": "markdown",
      "metadata": {
        "id": "ybFZjDDki-nM"
      },
      "source": [
        "Distribution of fare amount"
      ]
    },
    {
      "cell_type": "code",
      "execution_count": 11,
      "metadata": {
        "colab": {
          "base_uri": "https://localhost:8080/"
        },
        "id": "HJcCHPSajMiK",
        "outputId": "01c95f15-1a85-4d52-c4dc-2cc571d9c221"
      },
      "outputs": [
        {
          "output_type": "execute_result",
          "data": {
            "text/plain": [
              "Index(['index', 'key', 'fare_amount', 'pickup_datetime', 'pickup_longitude',\n",
              "       'pickup_latitude', 'dropoff_longitude', 'dropoff_latitude',\n",
              "       'passenger_count'],\n",
              "      dtype='object')"
            ]
          },
          "metadata": {},
          "execution_count": 11
        }
      ],
      "source": [
        "df.columns"
      ]
    },
    {
      "cell_type": "code",
      "execution_count": 12,
      "metadata": {
        "id": "dOPJBUfAfNXj"
      },
      "outputs": [],
      "source": [
        "df =df[['key', 'fare_amount', 'pickup_datetime', 'pickup_longitude',\n",
        "       'pickup_latitude', 'dropoff_longitude', 'dropoff_latitude',\n",
        "       'passenger_count']]"
      ]
    },
    {
      "cell_type": "code",
      "execution_count": 13,
      "metadata": {
        "colab": {
          "base_uri": "https://localhost:8080/"
        },
        "id": "m0mMIO7WfnqQ",
        "outputId": "6d3738f0-85c7-4a82-b1a1-b94d4b1f69ad"
      },
      "outputs": [
        {
          "output_type": "execute_result",
          "data": {
            "text/plain": [
              "key                  0\n",
              "fare_amount          0\n",
              "pickup_datetime      0\n",
              "pickup_longitude     0\n",
              "pickup_latitude      0\n",
              "dropoff_longitude    1\n",
              "dropoff_latitude     1\n",
              "passenger_count      0\n",
              "dtype: int64"
            ]
          },
          "metadata": {},
          "execution_count": 13
        }
      ],
      "source": [
        "df.isnull().sum()"
      ]
    },
    {
      "cell_type": "code",
      "execution_count": 13,
      "metadata": {
        "id": "oTJ0oeaPjDlH"
      },
      "outputs": [],
      "source": []
    },
    {
      "cell_type": "code",
      "execution_count": 14,
      "metadata": {
        "colab": {
          "base_uri": "https://localhost:8080/"
        },
        "id": "TNMamWWoifZr",
        "outputId": "4670fd02-3e95-43ff-c312-ff67864fbbc5"
      },
      "outputs": [
        {
          "output_type": "execute_result",
          "data": {
            "text/plain": [
              "0"
            ]
          },
          "metadata": {},
          "execution_count": 14
        }
      ],
      "source": [
        "df.duplicated().sum()"
      ]
    },
    {
      "cell_type": "code",
      "execution_count": 15,
      "metadata": {
        "colab": {
          "base_uri": "https://localhost:8080/"
        },
        "id": "lBWpxrPYkHac",
        "outputId": "0bdf52ee-579a-472c-db4f-3fac366b12c2"
      },
      "outputs": [
        {
          "output_type": "stream",
          "name": "stdout",
          "text": [
            "<class 'pandas.core.frame.DataFrame'>\n",
            "RangeIndex: 200000 entries, 0 to 199999\n",
            "Data columns (total 8 columns):\n",
            " #   Column             Non-Null Count   Dtype  \n",
            "---  ------             --------------   -----  \n",
            " 0   key                200000 non-null  object \n",
            " 1   fare_amount        200000 non-null  float64\n",
            " 2   pickup_datetime    200000 non-null  object \n",
            " 3   pickup_longitude   200000 non-null  float64\n",
            " 4   pickup_latitude    200000 non-null  float64\n",
            " 5   dropoff_longitude  199999 non-null  float64\n",
            " 6   dropoff_latitude   199999 non-null  float64\n",
            " 7   passenger_count    200000 non-null  int64  \n",
            "dtypes: float64(5), int64(1), object(2)\n",
            "memory usage: 12.2+ MB\n"
          ]
        }
      ],
      "source": [
        "df.info()"
      ]
    },
    {
      "cell_type": "code",
      "execution_count": 16,
      "metadata": {
        "colab": {
          "base_uri": "https://localhost:8080/"
        },
        "id": "ViS5Qda75xXY",
        "outputId": "aa19c7ea-da80-4bc5-af1d-b3fb91d718dd"
      },
      "outputs": [
        {
          "output_type": "stream",
          "name": "stdout",
          "text": [
            "                   Total Null Values  Percentage\n",
            "key                                0         0.0\n",
            "fare_amount                        0         0.0\n",
            "pickup_datetime                    0         0.0\n",
            "pickup_longitude                   0         0.0\n",
            "pickup_latitude                    0         0.0\n",
            "passenger_count                    0         0.0\n",
            "dropoff_longitude                  1         0.0\n",
            "dropoff_latitude                   1         0.0\n"
          ]
        }
      ],
      "source": [
        "nvc = pd.DataFrame(df.isnull().sum().sort_values(), columns=['Total Null Values'])\n",
        "nvc['Percentage'] = round(nvc['Total Null Values']/df.shape[0],3)*100\n",
        "print(nvc)\n",
        "df.dropna(inplace=True)"
      ]
    },
    {
      "cell_type": "code",
      "execution_count": 17,
      "metadata": {
        "id": "3W_5xpMcQmpr"
      },
      "outputs": [],
      "source": [
        "\n",
        "from sklearn.impute import SimpleImputer\n",
        "\n",
        "imputer = SimpleImputer(missing_values=np.nan, strategy='mean')\n",
        "#apply it to features\n",
        "\n",
        "imputer.fit(df[['fare_amount','passenger_count']])\n",
        "df[['fare_amount','passenger_count']] = imputer.transform(df[['fare_amount','passenger_count']])"
      ]
    },
    {
      "cell_type": "code",
      "execution_count": 18,
      "metadata": {
        "colab": {
          "base_uri": "https://localhost:8080/"
        },
        "id": "s9eoANuYQn7k",
        "outputId": "3d9559e5-6772-4a7b-f847-c5a2d0db9f5d"
      },
      "outputs": [
        {
          "output_type": "stream",
          "name": "stdout",
          "text": [
            "<class 'pandas.core.frame.DataFrame'>\n",
            "Int64Index: 199999 entries, 0 to 199999\n",
            "Data columns (total 8 columns):\n",
            " #   Column             Non-Null Count   Dtype  \n",
            "---  ------             --------------   -----  \n",
            " 0   key                199999 non-null  object \n",
            " 1   fare_amount        199999 non-null  float64\n",
            " 2   pickup_datetime    199999 non-null  object \n",
            " 3   pickup_longitude   199999 non-null  float64\n",
            " 4   pickup_latitude    199999 non-null  float64\n",
            " 5   dropoff_longitude  199999 non-null  float64\n",
            " 6   dropoff_latitude   199999 non-null  float64\n",
            " 7   passenger_count    199999 non-null  float64\n",
            "dtypes: float64(6), object(2)\n",
            "memory usage: 13.7+ MB\n"
          ]
        }
      ],
      "source": [
        "df.info()"
      ]
    },
    {
      "cell_type": "code",
      "execution_count": 19,
      "metadata": {
        "id": "ctslXKcp7otM"
      },
      "outputs": [],
      "source": [
        "df['pickup_datetime'] = pd.to_datetime(df['pickup_datetime'], format='%Y-%m-%d %H:%M:%S UTC')"
      ]
    },
    {
      "cell_type": "code",
      "execution_count": 20,
      "metadata": {
        "id": "fy7bqloZ7Qus"
      },
      "outputs": [],
      "source": [
        "df['Hour'] = df['pickup_datetime'].dt.hour\n",
        "df['minute'] = df['pickup_datetime'].dt.minute\n",
        "df['date'] = df['pickup_datetime'].dt.day\n",
        "df['day'] = df['pickup_datetime'].dt.dayofweek\n",
        "df['month'] = df['pickup_datetime'].dt.month\n",
        "df['year'] = df['pickup_datetime'].dt.year\n",
        "df['Day of Week'] = df['pickup_datetime'].dt.dayofweek\n"
      ]
    },
    {
      "cell_type": "code",
      "execution_count": 21,
      "metadata": {
        "colab": {
          "base_uri": "https://localhost:8080/",
          "height": 392
        },
        "id": "6rhEgN2w7v0H",
        "outputId": "25ec259b-cd82-41ba-ea97-7c8ac5cce30c"
      },
      "outputs": [
        {
          "output_type": "execute_result",
          "data": {
            "text/plain": [
              "                             key  fare_amount     pickup_datetime  \\\n",
              "0    2015-05-07 19:52:06.0000003          7.5 2015-05-07 19:52:06   \n",
              "1    2009-07-17 20:04:56.0000002          7.7 2009-07-17 20:04:56   \n",
              "2   2009-08-24 21:45:00.00000061         12.9 2009-08-24 21:45:00   \n",
              "3    2009-06-26 08:22:21.0000001          5.3 2009-06-26 08:22:21   \n",
              "4  2014-08-28 17:47:00.000000188         16.0 2014-08-28 17:47:00   \n",
              "\n",
              "   pickup_longitude  pickup_latitude  dropoff_longitude  dropoff_latitude  \\\n",
              "0        -73.999817        40.738354         -73.999512         40.723217   \n",
              "1        -73.994355        40.728225         -73.994710         40.750325   \n",
              "2        -74.005043        40.740770         -73.962565         40.772647   \n",
              "3        -73.976124        40.790844         -73.965316         40.803349   \n",
              "4        -73.925023        40.744085         -73.973082         40.761247   \n",
              "\n",
              "   passenger_count  Hour  minute  date  day  month  year  Day of Week  \n",
              "0              1.0    19      52     7    3      5  2015            3  \n",
              "1              1.0    20       4    17    4      7  2009            4  \n",
              "2              1.0    21      45    24    0      8  2009            0  \n",
              "3              3.0     8      22    26    4      6  2009            4  \n",
              "4              5.0    17      47    28    3      8  2014            3  "
            ],
            "text/html": [
              "\n",
              "  <div id=\"df-e905c26b-6941-44c5-b3ef-2d59965d660a\">\n",
              "    <div class=\"colab-df-container\">\n",
              "      <div>\n",
              "<style scoped>\n",
              "    .dataframe tbody tr th:only-of-type {\n",
              "        vertical-align: middle;\n",
              "    }\n",
              "\n",
              "    .dataframe tbody tr th {\n",
              "        vertical-align: top;\n",
              "    }\n",
              "\n",
              "    .dataframe thead th {\n",
              "        text-align: right;\n",
              "    }\n",
              "</style>\n",
              "<table border=\"1\" class=\"dataframe\">\n",
              "  <thead>\n",
              "    <tr style=\"text-align: right;\">\n",
              "      <th></th>\n",
              "      <th>key</th>\n",
              "      <th>fare_amount</th>\n",
              "      <th>pickup_datetime</th>\n",
              "      <th>pickup_longitude</th>\n",
              "      <th>pickup_latitude</th>\n",
              "      <th>dropoff_longitude</th>\n",
              "      <th>dropoff_latitude</th>\n",
              "      <th>passenger_count</th>\n",
              "      <th>Hour</th>\n",
              "      <th>minute</th>\n",
              "      <th>date</th>\n",
              "      <th>day</th>\n",
              "      <th>month</th>\n",
              "      <th>year</th>\n",
              "      <th>Day of Week</th>\n",
              "    </tr>\n",
              "  </thead>\n",
              "  <tbody>\n",
              "    <tr>\n",
              "      <th>0</th>\n",
              "      <td>2015-05-07 19:52:06.0000003</td>\n",
              "      <td>7.5</td>\n",
              "      <td>2015-05-07 19:52:06</td>\n",
              "      <td>-73.999817</td>\n",
              "      <td>40.738354</td>\n",
              "      <td>-73.999512</td>\n",
              "      <td>40.723217</td>\n",
              "      <td>1.0</td>\n",
              "      <td>19</td>\n",
              "      <td>52</td>\n",
              "      <td>7</td>\n",
              "      <td>3</td>\n",
              "      <td>5</td>\n",
              "      <td>2015</td>\n",
              "      <td>3</td>\n",
              "    </tr>\n",
              "    <tr>\n",
              "      <th>1</th>\n",
              "      <td>2009-07-17 20:04:56.0000002</td>\n",
              "      <td>7.7</td>\n",
              "      <td>2009-07-17 20:04:56</td>\n",
              "      <td>-73.994355</td>\n",
              "      <td>40.728225</td>\n",
              "      <td>-73.994710</td>\n",
              "      <td>40.750325</td>\n",
              "      <td>1.0</td>\n",
              "      <td>20</td>\n",
              "      <td>4</td>\n",
              "      <td>17</td>\n",
              "      <td>4</td>\n",
              "      <td>7</td>\n",
              "      <td>2009</td>\n",
              "      <td>4</td>\n",
              "    </tr>\n",
              "    <tr>\n",
              "      <th>2</th>\n",
              "      <td>2009-08-24 21:45:00.00000061</td>\n",
              "      <td>12.9</td>\n",
              "      <td>2009-08-24 21:45:00</td>\n",
              "      <td>-74.005043</td>\n",
              "      <td>40.740770</td>\n",
              "      <td>-73.962565</td>\n",
              "      <td>40.772647</td>\n",
              "      <td>1.0</td>\n",
              "      <td>21</td>\n",
              "      <td>45</td>\n",
              "      <td>24</td>\n",
              "      <td>0</td>\n",
              "      <td>8</td>\n",
              "      <td>2009</td>\n",
              "      <td>0</td>\n",
              "    </tr>\n",
              "    <tr>\n",
              "      <th>3</th>\n",
              "      <td>2009-06-26 08:22:21.0000001</td>\n",
              "      <td>5.3</td>\n",
              "      <td>2009-06-26 08:22:21</td>\n",
              "      <td>-73.976124</td>\n",
              "      <td>40.790844</td>\n",
              "      <td>-73.965316</td>\n",
              "      <td>40.803349</td>\n",
              "      <td>3.0</td>\n",
              "      <td>8</td>\n",
              "      <td>22</td>\n",
              "      <td>26</td>\n",
              "      <td>4</td>\n",
              "      <td>6</td>\n",
              "      <td>2009</td>\n",
              "      <td>4</td>\n",
              "    </tr>\n",
              "    <tr>\n",
              "      <th>4</th>\n",
              "      <td>2014-08-28 17:47:00.000000188</td>\n",
              "      <td>16.0</td>\n",
              "      <td>2014-08-28 17:47:00</td>\n",
              "      <td>-73.925023</td>\n",
              "      <td>40.744085</td>\n",
              "      <td>-73.973082</td>\n",
              "      <td>40.761247</td>\n",
              "      <td>5.0</td>\n",
              "      <td>17</td>\n",
              "      <td>47</td>\n",
              "      <td>28</td>\n",
              "      <td>3</td>\n",
              "      <td>8</td>\n",
              "      <td>2014</td>\n",
              "      <td>3</td>\n",
              "    </tr>\n",
              "  </tbody>\n",
              "</table>\n",
              "</div>\n",
              "      <button class=\"colab-df-convert\" onclick=\"convertToInteractive('df-e905c26b-6941-44c5-b3ef-2d59965d660a')\"\n",
              "              title=\"Convert this dataframe to an interactive table.\"\n",
              "              style=\"display:none;\">\n",
              "        \n",
              "  <svg xmlns=\"http://www.w3.org/2000/svg\" height=\"24px\"viewBox=\"0 0 24 24\"\n",
              "       width=\"24px\">\n",
              "    <path d=\"M0 0h24v24H0V0z\" fill=\"none\"/>\n",
              "    <path d=\"M18.56 5.44l.94 2.06.94-2.06 2.06-.94-2.06-.94-.94-2.06-.94 2.06-2.06.94zm-11 1L8.5 8.5l.94-2.06 2.06-.94-2.06-.94L8.5 2.5l-.94 2.06-2.06.94zm10 10l.94 2.06.94-2.06 2.06-.94-2.06-.94-.94-2.06-.94 2.06-2.06.94z\"/><path d=\"M17.41 7.96l-1.37-1.37c-.4-.4-.92-.59-1.43-.59-.52 0-1.04.2-1.43.59L10.3 9.45l-7.72 7.72c-.78.78-.78 2.05 0 2.83L4 21.41c.39.39.9.59 1.41.59.51 0 1.02-.2 1.41-.59l7.78-7.78 2.81-2.81c.8-.78.8-2.07 0-2.86zM5.41 20L4 18.59l7.72-7.72 1.47 1.35L5.41 20z\"/>\n",
              "  </svg>\n",
              "      </button>\n",
              "      \n",
              "  <style>\n",
              "    .colab-df-container {\n",
              "      display:flex;\n",
              "      flex-wrap:wrap;\n",
              "      gap: 12px;\n",
              "    }\n",
              "\n",
              "    .colab-df-convert {\n",
              "      background-color: #E8F0FE;\n",
              "      border: none;\n",
              "      border-radius: 50%;\n",
              "      cursor: pointer;\n",
              "      display: none;\n",
              "      fill: #1967D2;\n",
              "      height: 32px;\n",
              "      padding: 0 0 0 0;\n",
              "      width: 32px;\n",
              "    }\n",
              "\n",
              "    .colab-df-convert:hover {\n",
              "      background-color: #E2EBFA;\n",
              "      box-shadow: 0px 1px 2px rgba(60, 64, 67, 0.3), 0px 1px 3px 1px rgba(60, 64, 67, 0.15);\n",
              "      fill: #174EA6;\n",
              "    }\n",
              "\n",
              "    [theme=dark] .colab-df-convert {\n",
              "      background-color: #3B4455;\n",
              "      fill: #D2E3FC;\n",
              "    }\n",
              "\n",
              "    [theme=dark] .colab-df-convert:hover {\n",
              "      background-color: #434B5C;\n",
              "      box-shadow: 0px 1px 3px 1px rgba(0, 0, 0, 0.15);\n",
              "      filter: drop-shadow(0px 1px 2px rgba(0, 0, 0, 0.3));\n",
              "      fill: #FFFFFF;\n",
              "    }\n",
              "  </style>\n",
              "\n",
              "      <script>\n",
              "        const buttonEl =\n",
              "          document.querySelector('#df-e905c26b-6941-44c5-b3ef-2d59965d660a button.colab-df-convert');\n",
              "        buttonEl.style.display =\n",
              "          google.colab.kernel.accessAllowed ? 'block' : 'none';\n",
              "\n",
              "        async function convertToInteractive(key) {\n",
              "          const element = document.querySelector('#df-e905c26b-6941-44c5-b3ef-2d59965d660a');\n",
              "          const dataTable =\n",
              "            await google.colab.kernel.invokeFunction('convertToInteractive',\n",
              "                                                     [key], {});\n",
              "          if (!dataTable) return;\n",
              "\n",
              "          const docLinkHtml = 'Like what you see? Visit the ' +\n",
              "            '<a target=\"_blank\" href=https://colab.research.google.com/notebooks/data_table.ipynb>data table notebook</a>'\n",
              "            + ' to learn more about interactive tables.';\n",
              "          element.innerHTML = '';\n",
              "          dataTable['output_type'] = 'display_data';\n",
              "          await google.colab.output.renderOutput(dataTable, element);\n",
              "          const docLink = document.createElement('div');\n",
              "          docLink.innerHTML = docLinkHtml;\n",
              "          element.appendChild(docLink);\n",
              "        }\n",
              "      </script>\n",
              "    </div>\n",
              "  </div>\n",
              "  "
            ]
          },
          "metadata": {},
          "execution_count": 21
        }
      ],
      "source": [
        "df.head()"
      ]
    },
    {
      "cell_type": "code",
      "execution_count": 22,
      "metadata": {
        "colab": {
          "base_uri": "https://localhost:8080/"
        },
        "id": "JgjvXk7d784H",
        "outputId": "df0912f6-c9ef-43b1-c06e-61d9f6fdfbeb"
      },
      "outputs": [
        {
          "output_type": "execute_result",
          "data": {
            "text/plain": [
              "(199999, 15)"
            ]
          },
          "metadata": {},
          "execution_count": 22
        }
      ],
      "source": [
        "df.shape"
      ]
    },
    {
      "cell_type": "code",
      "execution_count": 23,
      "metadata": {
        "id": "C-QghTaIIyMl"
      },
      "outputs": [],
      "source": [
        "df.drop(df[df['pickup_datetime'].isna()].index, inplace=True)"
      ]
    },
    {
      "cell_type": "code",
      "execution_count": 24,
      "metadata": {
        "id": "ymIcfRbqI2gS"
      },
      "outputs": [],
      "source": [
        "df.drop('pickup_datetime', axis=1, inplace=True)"
      ]
    },
    {
      "cell_type": "code",
      "execution_count": 24,
      "metadata": {
        "id": "jrl66LlaI7SI"
      },
      "outputs": [],
      "source": []
    },
    {
      "cell_type": "code",
      "execution_count": 25,
      "metadata": {
        "colab": {
          "base_uri": "https://localhost:8080/"
        },
        "id": "ZfvQ9mym8BIi",
        "outputId": "fd6dec82-facc-4e14-cac4-b04e6e4e6573"
      },
      "outputs": [
        {
          "output_type": "execute_result",
          "data": {
            "text/plain": [
              "day                       7\n",
              "year                      7\n",
              "Day of Week               7\n",
              "passenger_count           8\n",
              "month                    12\n",
              "Hour                     24\n",
              "date                     31\n",
              "minute                   60\n",
              "fare_amount            1244\n",
              "pickup_longitude      71065\n",
              "dropoff_longitude     76894\n",
              "pickup_latitude       83835\n",
              "dropoff_latitude      90585\n",
              "key                  199999\n",
              "dtype: int64"
            ]
          },
          "metadata": {},
          "execution_count": 25
        }
      ],
      "source": [
        "#Checking number of unique rows in each feature\n",
        "\n",
        "df.nunique().sort_values()"
      ]
    },
    {
      "cell_type": "code",
      "execution_count": 26,
      "metadata": {
        "colab": {
          "base_uri": "https://localhost:8080/",
          "height": 364
        },
        "id": "m9cWazkZXKXo",
        "outputId": "fa9db61c-feba-4b8d-9942-719b738f6e63"
      },
      "outputs": [
        {
          "output_type": "execute_result",
          "data": {
            "text/plain": [
              "         fare_amount  pickup_longitude  pickup_latitude  dropoff_longitude  \\\n",
              "count  199999.000000     199999.000000    199999.000000      199999.000000   \n",
              "mean       11.359892        -72.527631        39.935881         -72.525292   \n",
              "std         9.901760         11.437815         7.720558          13.117408   \n",
              "min       -52.000000      -1340.648410       -74.015515       -3356.666300   \n",
              "25%         6.000000        -73.992065        40.734796         -73.991407   \n",
              "50%         8.500000        -73.981823        40.752592         -73.980093   \n",
              "75%        12.500000        -73.967154        40.767158         -73.963658   \n",
              "max       499.000000         57.418457      1644.421482        1153.572603   \n",
              "\n",
              "       dropoff_latitude  passenger_count           Hour         minute  \\\n",
              "count     199999.000000    199999.000000  199999.000000  199999.000000   \n",
              "mean          39.923890         1.684543      13.491387      29.534848   \n",
              "std            6.794829         1.385995       6.515505      17.335443   \n",
              "min         -881.985513         0.000000       0.000000       0.000000   \n",
              "25%           40.733823         1.000000       9.000000      14.000000   \n",
              "50%           40.753042         1.000000      14.000000      30.000000   \n",
              "75%           40.768001         2.000000      19.000000      45.000000   \n",
              "max          872.697628       208.000000      23.000000      59.000000   \n",
              "\n",
              "                date            day          month           year  \\\n",
              "count  199999.000000  199999.000000  199999.000000  199999.000000   \n",
              "mean       15.704739       3.048435       6.281791    2011.742434   \n",
              "std         8.687377       1.946946       3.438933       1.856400   \n",
              "min         1.000000       0.000000       1.000000    2009.000000   \n",
              "25%         8.000000       1.000000       3.000000    2010.000000   \n",
              "50%        16.000000       3.000000       6.000000    2012.000000   \n",
              "75%        23.000000       5.000000       9.000000    2013.000000   \n",
              "max        31.000000       6.000000      12.000000    2015.000000   \n",
              "\n",
              "         Day of Week  \n",
              "count  199999.000000  \n",
              "mean        3.048435  \n",
              "std         1.946946  \n",
              "min         0.000000  \n",
              "25%         1.000000  \n",
              "50%         3.000000  \n",
              "75%         5.000000  \n",
              "max         6.000000  "
            ],
            "text/html": [
              "\n",
              "  <div id=\"df-2b665526-5d7c-4be4-a663-72eadbae12c5\">\n",
              "    <div class=\"colab-df-container\">\n",
              "      <div>\n",
              "<style scoped>\n",
              "    .dataframe tbody tr th:only-of-type {\n",
              "        vertical-align: middle;\n",
              "    }\n",
              "\n",
              "    .dataframe tbody tr th {\n",
              "        vertical-align: top;\n",
              "    }\n",
              "\n",
              "    .dataframe thead th {\n",
              "        text-align: right;\n",
              "    }\n",
              "</style>\n",
              "<table border=\"1\" class=\"dataframe\">\n",
              "  <thead>\n",
              "    <tr style=\"text-align: right;\">\n",
              "      <th></th>\n",
              "      <th>fare_amount</th>\n",
              "      <th>pickup_longitude</th>\n",
              "      <th>pickup_latitude</th>\n",
              "      <th>dropoff_longitude</th>\n",
              "      <th>dropoff_latitude</th>\n",
              "      <th>passenger_count</th>\n",
              "      <th>Hour</th>\n",
              "      <th>minute</th>\n",
              "      <th>date</th>\n",
              "      <th>day</th>\n",
              "      <th>month</th>\n",
              "      <th>year</th>\n",
              "      <th>Day of Week</th>\n",
              "    </tr>\n",
              "  </thead>\n",
              "  <tbody>\n",
              "    <tr>\n",
              "      <th>count</th>\n",
              "      <td>199999.000000</td>\n",
              "      <td>199999.000000</td>\n",
              "      <td>199999.000000</td>\n",
              "      <td>199999.000000</td>\n",
              "      <td>199999.000000</td>\n",
              "      <td>199999.000000</td>\n",
              "      <td>199999.000000</td>\n",
              "      <td>199999.000000</td>\n",
              "      <td>199999.000000</td>\n",
              "      <td>199999.000000</td>\n",
              "      <td>199999.000000</td>\n",
              "      <td>199999.000000</td>\n",
              "      <td>199999.000000</td>\n",
              "    </tr>\n",
              "    <tr>\n",
              "      <th>mean</th>\n",
              "      <td>11.359892</td>\n",
              "      <td>-72.527631</td>\n",
              "      <td>39.935881</td>\n",
              "      <td>-72.525292</td>\n",
              "      <td>39.923890</td>\n",
              "      <td>1.684543</td>\n",
              "      <td>13.491387</td>\n",
              "      <td>29.534848</td>\n",
              "      <td>15.704739</td>\n",
              "      <td>3.048435</td>\n",
              "      <td>6.281791</td>\n",
              "      <td>2011.742434</td>\n",
              "      <td>3.048435</td>\n",
              "    </tr>\n",
              "    <tr>\n",
              "      <th>std</th>\n",
              "      <td>9.901760</td>\n",
              "      <td>11.437815</td>\n",
              "      <td>7.720558</td>\n",
              "      <td>13.117408</td>\n",
              "      <td>6.794829</td>\n",
              "      <td>1.385995</td>\n",
              "      <td>6.515505</td>\n",
              "      <td>17.335443</td>\n",
              "      <td>8.687377</td>\n",
              "      <td>1.946946</td>\n",
              "      <td>3.438933</td>\n",
              "      <td>1.856400</td>\n",
              "      <td>1.946946</td>\n",
              "    </tr>\n",
              "    <tr>\n",
              "      <th>min</th>\n",
              "      <td>-52.000000</td>\n",
              "      <td>-1340.648410</td>\n",
              "      <td>-74.015515</td>\n",
              "      <td>-3356.666300</td>\n",
              "      <td>-881.985513</td>\n",
              "      <td>0.000000</td>\n",
              "      <td>0.000000</td>\n",
              "      <td>0.000000</td>\n",
              "      <td>1.000000</td>\n",
              "      <td>0.000000</td>\n",
              "      <td>1.000000</td>\n",
              "      <td>2009.000000</td>\n",
              "      <td>0.000000</td>\n",
              "    </tr>\n",
              "    <tr>\n",
              "      <th>25%</th>\n",
              "      <td>6.000000</td>\n",
              "      <td>-73.992065</td>\n",
              "      <td>40.734796</td>\n",
              "      <td>-73.991407</td>\n",
              "      <td>40.733823</td>\n",
              "      <td>1.000000</td>\n",
              "      <td>9.000000</td>\n",
              "      <td>14.000000</td>\n",
              "      <td>8.000000</td>\n",
              "      <td>1.000000</td>\n",
              "      <td>3.000000</td>\n",
              "      <td>2010.000000</td>\n",
              "      <td>1.000000</td>\n",
              "    </tr>\n",
              "    <tr>\n",
              "      <th>50%</th>\n",
              "      <td>8.500000</td>\n",
              "      <td>-73.981823</td>\n",
              "      <td>40.752592</td>\n",
              "      <td>-73.980093</td>\n",
              "      <td>40.753042</td>\n",
              "      <td>1.000000</td>\n",
              "      <td>14.000000</td>\n",
              "      <td>30.000000</td>\n",
              "      <td>16.000000</td>\n",
              "      <td>3.000000</td>\n",
              "      <td>6.000000</td>\n",
              "      <td>2012.000000</td>\n",
              "      <td>3.000000</td>\n",
              "    </tr>\n",
              "    <tr>\n",
              "      <th>75%</th>\n",
              "      <td>12.500000</td>\n",
              "      <td>-73.967154</td>\n",
              "      <td>40.767158</td>\n",
              "      <td>-73.963658</td>\n",
              "      <td>40.768001</td>\n",
              "      <td>2.000000</td>\n",
              "      <td>19.000000</td>\n",
              "      <td>45.000000</td>\n",
              "      <td>23.000000</td>\n",
              "      <td>5.000000</td>\n",
              "      <td>9.000000</td>\n",
              "      <td>2013.000000</td>\n",
              "      <td>5.000000</td>\n",
              "    </tr>\n",
              "    <tr>\n",
              "      <th>max</th>\n",
              "      <td>499.000000</td>\n",
              "      <td>57.418457</td>\n",
              "      <td>1644.421482</td>\n",
              "      <td>1153.572603</td>\n",
              "      <td>872.697628</td>\n",
              "      <td>208.000000</td>\n",
              "      <td>23.000000</td>\n",
              "      <td>59.000000</td>\n",
              "      <td>31.000000</td>\n",
              "      <td>6.000000</td>\n",
              "      <td>12.000000</td>\n",
              "      <td>2015.000000</td>\n",
              "      <td>6.000000</td>\n",
              "    </tr>\n",
              "  </tbody>\n",
              "</table>\n",
              "</div>\n",
              "      <button class=\"colab-df-convert\" onclick=\"convertToInteractive('df-2b665526-5d7c-4be4-a663-72eadbae12c5')\"\n",
              "              title=\"Convert this dataframe to an interactive table.\"\n",
              "              style=\"display:none;\">\n",
              "        \n",
              "  <svg xmlns=\"http://www.w3.org/2000/svg\" height=\"24px\"viewBox=\"0 0 24 24\"\n",
              "       width=\"24px\">\n",
              "    <path d=\"M0 0h24v24H0V0z\" fill=\"none\"/>\n",
              "    <path d=\"M18.56 5.44l.94 2.06.94-2.06 2.06-.94-2.06-.94-.94-2.06-.94 2.06-2.06.94zm-11 1L8.5 8.5l.94-2.06 2.06-.94-2.06-.94L8.5 2.5l-.94 2.06-2.06.94zm10 10l.94 2.06.94-2.06 2.06-.94-2.06-.94-.94-2.06-.94 2.06-2.06.94z\"/><path d=\"M17.41 7.96l-1.37-1.37c-.4-.4-.92-.59-1.43-.59-.52 0-1.04.2-1.43.59L10.3 9.45l-7.72 7.72c-.78.78-.78 2.05 0 2.83L4 21.41c.39.39.9.59 1.41.59.51 0 1.02-.2 1.41-.59l7.78-7.78 2.81-2.81c.8-.78.8-2.07 0-2.86zM5.41 20L4 18.59l7.72-7.72 1.47 1.35L5.41 20z\"/>\n",
              "  </svg>\n",
              "      </button>\n",
              "      \n",
              "  <style>\n",
              "    .colab-df-container {\n",
              "      display:flex;\n",
              "      flex-wrap:wrap;\n",
              "      gap: 12px;\n",
              "    }\n",
              "\n",
              "    .colab-df-convert {\n",
              "      background-color: #E8F0FE;\n",
              "      border: none;\n",
              "      border-radius: 50%;\n",
              "      cursor: pointer;\n",
              "      display: none;\n",
              "      fill: #1967D2;\n",
              "      height: 32px;\n",
              "      padding: 0 0 0 0;\n",
              "      width: 32px;\n",
              "    }\n",
              "\n",
              "    .colab-df-convert:hover {\n",
              "      background-color: #E2EBFA;\n",
              "      box-shadow: 0px 1px 2px rgba(60, 64, 67, 0.3), 0px 1px 3px 1px rgba(60, 64, 67, 0.15);\n",
              "      fill: #174EA6;\n",
              "    }\n",
              "\n",
              "    [theme=dark] .colab-df-convert {\n",
              "      background-color: #3B4455;\n",
              "      fill: #D2E3FC;\n",
              "    }\n",
              "\n",
              "    [theme=dark] .colab-df-convert:hover {\n",
              "      background-color: #434B5C;\n",
              "      box-shadow: 0px 1px 3px 1px rgba(0, 0, 0, 0.15);\n",
              "      filter: drop-shadow(0px 1px 2px rgba(0, 0, 0, 0.3));\n",
              "      fill: #FFFFFF;\n",
              "    }\n",
              "  </style>\n",
              "\n",
              "      <script>\n",
              "        const buttonEl =\n",
              "          document.querySelector('#df-2b665526-5d7c-4be4-a663-72eadbae12c5 button.colab-df-convert');\n",
              "        buttonEl.style.display =\n",
              "          google.colab.kernel.accessAllowed ? 'block' : 'none';\n",
              "\n",
              "        async function convertToInteractive(key) {\n",
              "          const element = document.querySelector('#df-2b665526-5d7c-4be4-a663-72eadbae12c5');\n",
              "          const dataTable =\n",
              "            await google.colab.kernel.invokeFunction('convertToInteractive',\n",
              "                                                     [key], {});\n",
              "          if (!dataTable) return;\n",
              "\n",
              "          const docLinkHtml = 'Like what you see? Visit the ' +\n",
              "            '<a target=\"_blank\" href=https://colab.research.google.com/notebooks/data_table.ipynb>data table notebook</a>'\n",
              "            + ' to learn more about interactive tables.';\n",
              "          element.innerHTML = '';\n",
              "          dataTable['output_type'] = 'display_data';\n",
              "          await google.colab.output.renderOutput(dataTable, element);\n",
              "          const docLink = document.createElement('div');\n",
              "          docLink.innerHTML = docLinkHtml;\n",
              "          element.appendChild(docLink);\n",
              "        }\n",
              "      </script>\n",
              "    </div>\n",
              "  </div>\n",
              "  "
            ]
          },
          "metadata": {},
          "execution_count": 26
        }
      ],
      "source": [
        "df.describe()"
      ]
    },
    {
      "cell_type": "code",
      "execution_count": 27,
      "metadata": {
        "colab": {
          "base_uri": "https://localhost:8080/",
          "height": 324
        },
        "id": "FQnJv3ZkRNV5",
        "outputId": "fc32bbeb-29d7-40c0-a799-84eb333cf55c"
      },
      "outputs": [
        {
          "output_type": "execute_result",
          "data": {
            "text/plain": [
              "<matplotlib.axes._subplots.AxesSubplot at 0x7f11da202e90>"
            ]
          },
          "metadata": {},
          "execution_count": 27
        },
        {
          "output_type": "display_data",
          "data": {
            "text/plain": [
              "<Figure size 720x360 with 1 Axes>"
            ],
            "image/png": "[encoded data removed]"
          },
          "metadata": {
            "needs_background": "light"
          }
        }
      ],
      "source": [
        "plt.figure(figsize=(10,5))\n",
        "sns.boxplot(y=df['passenger_count'])"
      ]
    },
    {
      "cell_type": "code",
      "execution_count": 28,
      "metadata": {
        "colab": {
          "base_uri": "https://localhost:8080/",
          "height": 324
        },
        "id": "snNxNDHzRQ6u",
        "outputId": "52546cc8-f0ad-4e30-bd31-f3851fc1f99c"
      },
      "outputs": [
        {
          "output_type": "execute_result",
          "data": {
            "text/plain": [
              "<matplotlib.axes._subplots.AxesSubplot at 0x7f11da148c10>"
            ]
          },
          "metadata": {},
          "execution_count": 28
        },
        {
          "output_type": "display_data",
          "data": {
            "text/plain": [
              "<Figure size 720x360 with 1 Axes>"
            ],
            "image/png": "[encoded data removed]"
          },
          "metadata": {
            "needs_background": "light"
          }
        }
      ],
      "source": [
        "plt.figure(figsize=(10,5))\n",
        "sns.boxplot(y=df['fare_amount'])"
      ]
    },
    {
      "cell_type": "code",
      "execution_count": 29,
      "metadata": {
        "colab": {
          "base_uri": "https://localhost:8080/"
        },
        "id": "cbwG_2qfRbmU",
        "outputId": "d10b00fc-910b-4a2c-d16a-60a26a7689d0"
      },
      "outputs": [
        {
          "output_type": "stream",
          "name": "stdout",
          "text": [
            "Lower : -0.5\n",
            "Upper : 3.5\n"
          ]
        }
      ],
      "source": [
        "Q1 = df['passenger_count'].quantile(0.25)\n",
        "Q3 = df['passenger_count'].quantile(0.75)\n",
        "\n",
        "IQR = Q3 - Q1\n",
        "\n",
        "lower = Q1 - 1.5*IQR\n",
        "upper = Q3 + 1.5*IQR\n",
        "print('Lower :',lower)\n",
        "print('Upper :',upper)"
      ]
    },
    {
      "cell_type": "code",
      "execution_count": 30,
      "metadata": {
        "colab": {
          "base_uri": "https://localhost:8080/"
        },
        "id": "VzC7cj2WSfIl",
        "outputId": "0a119c40-16e2-4bfb-dc0d-86125ae3fe74"
      },
      "outputs": [
        {
          "output_type": "execute_result",
          "data": {
            "text/plain": [
              "89854     0.0\n",
              "43510     0.0\n",
              "21596     0.0\n",
              "122964    0.0\n",
              "35212     0.0\n",
              "16209     0.0\n",
              "101601    0.0\n",
              "7321      0.0\n",
              "63746     0.0\n",
              "44645     0.0\n",
              "Name: passenger_count, dtype: float64"
            ]
          },
          "metadata": {},
          "execution_count": 30
        }
      ],
      "source": [
        "df['passenger_count'].sort_values(ascending=True).head(10)"
      ]
    },
    {
      "cell_type": "code",
      "execution_count": 31,
      "metadata": {
        "id": "FxLl_-BsS5cD"
      },
      "outputs": [],
      "source": [
        "df.drop(df[df['passenger_count'] > 4 ].index, inplace = True)\n",
        "df.drop(df[df['passenger_count'] < 0 ].index, inplace = True)\n",
        "df.drop(df[df['passenger_count'] == 0.12 ].index, inplace = True)\n",
        "df.drop(df[df['passenger_count'].isna() ].index, inplace = True)"
      ]
    },
    {
      "cell_type": "code",
      "execution_count": 32,
      "metadata": {
        "colab": {
          "base_uri": "https://localhost:8080/"
        },
        "id": "jGEeX1pQXbrB",
        "outputId": "dca6006d-d70d-46dd-a4d0-ccca94c95ac4"
      },
      "outputs": [
        {
          "output_type": "stream",
          "name": "stdout",
          "text": [
            "Lower : -3.75\n",
            "Upper : 22.25\n"
          ]
        }
      ],
      "source": [
        "Q1 = df['fare_amount'].quantile(0.25)\n",
        "Q3 = df['fare_amount'].quantile(0.75)\n",
        "\n",
        "IQR = Q3 - Q1\n",
        "\n",
        "lower = Q1 - 1.5*IQR\n",
        "upper = Q3 + 1.5*IQR\n",
        "print('Lower :',lower)\n",
        "print('Upper :',upper)"
      ]
    },
    {
      "cell_type": "code",
      "execution_count": 33,
      "metadata": {
        "colab": {
          "base_uri": "https://localhost:8080/"
        },
        "id": "HTpPDaZxX2ZJ",
        "outputId": "786abb85-ac2e-4271-a3a8-9d5534c3f077"
      },
      "outputs": [
        {
          "output_type": "execute_result",
          "data": {
            "text/plain": [
              "164056   -50.5\n",
              "92063    -23.7\n",
              "151681   -10.9\n",
              "104080    -7.3\n",
              "139272    -6.9\n",
              "148803    -5.7\n",
              "190925    -5.5\n",
              "63395     -5.0\n",
              "179111    -3.5\n",
              "157412    -3.5\n",
              "Name: fare_amount, dtype: float64"
            ]
          },
          "metadata": {},
          "execution_count": 33
        }
      ],
      "source": [
        "df['fare_amount'].sort_values(ascending=True).head(10)"
      ]
    },
    {
      "cell_type": "code",
      "execution_count": 34,
      "metadata": {
        "id": "gmBkfYbYYfZg"
      },
      "outputs": [],
      "source": [
        "df.drop(df[df['fare_amount'] > 150 ].index, inplace = True)\n",
        "df.drop(df[df['fare_amount'] == 0 ].index, inplace = True)\n",
        "df.drop(df[df['fare_amount'] < 0 ].index, inplace = True)\n",
        "df.drop(df[df['fare_amount'].isna() ].index, inplace = True)"
      ]
    },
    {
      "cell_type": "code",
      "execution_count": 35,
      "metadata": {
        "colab": {
          "base_uri": "https://localhost:8080/"
        },
        "id": "XaWeT0HKZJbd",
        "outputId": "7b7eab88-46d8-4a36-c9b0-ff9d067f107b"
      },
      "outputs": [
        {
          "output_type": "execute_result",
          "data": {
            "text/plain": [
              "21658     0.01\n",
              "191228    0.01\n",
              "149342    0.11\n",
              "180962    2.50\n",
              "94873     2.50\n",
              "32378     2.50\n",
              "79205     2.50\n",
              "159971    2.50\n",
              "165621    2.50\n",
              "198554    2.50\n",
              "Name: fare_amount, dtype: float64"
            ]
          },
          "metadata": {},
          "execution_count": 35
        }
      ],
      "source": [
        "df['fare_amount'].sort_values(ascending=True).head(10)"
      ]
    },
    {
      "cell_type": "code",
      "execution_count": 36,
      "metadata": {
        "colab": {
          "base_uri": "https://localhost:8080/",
          "height": 364
        },
        "id": "oLXPgwlOYnK6",
        "outputId": "a237b33b-f226-4c44-efb7-d3775f71854b"
      },
      "outputs": [
        {
          "output_type": "execute_result",
          "data": {
            "text/plain": [
              "         fare_amount  pickup_longitude  pickup_latitude  dropoff_longitude  \\\n",
              "count  181678.000000     181678.000000    181678.000000      181678.000000   \n",
              "mean       11.330844        -72.526859        39.940636         -72.530457   \n",
              "std         9.646479         11.410992         7.814976          13.336782   \n",
              "min         0.010000      -1340.648410       -74.015515       -3356.666300   \n",
              "25%         6.000000        -73.992054        40.734814         -73.991413   \n",
              "50%         8.500000        -73.981820        40.752554         -73.980091   \n",
              "75%        12.500000        -73.967168        40.767157         -73.963673   \n",
              "max       150.000000         57.418457      1644.421482        1153.572603   \n",
              "\n",
              "       dropoff_latitude  passenger_count           Hour         minute  \\\n",
              "count     181678.000000    181678.000000  181678.000000  181678.000000   \n",
              "mean          39.929866         1.326380      13.487406      29.530218   \n",
              "std            6.796156         0.683075       6.517458      17.340050   \n",
              "min         -881.985513         0.000000       0.000000       0.000000   \n",
              "25%           40.733835         1.000000       9.000000      14.000000   \n",
              "50%           40.753017         1.000000      14.000000      30.000000   \n",
              "75%           40.767992         1.000000      19.000000      45.000000   \n",
              "max          872.697628         4.000000      23.000000      59.000000   \n",
              "\n",
              "                date            day          month           year  \\\n",
              "count  181678.000000  181678.000000  181678.000000  181678.000000   \n",
              "mean       15.702413       3.045751       6.277386    2011.738736   \n",
              "std         8.694496       1.946744       3.438828       1.856595   \n",
              "min         1.000000       0.000000       1.000000    2009.000000   \n",
              "25%         8.000000       1.000000       3.000000    2010.000000   \n",
              "50%        16.000000       3.000000       6.000000    2012.000000   \n",
              "75%        23.000000       5.000000       9.000000    2013.000000   \n",
              "max        31.000000       6.000000      12.000000    2015.000000   \n",
              "\n",
              "         Day of Week  \n",
              "count  181678.000000  \n",
              "mean        3.045751  \n",
              "std         1.946744  \n",
              "min         0.000000  \n",
              "25%         1.000000  \n",
              "50%         3.000000  \n",
              "75%         5.000000  \n",
              "max         6.000000  "
            ],
            "text/html": [
              "\n",
              "  <div id=\"df-fbf45521-9921-4ca6-be41-49f4940846b9\">\n",
              "    <div class=\"colab-df-container\">\n",
              "      <div>\n",
              "<style scoped>\n",
              "    .dataframe tbody tr th:only-of-type {\n",
              "        vertical-align: middle;\n",
              "    }\n",
              "\n",
              "    .dataframe tbody tr th {\n",
              "        vertical-align: top;\n",
              "    }\n",
              "\n",
              "    .dataframe thead th {\n",
              "        text-align: right;\n",
              "    }\n",
              "</style>\n",
              "<table border=\"1\" class=\"dataframe\">\n",
              "  <thead>\n",
              "    <tr style=\"text-align: right;\">\n",
              "      <th></th>\n",
              "      <th>fare_amount</th>\n",
              "      <th>pickup_longitude</th>\n",
              "      <th>pickup_latitude</th>\n",
              "      <th>dropoff_longitude</th>\n",
              "      <th>dropoff_latitude</th>\n",
              "      <th>passenger_count</th>\n",
              "      <th>Hour</th>\n",
              "      <th>minute</th>\n",
              "      <th>date</th>\n",
              "      <th>day</th>\n",
              "      <th>month</th>\n",
              "      <th>year</th>\n",
              "      <th>Day of Week</th>\n",
              "    </tr>\n",
              "  </thead>\n",
              "  <tbody>\n",
              "    <tr>\n",
              "      <th>count</th>\n",
              "      <td>181678.000000</td>\n",
              "      <td>181678.000000</td>\n",
              "      <td>181678.000000</td>\n",
              "      <td>181678.000000</td>\n",
              "      <td>181678.000000</td>\n",
              "      <td>181678.000000</td>\n",
              "      <td>181678.000000</td>\n",
              "      <td>181678.000000</td>\n",
              "      <td>181678.000000</td>\n",
              "      <td>181678.000000</td>\n",
              "      <td>181678.000000</td>\n",
              "      <td>181678.000000</td>\n",
              "      <td>181678.000000</td>\n",
              "    </tr>\n",
              "    <tr>\n",
              "      <th>mean</th>\n",
              "      <td>11.330844</td>\n",
              "      <td>-72.526859</td>\n",
              "      <td>39.940636</td>\n",
              "      <td>-72.530457</td>\n",
              "      <td>39.929866</td>\n",
              "      <td>1.326380</td>\n",
              "      <td>13.487406</td>\n",
              "      <td>29.530218</td>\n",
              "      <td>15.702413</td>\n",
              "      <td>3.045751</td>\n",
              "      <td>6.277386</td>\n",
              "      <td>2011.738736</td>\n",
              "      <td>3.045751</td>\n",
              "    </tr>\n",
              "    <tr>\n",
              "      <th>std</th>\n",
              "      <td>9.646479</td>\n",
              "      <td>11.410992</td>\n",
              "      <td>7.814976</td>\n",
              "      <td>13.336782</td>\n",
              "      <td>6.796156</td>\n",
              "      <td>0.683075</td>\n",
              "      <td>6.517458</td>\n",
              "      <td>17.340050</td>\n",
              "      <td>8.694496</td>\n",
              "      <td>1.946744</td>\n",
              "      <td>3.438828</td>\n",
              "      <td>1.856595</td>\n",
              "      <td>1.946744</td>\n",
              "    </tr>\n",
              "    <tr>\n",
              "      <th>min</th>\n",
              "      <td>0.010000</td>\n",
              "      <td>-1340.648410</td>\n",
              "      <td>-74.015515</td>\n",
              "      <td>-3356.666300</td>\n",
              "      <td>-881.985513</td>\n",
              "      <td>0.000000</td>\n",
              "      <td>0.000000</td>\n",
              "      <td>0.000000</td>\n",
              "      <td>1.000000</td>\n",
              "      <td>0.000000</td>\n",
              "      <td>1.000000</td>\n",
              "      <td>2009.000000</td>\n",
              "      <td>0.000000</td>\n",
              "    </tr>\n",
              "    <tr>\n",
              "      <th>25%</th>\n",
              "      <td>6.000000</td>\n",
              "      <td>-73.992054</td>\n",
              "      <td>40.734814</td>\n",
              "      <td>-73.991413</td>\n",
              "      <td>40.733835</td>\n",
              "      <td>1.000000</td>\n",
              "      <td>9.000000</td>\n",
              "      <td>14.000000</td>\n",
              "      <td>8.000000</td>\n",
              "      <td>1.000000</td>\n",
              "      <td>3.000000</td>\n",
              "      <td>2010.000000</td>\n",
              "      <td>1.000000</td>\n",
              "    </tr>\n",
              "    <tr>\n",
              "      <th>50%</th>\n",
              "      <td>8.500000</td>\n",
              "      <td>-73.981820</td>\n",
              "      <td>40.752554</td>\n",
              "      <td>-73.980091</td>\n",
              "      <td>40.753017</td>\n",
              "      <td>1.000000</td>\n",
              "      <td>14.000000</td>\n",
              "      <td>30.000000</td>\n",
              "      <td>16.000000</td>\n",
              "      <td>3.000000</td>\n",
              "      <td>6.000000</td>\n",
              "      <td>2012.000000</td>\n",
              "      <td>3.000000</td>\n",
              "    </tr>\n",
              "    <tr>\n",
              "      <th>75%</th>\n",
              "      <td>12.500000</td>\n",
              "      <td>-73.967168</td>\n",
              "      <td>40.767157</td>\n",
              "      <td>-73.963673</td>\n",
              "      <td>40.767992</td>\n",
              "      <td>1.000000</td>\n",
              "      <td>19.000000</td>\n",
              "      <td>45.000000</td>\n",
              "      <td>23.000000</td>\n",
              "      <td>5.000000</td>\n",
              "      <td>9.000000</td>\n",
              "      <td>2013.000000</td>\n",
              "      <td>5.000000</td>\n",
              "    </tr>\n",
              "    <tr>\n",
              "      <th>max</th>\n",
              "      <td>150.000000</td>\n",
              "      <td>57.418457</td>\n",
              "      <td>1644.421482</td>\n",
              "      <td>1153.572603</td>\n",
              "      <td>872.697628</td>\n",
              "      <td>4.000000</td>\n",
              "      <td>23.000000</td>\n",
              "      <td>59.000000</td>\n",
              "      <td>31.000000</td>\n",
              "      <td>6.000000</td>\n",
              "      <td>12.000000</td>\n",
              "      <td>2015.000000</td>\n",
              "      <td>6.000000</td>\n",
              "    </tr>\n",
              "  </tbody>\n",
              "</table>\n",
              "</div>\n",
              "      <button class=\"colab-df-convert\" onclick=\"convertToInteractive('df-fbf45521-9921-4ca6-be41-49f4940846b9')\"\n",
              "              title=\"Convert this dataframe to an interactive table.\"\n",
              "              style=\"display:none;\">\n",
              "        \n",
              "  <svg xmlns=\"http://www.w3.org/2000/svg\" height=\"24px\"viewBox=\"0 0 24 24\"\n",
              "       width=\"24px\">\n",
              "    <path d=\"M0 0h24v24H0V0z\" fill=\"none\"/>\n",
              "    <path d=\"M18.56 5.44l.94 2.06.94-2.06 2.06-.94-2.06-.94-.94-2.06-.94 2.06-2.06.94zm-11 1L8.5 8.5l.94-2.06 2.06-.94-2.06-.94L8.5 2.5l-.94 2.06-2.06.94zm10 10l.94 2.06.94-2.06 2.06-.94-2.06-.94-.94-2.06-.94 2.06-2.06.94z\"/><path d=\"M17.41 7.96l-1.37-1.37c-.4-.4-.92-.59-1.43-.59-.52 0-1.04.2-1.43.59L10.3 9.45l-7.72 7.72c-.78.78-.78 2.05 0 2.83L4 21.41c.39.39.9.59 1.41.59.51 0 1.02-.2 1.41-.59l7.78-7.78 2.81-2.81c.8-.78.8-2.07 0-2.86zM5.41 20L4 18.59l7.72-7.72 1.47 1.35L5.41 20z\"/>\n",
              "  </svg>\n",
              "      </button>\n",
              "      \n",
              "  <style>\n",
              "    .colab-df-container {\n",
              "      display:flex;\n",
              "      flex-wrap:wrap;\n",
              "      gap: 12px;\n",
              "    }\n",
              "\n",
              "    .colab-df-convert {\n",
              "      background-color: #E8F0FE;\n",
              "      border: none;\n",
              "      border-radius: 50%;\n",
              "      cursor: pointer;\n",
              "      display: none;\n",
              "      fill: #1967D2;\n",
              "      height: 32px;\n",
              "      padding: 0 0 0 0;\n",
              "      width: 32px;\n",
              "    }\n",
              "\n",
              "    .colab-df-convert:hover {\n",
              "      background-color: #E2EBFA;\n",
              "      box-shadow: 0px 1px 2px rgba(60, 64, 67, 0.3), 0px 1px 3px 1px rgba(60, 64, 67, 0.15);\n",
              "      fill: #174EA6;\n",
              "    }\n",
              "\n",
              "    [theme=dark] .colab-df-convert {\n",
              "      background-color: #3B4455;\n",
              "      fill: #D2E3FC;\n",
              "    }\n",
              "\n",
              "    [theme=dark] .colab-df-convert:hover {\n",
              "      background-color: #434B5C;\n",
              "      box-shadow: 0px 1px 3px 1px rgba(0, 0, 0, 0.15);\n",
              "      filter: drop-shadow(0px 1px 2px rgba(0, 0, 0, 0.3));\n",
              "      fill: #FFFFFF;\n",
              "    }\n",
              "  </style>\n",
              "\n",
              "      <script>\n",
              "        const buttonEl =\n",
              "          document.querySelector('#df-fbf45521-9921-4ca6-be41-49f4940846b9 button.colab-df-convert');\n",
              "        buttonEl.style.display =\n",
              "          google.colab.kernel.accessAllowed ? 'block' : 'none';\n",
              "\n",
              "        async function convertToInteractive(key) {\n",
              "          const element = document.querySelector('#df-fbf45521-9921-4ca6-be41-49f4940846b9');\n",
              "          const dataTable =\n",
              "            await google.colab.kernel.invokeFunction('convertToInteractive',\n",
              "                                                     [key], {});\n",
              "          if (!dataTable) return;\n",
              "\n",
              "          const docLinkHtml = 'Like what you see? Visit the ' +\n",
              "            '<a target=\"_blank\" href=https://colab.research.google.com/notebooks/data_table.ipynb>data table notebook</a>'\n",
              "            + ' to learn more about interactive tables.';\n",
              "          element.innerHTML = '';\n",
              "          dataTable['output_type'] = 'display_data';\n",
              "          await google.colab.output.renderOutput(dataTable, element);\n",
              "          const docLink = document.createElement('div');\n",
              "          docLink.innerHTML = docLinkHtml;\n",
              "          element.appendChild(docLink);\n",
              "        }\n",
              "      </script>\n",
              "    </div>\n",
              "  </div>\n",
              "  "
            ]
          },
          "metadata": {},
          "execution_count": 36
        }
      ],
      "source": [
        "df.describe()"
      ]
    },
    {
      "cell_type": "markdown",
      "metadata": {
        "id": "FjePgNXJZOh3"
      },
      "source": [
        "3. Pickup and dropoff latitude should be (-90 to 90 )"
      ]
    },
    {
      "cell_type": "code",
      "execution_count": 37,
      "metadata": {
        "id": "sKyShxrYZHpd"
      },
      "outputs": [],
      "source": [
        "df.drop(df[df['pickup_latitude'] < -90].index, inplace=True)\n",
        "df.drop(df[df['dropoff_latitude'] > 90].index, inplace=True)\n"
      ]
    },
    {
      "cell_type": "markdown",
      "metadata": {
        "id": "AoeENJU2ZdGO"
      },
      "source": [
        "4. Pickup and dropoff longtitude should be ( -180 to 180 )"
      ]
    },
    {
      "cell_type": "code",
      "execution_count": 38,
      "metadata": {
        "id": "mLOhYgCcZbgF"
      },
      "outputs": [],
      "source": [
        "\n",
        "df.drop(df[df['pickup_longitude'] > 180].index, inplace=True)\n",
        "df.drop(df[df['pickup_longitude'] < -180].index, inplace=True)\n"
      ]
    },
    {
      "cell_type": "code",
      "execution_count": 39,
      "metadata": {
        "colab": {
          "base_uri": "https://localhost:8080/"
        },
        "id": "p01sctWlZtuM",
        "outputId": "ffb8ea33-2532-42fc-abe5-e8afb5db45c7"
      },
      "outputs": [
        {
          "output_type": "execute_result",
          "data": {
            "text/plain": [
              "key                  0\n",
              "fare_amount          0\n",
              "pickup_longitude     0\n",
              "pickup_latitude      0\n",
              "dropoff_longitude    0\n",
              "dropoff_latitude     0\n",
              "passenger_count      0\n",
              "Hour                 0\n",
              "minute               0\n",
              "date                 0\n",
              "day                  0\n",
              "month                0\n",
              "year                 0\n",
              "Day of Week          0\n",
              "dtype: int64"
            ]
          },
          "metadata": {},
          "execution_count": 39
        }
      ],
      "source": [
        "df.isnull().sum()"
      ]
    },
    {
      "cell_type": "markdown",
      "metadata": {
        "id": "xHV5jXkam611"
      },
      "source": [
        "Now, for EDA. The following are my considerations -\n",
        "\n",
        "Does the number of passengers affect the fare?\n",
        "\n",
        "Does the date and time of pickup affect the fare?\n",
        "\n",
        "Does the day of the week affect the fare?\n",
        "\n",
        "Does the distance travelled affect the fare?\n",
        "\n",
        "First, let's split the datetime field 'pickup_datetime' to the following -\n",
        "\n",
        "1. year\n",
        "2. month\n",
        "3. date\n",
        "4. hour\n",
        "5. minute\n",
        "5. day of week\n",
        "\n",
        "Using these we shall calculate the day of the week and come to our conclusions about how pickup_location affects the fare. Also, create a new field 'distance' to fetch the distance between the pickup and the drop."
      ]
    },
    {
      "cell_type": "markdown",
      "metadata": {
        "id": "4ICLZWXmHA-R"
      },
      "source": [
        "**Distance**\n",
        "\n",
        "This uses the **haversine** formula to calculate the great-circle distance between two points – that is, the shortest distance over the earth’s surface – giving an ‘as-the-crow-flies’ distance between the points (ignoring any hills they fly over, of course!).\n",
        "\n",
        "Haversine\n",
        "formula:\ta = sin²(Δφ/2) + cos φ1 ⋅ cos φ2 ⋅ sin²(Δλ/2)\n",
        "\n",
        "c = 2 ⋅ atan2( √a, √(1−a) )\n",
        "\n",
        "d = R ⋅ c\n",
        "\n",
        "where\tφ is latitude, λ is longitude, R is earth’s radius (mean radius = 6,371km);\n",
        "note that angles need to be in radians to pass to trig functions!"
      ]
    },
    {
      "cell_type": "code",
      "execution_count": 40,
      "metadata": {
        "id": "7fJn-71JB2Kq"
      },
      "outputs": [],
      "source": [
        "from math import *\n",
        "\n",
        "def haversine(a):\n",
        "    lon1=a[0]\n",
        "    lat1=a[1]\n",
        "    lon2=a[2]\n",
        "    lat2=a[3]\n",
        "    \"\"\"\n",
        "    Calculate the great circle distance between two points \n",
        "    on the earth (specified in decimal degrees)\n",
        "    \"\"\"\n",
        "    # convert decimal degrees to radians \n",
        "    lon1, lat1, lon2, lat2 = map(radians, [lon1, lat1, lon2, lat2])\n",
        "    \n",
        "    # haversine formula \n",
        "    dlon = lon2 - lon1 \n",
        "    dlat = lat2 - lat1 \n",
        "    a = sin(dlat/2)**2 + cos(lat1) * cos(lat2) * sin(dlon/2)**2\n",
        "    c =  2 * asin(sqrt(a))\n",
        "    # Radius of earth in kilometers is 6371\n",
        "    km = 6371* c\n",
        "    return km"
      ]
    },
    {
      "cell_type": "code",
      "execution_count": 41,
      "metadata": {
        "id": "ee8-s8keH4nJ"
      },
      "outputs": [],
      "source": [
        "df['distance'] = df[['pickup_longitude','pickup_latitude','dropoff_longitude','dropoff_latitude']].apply(haversine,axis=1)"
      ]
    },
    {
      "cell_type": "code",
      "execution_count": 42,
      "metadata": {
        "id": "x0eJEU17H83i"
      },
      "outputs": [],
      "source": [
        "df.drop(['key','pickup_longitude','pickup_latitude','dropoff_longitude','dropoff_latitude'], axis=1, inplace=True)"
      ]
    },
    {
      "cell_type": "code",
      "execution_count": 43,
      "metadata": {
        "colab": {
          "base_uri": "https://localhost:8080/",
          "height": 206
        },
        "id": "QmPYiUcTIEHL",
        "outputId": "ad0a1238-11e4-4b85-b1e6-71a14c62ff2b"
      },
      "outputs": [
        {
          "output_type": "execute_result",
          "data": {
            "text/plain": [
              "   fare_amount  passenger_count  Hour  minute  date  day  month  year  \\\n",
              "0          7.5              1.0    19      52     7    3      5  2015   \n",
              "1          7.7              1.0    20       4    17    4      7  2009   \n",
              "2         12.9              1.0    21      45    24    0      8  2009   \n",
              "3          5.3              3.0     8      22    26    4      6  2009   \n",
              "5          4.9              1.0     2      27    12    5      2  2011   \n",
              "\n",
              "   Day of Week  distance  \n",
              "0            3  1.683323  \n",
              "1            4  2.457590  \n",
              "2            0  5.036377  \n",
              "3            4  1.661683  \n",
              "5            5  0.000000  "
            ],
            "text/html": [
              "\n",
              "  <div id=\"df-e5c1a3fd-490f-41aa-a966-2a4307cffc63\">\n",
              "    <div class=\"colab-df-container\">\n",
              "      <div>\n",
              "<style scoped>\n",
              "    .dataframe tbody tr th:only-of-type {\n",
              "        vertical-align: middle;\n",
              "    }\n",
              "\n",
              "    .dataframe tbody tr th {\n",
              "        vertical-align: top;\n",
              "    }\n",
              "\n",
              "    .dataframe thead th {\n",
              "        text-align: right;\n",
              "    }\n",
              "</style>\n",
              "<table border=\"1\" class=\"dataframe\">\n",
              "  <thead>\n",
              "    <tr style=\"text-align: right;\">\n",
              "      <th></th>\n",
              "      <th>fare_amount</th>\n",
              "      <th>passenger_count</th>\n",
              "      <th>Hour</th>\n",
              "      <th>minute</th>\n",
              "      <th>date</th>\n",
              "      <th>day</th>\n",
              "      <th>month</th>\n",
              "      <th>year</th>\n",
              "      <th>Day of Week</th>\n",
              "      <th>distance</th>\n",
              "    </tr>\n",
              "  </thead>\n",
              "  <tbody>\n",
              "    <tr>\n",
              "      <th>0</th>\n",
              "      <td>7.5</td>\n",
              "      <td>1.0</td>\n",
              "      <td>19</td>\n",
              "      <td>52</td>\n",
              "      <td>7</td>\n",
              "      <td>3</td>\n",
              "      <td>5</td>\n",
              "      <td>2015</td>\n",
              "      <td>3</td>\n",
              "      <td>1.683323</td>\n",
              "    </tr>\n",
              "    <tr>\n",
              "      <th>1</th>\n",
              "      <td>7.7</td>\n",
              "      <td>1.0</td>\n",
              "      <td>20</td>\n",
              "      <td>4</td>\n",
              "      <td>17</td>\n",
              "      <td>4</td>\n",
              "      <td>7</td>\n",
              "      <td>2009</td>\n",
              "      <td>4</td>\n",
              "      <td>2.457590</td>\n",
              "    </tr>\n",
              "    <tr>\n",
              "      <th>2</th>\n",
              "      <td>12.9</td>\n",
              "      <td>1.0</td>\n",
              "      <td>21</td>\n",
              "      <td>45</td>\n",
              "      <td>24</td>\n",
              "      <td>0</td>\n",
              "      <td>8</td>\n",
              "      <td>2009</td>\n",
              "      <td>0</td>\n",
              "      <td>5.036377</td>\n",
              "    </tr>\n",
              "    <tr>\n",
              "      <th>3</th>\n",
              "      <td>5.3</td>\n",
              "      <td>3.0</td>\n",
              "      <td>8</td>\n",
              "      <td>22</td>\n",
              "      <td>26</td>\n",
              "      <td>4</td>\n",
              "      <td>6</td>\n",
              "      <td>2009</td>\n",
              "      <td>4</td>\n",
              "      <td>1.661683</td>\n",
              "    </tr>\n",
              "    <tr>\n",
              "      <th>5</th>\n",
              "      <td>4.9</td>\n",
              "      <td>1.0</td>\n",
              "      <td>2</td>\n",
              "      <td>27</td>\n",
              "      <td>12</td>\n",
              "      <td>5</td>\n",
              "      <td>2</td>\n",
              "      <td>2011</td>\n",
              "      <td>5</td>\n",
              "      <td>0.000000</td>\n",
              "    </tr>\n",
              "  </tbody>\n",
              "</table>\n",
              "</div>\n",
              "      <button class=\"colab-df-convert\" onclick=\"convertToInteractive('df-e5c1a3fd-490f-41aa-a966-2a4307cffc63')\"\n",
              "              title=\"Convert this dataframe to an interactive table.\"\n",
              "              style=\"display:none;\">\n",
              "        \n",
              "  <svg xmlns=\"http://www.w3.org/2000/svg\" height=\"24px\"viewBox=\"0 0 24 24\"\n",
              "       width=\"24px\">\n",
              "    <path d=\"M0 0h24v24H0V0z\" fill=\"none\"/>\n",
              "    <path d=\"M18.56 5.44l.94 2.06.94-2.06 2.06-.94-2.06-.94-.94-2.06-.94 2.06-2.06.94zm-11 1L8.5 8.5l.94-2.06 2.06-.94-2.06-.94L8.5 2.5l-.94 2.06-2.06.94zm10 10l.94 2.06.94-2.06 2.06-.94-2.06-.94-.94-2.06-.94 2.06-2.06.94z\"/><path d=\"M17.41 7.96l-1.37-1.37c-.4-.4-.92-.59-1.43-.59-.52 0-1.04.2-1.43.59L10.3 9.45l-7.72 7.72c-.78.78-.78 2.05 0 2.83L4 21.41c.39.39.9.59 1.41.59.51 0 1.02-.2 1.41-.59l7.78-7.78 2.81-2.81c.8-.78.8-2.07 0-2.86zM5.41 20L4 18.59l7.72-7.72 1.47 1.35L5.41 20z\"/>\n",
              "  </svg>\n",
              "      </button>\n",
              "      \n",
              "  <style>\n",
              "    .colab-df-container {\n",
              "      display:flex;\n",
              "      flex-wrap:wrap;\n",
              "      gap: 12px;\n",
              "    }\n",
              "\n",
              "    .colab-df-convert {\n",
              "      background-color: #E8F0FE;\n",
              "      border: none;\n",
              "      border-radius: 50%;\n",
              "      cursor: pointer;\n",
              "      display: none;\n",
              "      fill: #1967D2;\n",
              "      height: 32px;\n",
              "      padding: 0 0 0 0;\n",
              "      width: 32px;\n",
              "    }\n",
              "\n",
              "    .colab-df-convert:hover {\n",
              "      background-color: #E2EBFA;\n",
              "      box-shadow: 0px 1px 2px rgba(60, 64, 67, 0.3), 0px 1px 3px 1px rgba(60, 64, 67, 0.15);\n",
              "      fill: #174EA6;\n",
              "    }\n",
              "\n",
              "    [theme=dark] .colab-df-convert {\n",
              "      background-color: #3B4455;\n",
              "      fill: #D2E3FC;\n",
              "    }\n",
              "\n",
              "    [theme=dark] .colab-df-convert:hover {\n",
              "      background-color: #434B5C;\n",
              "      box-shadow: 0px 1px 3px 1px rgba(0, 0, 0, 0.15);\n",
              "      filter: drop-shadow(0px 1px 2px rgba(0, 0, 0, 0.3));\n",
              "      fill: #FFFFFF;\n",
              "    }\n",
              "  </style>\n",
              "\n",
              "      <script>\n",
              "        const buttonEl =\n",
              "          document.querySelector('#df-e5c1a3fd-490f-41aa-a966-2a4307cffc63 button.colab-df-convert');\n",
              "        buttonEl.style.display =\n",
              "          google.colab.kernel.accessAllowed ? 'block' : 'none';\n",
              "\n",
              "        async function convertToInteractive(key) {\n",
              "          const element = document.querySelector('#df-e5c1a3fd-490f-41aa-a966-2a4307cffc63');\n",
              "          const dataTable =\n",
              "            await google.colab.kernel.invokeFunction('convertToInteractive',\n",
              "                                                     [key], {});\n",
              "          if (!dataTable) return;\n",
              "\n",
              "          const docLinkHtml = 'Like what you see? Visit the ' +\n",
              "            '<a target=\"_blank\" href=https://colab.research.google.com/notebooks/data_table.ipynb>data table notebook</a>'\n",
              "            + ' to learn more about interactive tables.';\n",
              "          element.innerHTML = '';\n",
              "          dataTable['output_type'] = 'display_data';\n",
              "          await google.colab.output.renderOutput(dataTable, element);\n",
              "          const docLink = document.createElement('div');\n",
              "          docLink.innerHTML = docLinkHtml;\n",
              "          element.appendChild(docLink);\n",
              "        }\n",
              "      </script>\n",
              "    </div>\n",
              "  </div>\n",
              "  "
            ]
          },
          "metadata": {},
          "execution_count": 43
        }
      ],
      "source": [
        "df.head()"
      ]
    },
    {
      "cell_type": "code",
      "execution_count": 44,
      "metadata": {
        "colab": {
          "base_uri": "https://localhost:8080/",
          "height": 355
        },
        "id": "kRb0PUQEIBrj",
        "outputId": "e5f53d76-eb09-4101-8dcb-1a4d16d76cbc"
      },
      "outputs": [
        {
          "output_type": "stream",
          "name": "stderr",
          "text": [
            "/usr/local/lib/python3.7/dist-packages/seaborn/_decorators.py:43: FutureWarning: Pass the following variable as a keyword arg: x. From version 0.12, the only valid positional argument will be `data`, and passing other arguments without an explicit keyword will result in an error or misinterpretation.\n",
            "  FutureWarning\n"
          ]
        },
        {
          "output_type": "execute_result",
          "data": {
            "text/plain": [
              "<matplotlib.axes._subplots.AxesSubplot at 0x7f11d9c7e950>"
            ]
          },
          "metadata": {},
          "execution_count": 44
        },
        {
          "output_type": "display_data",
          "data": {
            "text/plain": [
              "<Figure size 432x288 with 1 Axes>"
            ],
            "image/png": "[encoded data removed]"
          },
          "metadata": {
            "needs_background": "light"
          }
        }
      ],
      "source": [
        "sns.countplot(df.passenger_count)"
      ]
    },
    {
      "cell_type": "code",
      "execution_count": 45,
      "metadata": {
        "colab": {
          "base_uri": "https://localhost:8080/",
          "height": 355
        },
        "id": "yjwZFtNCdTkJ",
        "outputId": "b2352e13-9932-4127-b3c2-25d489b30b15"
      },
      "outputs": [
        {
          "output_type": "stream",
          "name": "stderr",
          "text": [
            "/usr/local/lib/python3.7/dist-packages/seaborn/distributions.py:2619: FutureWarning: `distplot` is a deprecated function and will be removed in a future version. Please adapt your code to use either `displot` (a figure-level function with similar flexibility) or `histplot` (an axes-level function for histograms).\n",
            "  warnings.warn(msg, FutureWarning)\n"
          ]
        },
        {
          "output_type": "execute_result",
          "data": {
            "text/plain": [
              "<matplotlib.axes._subplots.AxesSubplot at 0x7f11d90f3ad0>"
            ]
          },
          "metadata": {},
          "execution_count": 45
        },
        {
          "output_type": "display_data",
          "data": {
            "text/plain": [
              "<Figure size 432x288 with 1 Axes>"
            ],
            "image/png": "[encoded data removed]"
          },
          "metadata": {
            "needs_background": "light"
          }
        }
      ],
      "source": [
        "sns.distplot(df.fare_amount)"
      ]
    },
    {
      "cell_type": "code",
      "execution_count": 46,
      "metadata": {
        "colab": {
          "base_uri": "https://localhost:8080/",
          "height": 518
        },
        "id": "ElbnIc0-de9V",
        "outputId": "a50ebe53-49f7-49de-9572-2c02066bf1ab"
      },
      "outputs": [
        {
          "output_type": "stream",
          "name": "stderr",
          "text": [
            "/usr/local/lib/python3.7/dist-packages/seaborn/distributions.py:2619: FutureWarning: `distplot` is a deprecated function and will be removed in a future version. Please adapt your code to use either `displot` (a figure-level function with similar flexibility) or `histplot` (an axes-level function for histograms).\n",
            "  warnings.warn(msg, FutureWarning)\n"
          ]
        },
        {
          "output_type": "execute_result",
          "data": {
            "text/plain": [
              "<matplotlib.axes._subplots.AxesSubplot at 0x7f11d941a990>"
            ]
          },
          "metadata": {},
          "execution_count": 46
        },
        {
          "output_type": "display_data",
          "data": {
            "text/plain": [
              "<Figure size 504x504 with 1 Axes>"
            ],
            "image/png": "[encoded data removed]"
          },
          "metadata": {
            "needs_background": "light"
          }
        }
      ],
      "source": [
        "plt.figure(figsize=(7,7))\n",
        "sns.distplot(np.log(df['fare_amount']+1),color=\"c\")"
      ]
    },
    {
      "cell_type": "markdown",
      "metadata": {
        "id": "q1W1Ciy3nmUk"
      },
      "source": [
        "1. Does the number of passengers affect the fare?"
      ]
    },
    {
      "cell_type": "code",
      "execution_count": 47,
      "metadata": {
        "colab": {
          "base_uri": "https://localhost:8080/",
          "height": 460
        },
        "id": "-D-PJkhXnnzN",
        "outputId": "a592a4ad-1461-437c-dfb7-edefc198401f"
      },
      "outputs": [
        {
          "output_type": "execute_result",
          "data": {
            "text/plain": [
              "Text(0, 0.5, 'Frequency')"
            ]
          },
          "metadata": {},
          "execution_count": 47
        },
        {
          "output_type": "display_data",
          "data": {
            "text/plain": [
              "<Figure size 1080x504 with 1 Axes>"
            ],
            "image/png": "[encoded data removed]"
          },
          "metadata": {
            "needs_background": "light"
          }
        }
      ],
      "source": [
        "plt.figure(figsize=(15,7))\n",
        "plt.hist(df['passenger_count'], bins=15)\n",
        "plt.xlabel('No. of Passengers')\n",
        "plt.ylabel('Frequency')"
      ]
    },
    {
      "cell_type": "code",
      "execution_count": 48,
      "metadata": {
        "colab": {
          "base_uri": "https://localhost:8080/",
          "height": 460
        },
        "id": "YoXCra7cn4V_",
        "outputId": "7c6e8309-6197-4ff7-832d-f4edd9c9eca5"
      },
      "outputs": [
        {
          "output_type": "execute_result",
          "data": {
            "text/plain": [
              "Text(0, 0.5, 'Fare')"
            ]
          },
          "metadata": {},
          "execution_count": 48
        },
        {
          "output_type": "display_data",
          "data": {
            "text/plain": [
              "<Figure size 1080x504 with 1 Axes>"
            ],
            "image/png": "[encoded data removed]"
          },
          "metadata": {
            "needs_background": "light"
          }
        }
      ],
      "source": [
        "plt.figure(figsize=(15,7))\n",
        "plt.scatter(x=df['passenger_count'], y=df['fare_amount'], s=1.5)\n",
        "plt.xlabel('No. of Passengers')\n",
        "plt.ylabel('Fare')"
      ]
    },
    {
      "cell_type": "markdown",
      "metadata": {
        "id": "XRs62ag3pFNv"
      },
      "source": [
        "From the above 2 graphs we can see that single passengers are the most frequent travellers, and the highest fare also seems to come from cabs which carry just 1 passenger."
      ]
    },
    {
      "cell_type": "markdown",
      "metadata": {
        "id": "dgik9yrXpLxb"
      },
      "source": [
        "2. Does the date and time of pickup affect the fare?"
      ]
    },
    {
      "cell_type": "code",
      "execution_count": 49,
      "metadata": {
        "colab": {
          "base_uri": "https://localhost:8080/",
          "height": 460
        },
        "id": "Mp5WKoLJpErs",
        "outputId": "b22732ec-344d-434f-f183-df8567e12b04"
      },
      "outputs": [
        {
          "output_type": "execute_result",
          "data": {
            "text/plain": [
              "Text(0, 0.5, 'Fare')"
            ]
          },
          "metadata": {},
          "execution_count": 49
        },
        {
          "output_type": "display_data",
          "data": {
            "text/plain": [
              "<Figure size 1080x504 with 1 Axes>"
            ],
            "image/png": "[encoded data removed]"
          },
          "metadata": {
            "needs_background": "light"
          }
        }
      ],
      "source": [
        "plt.figure(figsize=(15,7))\n",
        "plt.scatter(x=df['date'], y=df['fare_amount'], s=1.5)\n",
        "plt.xlabel('Date')\n",
        "plt.ylabel('Fare')"
      ]
    },
    {
      "cell_type": "code",
      "execution_count": 50,
      "metadata": {
        "colab": {
          "base_uri": "https://localhost:8080/",
          "height": 460
        },
        "id": "o3BFzwdUpTLL",
        "outputId": "01596c6e-6b2e-42cc-e781-eb865741601f"
      },
      "outputs": [
        {
          "output_type": "execute_result",
          "data": {
            "text/plain": [
              "Text(0, 0.5, 'Frequency')"
            ]
          },
          "metadata": {},
          "execution_count": 50
        },
        {
          "output_type": "display_data",
          "data": {
            "text/plain": [
              "<Figure size 1080x504 with 1 Axes>"
            ],
            "image/png": "[encoded data removed]"
          },
          "metadata": {
            "needs_background": "light"
          }
        }
      ],
      "source": [
        "plt.figure(figsize=(15,7))\n",
        "plt.hist(df['Hour'], bins=100)\n",
        "plt.xlabel('Hour')\n",
        "plt.ylabel('Frequency')"
      ]
    },
    {
      "cell_type": "code",
      "execution_count": 51,
      "metadata": {
        "colab": {
          "base_uri": "https://localhost:8080/",
          "height": 460
        },
        "id": "c3M-OhOVrQx_",
        "outputId": "187e0bcd-89d6-4e68-fafd-281715f5e21a"
      },
      "outputs": [
        {
          "output_type": "execute_result",
          "data": {
            "text/plain": [
              "Text(0, 0.5, 'Fare')"
            ]
          },
          "metadata": {},
          "execution_count": 51
        },
        {
          "output_type": "display_data",
          "data": {
            "text/plain": [
              "<Figure size 1080x504 with 1 Axes>"
            ],
            "image/png": "[encoded data removed]"
          },
          "metadata": {
            "needs_background": "light"
          }
        }
      ],
      "source": [
        "plt.figure(figsize=(15,7))\n",
        "plt.scatter(x=df['Hour'], y=df['fare_amount'], s=1.5)\n",
        "plt.xlabel('Hour')\n",
        "plt.ylabel('Fare')"
      ]
    },
    {
      "cell_type": "markdown",
      "metadata": {
        "id": "h2HDoACxsW9o"
      },
      "source": [
        "The fares, however, seem to be high betweeb 5AM and 10AM, and 2PM to 4PM. "
      ]
    },
    {
      "cell_type": "code",
      "execution_count": 52,
      "metadata": {
        "colab": {
          "base_uri": "https://localhost:8080/",
          "height": 460
        },
        "id": "SZwyT_WrsrNI",
        "outputId": "9301b319-98f8-44dc-fa90-196f64f5665b"
      },
      "outputs": [
        {
          "output_type": "execute_result",
          "data": {
            "text/plain": [
              "Text(0, 0.5, 'Frequency')"
            ]
          },
          "metadata": {},
          "execution_count": 52
        },
        {
          "output_type": "display_data",
          "data": {
            "text/plain": [
              "<Figure size 1080x504 with 1 Axes>"
            ],
            "image/png": "[encoded data removed]"
          },
          "metadata": {
            "needs_background": "light"
          }
        }
      ],
      "source": [
        "plt.figure(figsize=(15,7))\n",
        "plt.hist(df['minute'], bins=100)\n",
        "plt.xlabel('minute')\n",
        "plt.ylabel('Frequency')"
      ]
    },
    {
      "cell_type": "code",
      "execution_count": 53,
      "metadata": {
        "colab": {
          "base_uri": "https://localhost:8080/",
          "height": 460
        },
        "id": "iY2CYmbLsztP",
        "outputId": "1c3c308a-4d91-40c4-afd4-486c1364934f"
      },
      "outputs": [
        {
          "output_type": "execute_result",
          "data": {
            "text/plain": [
              "Text(0, 0.5, 'Fare')"
            ]
          },
          "metadata": {},
          "execution_count": 53
        },
        {
          "output_type": "display_data",
          "data": {
            "text/plain": [
              "<Figure size 1080x504 with 1 Axes>"
            ],
            "image/png": "[encoded data removed]"
          },
          "metadata": {
            "needs_background": "light"
          }
        }
      ],
      "source": [
        "plt.figure(figsize=(15,7))\n",
        "plt.scatter(x=df['minute'], y=df['fare_amount'], s=1.5)\n",
        "plt.xlabel('minute')\n",
        "plt.ylabel('Fare')"
      ]
    },
    {
      "cell_type": "markdown",
      "metadata": {
        "id": "GtX66wmNuiwn"
      },
      "source": [
        "3. Does the day of the week affect the fare?\n",
        "\n"
      ]
    },
    {
      "cell_type": "code",
      "execution_count": 54,
      "metadata": {
        "colab": {
          "base_uri": "https://localhost:8080/",
          "height": 460
        },
        "id": "e3zWKnSzs6fW",
        "outputId": "548a6473-78c8-4058-9363-d67eea15ed51"
      },
      "outputs": [
        {
          "output_type": "execute_result",
          "data": {
            "text/plain": [
              "Text(0, 0.5, 'Frequency')"
            ]
          },
          "metadata": {},
          "execution_count": 54
        },
        {
          "output_type": "display_data",
          "data": {
            "text/plain": [
              "<Figure size 1080x504 with 1 Axes>"
            ],
            "image/png": "[encoded data removed]"
          },
          "metadata": {
            "needs_background": "light"
          }
        }
      ],
      "source": [
        "plt.figure(figsize=(15,7))\n",
        "plt.hist(df['Day of Week'], bins=100)\n",
        "plt.xlabel('Day of Week')\n",
        "plt.ylabel('Frequency')"
      ]
    },
    {
      "cell_type": "markdown",
      "metadata": {
        "id": "VdiaU0xDvGNf"
      },
      "source": [
        "day of the week doesn't seem to have that much of an influence on the number of cab rides"
      ]
    },
    {
      "cell_type": "markdown",
      "metadata": {
        "id": "RyiGvVs0xE_U"
      },
      "source": [
        "The highest fares seem to be on a Sunday and Monday, and the lowest on Wednesday and Friday. Maybe people travel far distances on Sunday and Monday (visiting family and returning back home), and hence, the high fares. And guess people just want to stay at home on a Friday after a hectic week at work"
      ]
    },
    {
      "cell_type": "code",
      "execution_count": 55,
      "metadata": {
        "colab": {
          "base_uri": "https://localhost:8080/",
          "height": 460
        },
        "id": "hWeX4lCHxLSd",
        "outputId": "36560ec7-f4fd-4914-f26c-ea28b0679f6e"
      },
      "outputs": [
        {
          "output_type": "execute_result",
          "data": {
            "text/plain": [
              "Text(0, 0.5, 'Frequency')"
            ]
          },
          "metadata": {},
          "execution_count": 55
        },
        {
          "output_type": "display_data",
          "data": {
            "text/plain": [
              "<Figure size 1080x504 with 1 Axes>"
            ],
            "image/png": "[encoded data removed]"
          },
          "metadata": {
            "needs_background": "light"
          }
        }
      ],
      "source": [
        "plt.figure(figsize=(15,7))\n",
        "plt.hist(df['month'], bins=100)\n",
        "plt.xlabel('month')\n",
        "plt.ylabel('Frequency')"
      ]
    },
    {
      "cell_type": "markdown",
      "metadata": {
        "id": "WeK5NYT1yfRv"
      },
      "source": [
        "The highest frequency seen to Jan to Jun and after that dcreases may be rainy season or weather condition peopele doesen't want to go outdoor."
      ]
    },
    {
      "cell_type": "code",
      "execution_count": 56,
      "metadata": {
        "colab": {
          "base_uri": "https://localhost:8080/",
          "height": 460
        },
        "id": "UCugylknxLka",
        "outputId": "b95504c8-a477-4696-ce28-918e28611225"
      },
      "outputs": [
        {
          "output_type": "execute_result",
          "data": {
            "text/plain": [
              "Text(0, 0.5, 'Fare')"
            ]
          },
          "metadata": {},
          "execution_count": 56
        },
        {
          "output_type": "display_data",
          "data": {
            "text/plain": [
              "<Figure size 1080x504 with 1 Axes>"
            ],
            "image/png": "[encoded data removed]"
          },
          "metadata": {
            "needs_background": "light"
          }
        }
      ],
      "source": [
        "plt.figure(figsize=(15,7))\n",
        "plt.scatter(x=df['month'], y=df['fare_amount'], s=1.5)\n",
        "plt.xlabel('month')\n",
        "plt.ylabel('Fare')"
      ]
    },
    {
      "cell_type": "markdown",
      "metadata": {
        "id": "aqdXs2t9ziF1"
      },
      "source": [
        "4. Does the distance affect the fare?\n",
        "\n",
        "This is a no-brainer. I am confident that the distance would affect the fare a great deal. But I will visualise it."
      ]
    },
    {
      "cell_type": "code",
      "execution_count": 57,
      "metadata": {
        "colab": {
          "base_uri": "https://localhost:8080/",
          "height": 354
        },
        "id": "w_LGR05F02s5",
        "outputId": "fe244cab-7e94-412c-aaf1-7413af790fa4"
      },
      "outputs": [
        {
          "output_type": "stream",
          "name": "stderr",
          "text": [
            "/usr/local/lib/python3.7/dist-packages/seaborn/distributions.py:2619: FutureWarning: `distplot` is a deprecated function and will be removed in a future version. Please adapt your code to use either `displot` (a figure-level function with similar flexibility) or `histplot` (an axes-level function for histograms).\n",
            "  warnings.warn(msg, FutureWarning)\n"
          ]
        },
        {
          "output_type": "execute_result",
          "data": {
            "text/plain": [
              "<matplotlib.axes._subplots.AxesSubplot at 0x7f11d974d1d0>"
            ]
          },
          "metadata": {},
          "execution_count": 57
        },
        {
          "output_type": "display_data",
          "data": {
            "text/plain": [
              "<Figure size 432x288 with 1 Axes>"
            ],
            "image/png": "[encoded data removed]"
          },
          "metadata": {
            "needs_background": "light"
          }
        }
      ],
      "source": [
        "sns.distplot(df.distance)"
      ]
    },
    {
      "cell_type": "code",
      "execution_count": 58,
      "metadata": {
        "colab": {
          "base_uri": "https://localhost:8080/",
          "height": 300
        },
        "id": "jIQNKgSr04dR",
        "outputId": "8bff26db-6885-409c-9ee6-43ee2676a6c7"
      },
      "outputs": [
        {
          "output_type": "execute_result",
          "data": {
            "text/plain": [
              "         fare_amount  passenger_count           Hour         minute  \\\n",
              "count  181671.000000    181671.000000  181671.000000  181671.000000   \n",
              "mean       11.330772         1.326376      13.487508      29.530068   \n",
              "std         9.646483         0.683057       6.517373      17.339954   \n",
              "min         0.010000         0.000000       0.000000       0.000000   \n",
              "25%         6.000000         1.000000       9.000000      14.000000   \n",
              "50%         8.500000         1.000000      14.000000      30.000000   \n",
              "75%        12.500000         1.000000      19.000000      45.000000   \n",
              "max       150.000000         4.000000      23.000000      59.000000   \n",
              "\n",
              "                date           day          month           year  \\\n",
              "count  181671.000000  181671.00000  181671.000000  181671.000000   \n",
              "mean       15.702413       3.04572       6.277353    2011.738770   \n",
              "std         8.694499       1.94676       3.438817       1.856613   \n",
              "min         1.000000       0.00000       1.000000    2009.000000   \n",
              "25%         8.000000       1.00000       3.000000    2010.000000   \n",
              "50%        16.000000       3.00000       6.000000    2012.000000   \n",
              "75%        23.000000       5.00000       9.000000    2013.000000   \n",
              "max        31.000000       6.00000      12.000000    2015.000000   \n",
              "\n",
              "        Day of Week       distance  \n",
              "count  181671.00000  181671.000000  \n",
              "mean        3.04572      20.733471  \n",
              "std         1.94676     382.343358  \n",
              "min         0.00000       0.000000  \n",
              "25%         1.00000       1.215414  \n",
              "50%         3.00000       2.121053  \n",
              "75%         5.00000       3.869592  \n",
              "max         6.00000    8782.898606  "
            ],
            "text/html": [
              "\n",
              "  <div id=\"df-15fdcda3-456a-4a88-95e5-fadf741a63eb\">\n",
              "    <div class=\"colab-df-container\">\n",
              "      <div>\n",
              "<style scoped>\n",
              "    .dataframe tbody tr th:only-of-type {\n",
              "        vertical-align: middle;\n",
              "    }\n",
              "\n",
              "    .dataframe tbody tr th {\n",
              "        vertical-align: top;\n",
              "    }\n",
              "\n",
              "    .dataframe thead th {\n",
              "        text-align: right;\n",
              "    }\n",
              "</style>\n",
              "<table border=\"1\" class=\"dataframe\">\n",
              "  <thead>\n",
              "    <tr style=\"text-align: right;\">\n",
              "      <th></th>\n",
              "      <th>fare_amount</th>\n",
              "      <th>passenger_count</th>\n",
              "      <th>Hour</th>\n",
              "      <th>minute</th>\n",
              "      <th>date</th>\n",
              "      <th>day</th>\n",
              "      <th>month</th>\n",
              "      <th>year</th>\n",
              "      <th>Day of Week</th>\n",
              "      <th>distance</th>\n",
              "    </tr>\n",
              "  </thead>\n",
              "  <tbody>\n",
              "    <tr>\n",
              "      <th>count</th>\n",
              "      <td>181671.000000</td>\n",
              "      <td>181671.000000</td>\n",
              "      <td>181671.000000</td>\n",
              "      <td>181671.000000</td>\n",
              "      <td>181671.000000</td>\n",
              "      <td>181671.00000</td>\n",
              "      <td>181671.000000</td>\n",
              "      <td>181671.000000</td>\n",
              "      <td>181671.00000</td>\n",
              "      <td>181671.000000</td>\n",
              "    </tr>\n",
              "    <tr>\n",
              "      <th>mean</th>\n",
              "      <td>11.330772</td>\n",
              "      <td>1.326376</td>\n",
              "      <td>13.487508</td>\n",
              "      <td>29.530068</td>\n",
              "      <td>15.702413</td>\n",
              "      <td>3.04572</td>\n",
              "      <td>6.277353</td>\n",
              "      <td>2011.738770</td>\n",
              "      <td>3.04572</td>\n",
              "      <td>20.733471</td>\n",
              "    </tr>\n",
              "    <tr>\n",
              "      <th>std</th>\n",
              "      <td>9.646483</td>\n",
              "      <td>0.683057</td>\n",
              "      <td>6.517373</td>\n",
              "      <td>17.339954</td>\n",
              "      <td>8.694499</td>\n",
              "      <td>1.94676</td>\n",
              "      <td>3.438817</td>\n",
              "      <td>1.856613</td>\n",
              "      <td>1.94676</td>\n",
              "      <td>382.343358</td>\n",
              "    </tr>\n",
              "    <tr>\n",
              "      <th>min</th>\n",
              "      <td>0.010000</td>\n",
              "      <td>0.000000</td>\n",
              "      <td>0.000000</td>\n",
              "      <td>0.000000</td>\n",
              "      <td>1.000000</td>\n",
              "      <td>0.00000</td>\n",
              "      <td>1.000000</td>\n",
              "      <td>2009.000000</td>\n",
              "      <td>0.00000</td>\n",
              "      <td>0.000000</td>\n",
              "    </tr>\n",
              "    <tr>\n",
              "      <th>25%</th>\n",
              "      <td>6.000000</td>\n",
              "      <td>1.000000</td>\n",
              "      <td>9.000000</td>\n",
              "      <td>14.000000</td>\n",
              "      <td>8.000000</td>\n",
              "      <td>1.00000</td>\n",
              "      <td>3.000000</td>\n",
              "      <td>2010.000000</td>\n",
              "      <td>1.00000</td>\n",
              "      <td>1.215414</td>\n",
              "    </tr>\n",
              "    <tr>\n",
              "      <th>50%</th>\n",
              "      <td>8.500000</td>\n",
              "      <td>1.000000</td>\n",
              "      <td>14.000000</td>\n",
              "      <td>30.000000</td>\n",
              "      <td>16.000000</td>\n",
              "      <td>3.00000</td>\n",
              "      <td>6.000000</td>\n",
              "      <td>2012.000000</td>\n",
              "      <td>3.00000</td>\n",
              "      <td>2.121053</td>\n",
              "    </tr>\n",
              "    <tr>\n",
              "      <th>75%</th>\n",
              "      <td>12.500000</td>\n",
              "      <td>1.000000</td>\n",
              "      <td>19.000000</td>\n",
              "      <td>45.000000</td>\n",
              "      <td>23.000000</td>\n",
              "      <td>5.00000</td>\n",
              "      <td>9.000000</td>\n",
              "      <td>2013.000000</td>\n",
              "      <td>5.00000</td>\n",
              "      <td>3.869592</td>\n",
              "    </tr>\n",
              "    <tr>\n",
              "      <th>max</th>\n",
              "      <td>150.000000</td>\n",
              "      <td>4.000000</td>\n",
              "      <td>23.000000</td>\n",
              "      <td>59.000000</td>\n",
              "      <td>31.000000</td>\n",
              "      <td>6.00000</td>\n",
              "      <td>12.000000</td>\n",
              "      <td>2015.000000</td>\n",
              "      <td>6.00000</td>\n",
              "      <td>8782.898606</td>\n",
              "    </tr>\n",
              "  </tbody>\n",
              "</table>\n",
              "</div>\n",
              "      <button class=\"colab-df-convert\" onclick=\"convertToInteractive('df-15fdcda3-456a-4a88-95e5-fadf741a63eb')\"\n",
              "              title=\"Convert this dataframe to an interactive table.\"\n",
              "              style=\"display:none;\">\n",
              "        \n",
              "  <svg xmlns=\"http://www.w3.org/2000/svg\" height=\"24px\"viewBox=\"0 0 24 24\"\n",
              "       width=\"24px\">\n",
              "    <path d=\"M0 0h24v24H0V0z\" fill=\"none\"/>\n",
              "    <path d=\"M18.56 5.44l.94 2.06.94-2.06 2.06-.94-2.06-.94-.94-2.06-.94 2.06-2.06.94zm-11 1L8.5 8.5l.94-2.06 2.06-.94-2.06-.94L8.5 2.5l-.94 2.06-2.06.94zm10 10l.94 2.06.94-2.06 2.06-.94-2.06-.94-.94-2.06-.94 2.06-2.06.94z\"/><path d=\"M17.41 7.96l-1.37-1.37c-.4-.4-.92-.59-1.43-.59-.52 0-1.04.2-1.43.59L10.3 9.45l-7.72 7.72c-.78.78-.78 2.05 0 2.83L4 21.41c.39.39.9.59 1.41.59.51 0 1.02-.2 1.41-.59l7.78-7.78 2.81-2.81c.8-.78.8-2.07 0-2.86zM5.41 20L4 18.59l7.72-7.72 1.47 1.35L5.41 20z\"/>\n",
              "  </svg>\n",
              "      </button>\n",
              "      \n",
              "  <style>\n",
              "    .colab-df-container {\n",
              "      display:flex;\n",
              "      flex-wrap:wrap;\n",
              "      gap: 12px;\n",
              "    }\n",
              "\n",
              "    .colab-df-convert {\n",
              "      background-color: #E8F0FE;\n",
              "      border: none;\n",
              "      border-radius: 50%;\n",
              "      cursor: pointer;\n",
              "      display: none;\n",
              "      fill: #1967D2;\n",
              "      height: 32px;\n",
              "      padding: 0 0 0 0;\n",
              "      width: 32px;\n",
              "    }\n",
              "\n",
              "    .colab-df-convert:hover {\n",
              "      background-color: #E2EBFA;\n",
              "      box-shadow: 0px 1px 2px rgba(60, 64, 67, 0.3), 0px 1px 3px 1px rgba(60, 64, 67, 0.15);\n",
              "      fill: #174EA6;\n",
              "    }\n",
              "\n",
              "    [theme=dark] .colab-df-convert {\n",
              "      background-color: #3B4455;\n",
              "      fill: #D2E3FC;\n",
              "    }\n",
              "\n",
              "    [theme=dark] .colab-df-convert:hover {\n",
              "      background-color: #434B5C;\n",
              "      box-shadow: 0px 1px 3px 1px rgba(0, 0, 0, 0.15);\n",
              "      filter: drop-shadow(0px 1px 2px rgba(0, 0, 0, 0.3));\n",
              "      fill: #FFFFFF;\n",
              "    }\n",
              "  </style>\n",
              "\n",
              "      <script>\n",
              "        const buttonEl =\n",
              "          document.querySelector('#df-15fdcda3-456a-4a88-95e5-fadf741a63eb button.colab-df-convert');\n",
              "        buttonEl.style.display =\n",
              "          google.colab.kernel.accessAllowed ? 'block' : 'none';\n",
              "\n",
              "        async function convertToInteractive(key) {\n",
              "          const element = document.querySelector('#df-15fdcda3-456a-4a88-95e5-fadf741a63eb');\n",
              "          const dataTable =\n",
              "            await google.colab.kernel.invokeFunction('convertToInteractive',\n",
              "                                                     [key], {});\n",
              "          if (!dataTable) return;\n",
              "\n",
              "          const docLinkHtml = 'Like what you see? Visit the ' +\n",
              "            '<a target=\"_blank\" href=https://colab.research.google.com/notebooks/data_table.ipynb>data table notebook</a>'\n",
              "            + ' to learn more about interactive tables.';\n",
              "          element.innerHTML = '';\n",
              "          dataTable['output_type'] = 'display_data';\n",
              "          await google.colab.output.renderOutput(dataTable, element);\n",
              "          const docLink = document.createElement('div');\n",
              "          docLink.innerHTML = docLinkHtml;\n",
              "          element.appendChild(docLink);\n",
              "        }\n",
              "      </script>\n",
              "    </div>\n",
              "  </div>\n",
              "  "
            ]
          },
          "metadata": {},
          "execution_count": 58
        }
      ],
      "source": [
        "df.describe()"
      ]
    },
    {
      "cell_type": "code",
      "execution_count": 59,
      "metadata": {
        "colab": {
          "base_uri": "https://localhost:8080/",
          "height": 270
        },
        "id": "lMWofwd41BII",
        "outputId": "65cbda31-dfb0-4e07-a458-60df19866baa"
      },
      "outputs": [
        {
          "output_type": "execute_result",
          "data": {
            "text/plain": [
              "<matplotlib.axes._subplots.AxesSubplot at 0x7f11d671e7d0>"
            ]
          },
          "metadata": {},
          "execution_count": 59
        },
        {
          "output_type": "display_data",
          "data": {
            "text/plain": [
              "<Figure size 432x288 with 1 Axes>"
            ],
            "image/png": "[encoded data removed]"
          },
          "metadata": {
            "needs_background": "light"
          }
        }
      ],
      "source": [
        "sns.boxplot(y=df['distance'])"
      ]
    },
    {
      "cell_type": "code",
      "execution_count": 60,
      "metadata": {
        "colab": {
          "base_uri": "https://localhost:8080/",
          "height": 423
        },
        "id": "S9CR1RHE18sX",
        "outputId": "93a18a4c-6b6e-4fd5-c8fd-86e6f027bc31"
      },
      "outputs": [
        {
          "output_type": "execute_result",
          "data": {
            "text/plain": [
              "        fare_amount  passenger_count  Hour  minute  date  day  month  year  \\\n",
              "5               4.9              1.0     2      27    12    5      2  2011   \n",
              "7               2.5              1.0    13      52    11    1     12  2012   \n",
              "11              8.5              1.0    22      15    23    0      5  2011   \n",
              "48             56.8              1.0    22      24     3    3      1  2013   \n",
              "65              6.0              1.0    19      27     5    0      5  2014   \n",
              "...             ...              ...   ...     ...   ...  ...    ...   ...   \n",
              "199724          7.5              1.0    11      25    11    4     10  2013   \n",
              "199880          6.5              1.0     6      45    22    5      2  2014   \n",
              "199883         12.5              2.0    17      39    10    0      9  2012   \n",
              "199917          4.5              1.0    22      17    24    0      6  2013   \n",
              "199963         39.0              1.0     7      46    22    5      9  2012   \n",
              "\n",
              "        Day of Week  distance  \n",
              "5                 5       0.0  \n",
              "7                 1       0.0  \n",
              "11                0       0.0  \n",
              "48                3       0.0  \n",
              "65                0       0.0  \n",
              "...             ...       ...  \n",
              "199724            4       0.0  \n",
              "199880            5       0.0  \n",
              "199883            0       0.0  \n",
              "199917            0       0.0  \n",
              "199963            5       0.0  \n",
              "\n",
              "[5104 rows x 10 columns]"
            ],
            "text/html": [
              "\n",
              "  <div id=\"df-56244408-3de1-44c5-abb3-4dcf418275b8\">\n",
              "    <div class=\"colab-df-container\">\n",
              "      <div>\n",
              "<style scoped>\n",
              "    .dataframe tbody tr th:only-of-type {\n",
              "        vertical-align: middle;\n",
              "    }\n",
              "\n",
              "    .dataframe tbody tr th {\n",
              "        vertical-align: top;\n",
              "    }\n",
              "\n",
              "    .dataframe thead th {\n",
              "        text-align: right;\n",
              "    }\n",
              "</style>\n",
              "<table border=\"1\" class=\"dataframe\">\n",
              "  <thead>\n",
              "    <tr style=\"text-align: right;\">\n",
              "      <th></th>\n",
              "      <th>fare_amount</th>\n",
              "      <th>passenger_count</th>\n",
              "      <th>Hour</th>\n",
              "      <th>minute</th>\n",
              "      <th>date</th>\n",
              "      <th>day</th>\n",
              "      <th>month</th>\n",
              "      <th>year</th>\n",
              "      <th>Day of Week</th>\n",
              "      <th>distance</th>\n",
              "    </tr>\n",
              "  </thead>\n",
              "  <tbody>\n",
              "    <tr>\n",
              "      <th>5</th>\n",
              "      <td>4.9</td>\n",
              "      <td>1.0</td>\n",
              "      <td>2</td>\n",
              "      <td>27</td>\n",
              "      <td>12</td>\n",
              "      <td>5</td>\n",
              "      <td>2</td>\n",
              "      <td>2011</td>\n",
              "      <td>5</td>\n",
              "      <td>0.0</td>\n",
              "    </tr>\n",
              "    <tr>\n",
              "      <th>7</th>\n",
              "      <td>2.5</td>\n",
              "      <td>1.0</td>\n",
              "      <td>13</td>\n",
              "      <td>52</td>\n",
              "      <td>11</td>\n",
              "      <td>1</td>\n",
              "      <td>12</td>\n",
              "      <td>2012</td>\n",
              "      <td>1</td>\n",
              "      <td>0.0</td>\n",
              "    </tr>\n",
              "    <tr>\n",
              "      <th>11</th>\n",
              "      <td>8.5</td>\n",
              "      <td>1.0</td>\n",
              "      <td>22</td>\n",
              "      <td>15</td>\n",
              "      <td>23</td>\n",
              "      <td>0</td>\n",
              "      <td>5</td>\n",
              "      <td>2011</td>\n",
              "      <td>0</td>\n",
              "      <td>0.0</td>\n",
              "    </tr>\n",
              "    <tr>\n",
              "      <th>48</th>\n",
              "      <td>56.8</td>\n",
              "      <td>1.0</td>\n",
              "      <td>22</td>\n",
              "      <td>24</td>\n",
              "      <td>3</td>\n",
              "      <td>3</td>\n",
              "      <td>1</td>\n",
              "      <td>2013</td>\n",
              "      <td>3</td>\n",
              "      <td>0.0</td>\n",
              "    </tr>\n",
              "    <tr>\n",
              "      <th>65</th>\n",
              "      <td>6.0</td>\n",
              "      <td>1.0</td>\n",
              "      <td>19</td>\n",
              "      <td>27</td>\n",
              "      <td>5</td>\n",
              "      <td>0</td>\n",
              "      <td>5</td>\n",
              "      <td>2014</td>\n",
              "      <td>0</td>\n",
              "      <td>0.0</td>\n",
              "    </tr>\n",
              "    <tr>\n",
              "      <th>...</th>\n",
              "      <td>...</td>\n",
              "      <td>...</td>\n",
              "      <td>...</td>\n",
              "      <td>...</td>\n",
              "      <td>...</td>\n",
              "      <td>...</td>\n",
              "      <td>...</td>\n",
              "      <td>...</td>\n",
              "      <td>...</td>\n",
              "      <td>...</td>\n",
              "    </tr>\n",
              "    <tr>\n",
              "      <th>199724</th>\n",
              "      <td>7.5</td>\n",
              "      <td>1.0</td>\n",
              "      <td>11</td>\n",
              "      <td>25</td>\n",
              "      <td>11</td>\n",
              "      <td>4</td>\n",
              "      <td>10</td>\n",
              "      <td>2013</td>\n",
              "      <td>4</td>\n",
              "      <td>0.0</td>\n",
              "    </tr>\n",
              "    <tr>\n",
              "      <th>199880</th>\n",
              "      <td>6.5</td>\n",
              "      <td>1.0</td>\n",
              "      <td>6</td>\n",
              "      <td>45</td>\n",
              "      <td>22</td>\n",
              "      <td>5</td>\n",
              "      <td>2</td>\n",
              "      <td>2014</td>\n",
              "      <td>5</td>\n",
              "      <td>0.0</td>\n",
              "    </tr>\n",
              "    <tr>\n",
              "      <th>199883</th>\n",
              "      <td>12.5</td>\n",
              "      <td>2.0</td>\n",
              "      <td>17</td>\n",
              "      <td>39</td>\n",
              "      <td>10</td>\n",
              "      <td>0</td>\n",
              "      <td>9</td>\n",
              "      <td>2012</td>\n",
              "      <td>0</td>\n",
              "      <td>0.0</td>\n",
              "    </tr>\n",
              "    <tr>\n",
              "      <th>199917</th>\n",
              "      <td>4.5</td>\n",
              "      <td>1.0</td>\n",
              "      <td>22</td>\n",
              "      <td>17</td>\n",
              "      <td>24</td>\n",
              "      <td>0</td>\n",
              "      <td>6</td>\n",
              "      <td>2013</td>\n",
              "      <td>0</td>\n",
              "      <td>0.0</td>\n",
              "    </tr>\n",
              "    <tr>\n",
              "      <th>199963</th>\n",
              "      <td>39.0</td>\n",
              "      <td>1.0</td>\n",
              "      <td>7</td>\n",
              "      <td>46</td>\n",
              "      <td>22</td>\n",
              "      <td>5</td>\n",
              "      <td>9</td>\n",
              "      <td>2012</td>\n",
              "      <td>5</td>\n",
              "      <td>0.0</td>\n",
              "    </tr>\n",
              "  </tbody>\n",
              "</table>\n",
              "<p>5104 rows × 10 columns</p>\n",
              "</div>\n",
              "      <button class=\"colab-df-convert\" onclick=\"convertToInteractive('df-56244408-3de1-44c5-abb3-4dcf418275b8')\"\n",
              "              title=\"Convert this dataframe to an interactive table.\"\n",
              "              style=\"display:none;\">\n",
              "        \n",
              "  <svg xmlns=\"http://www.w3.org/2000/svg\" height=\"24px\"viewBox=\"0 0 24 24\"\n",
              "       width=\"24px\">\n",
              "    <path d=\"M0 0h24v24H0V0z\" fill=\"none\"/>\n",
              "    <path d=\"M18.56 5.44l.94 2.06.94-2.06 2.06-.94-2.06-.94-.94-2.06-.94 2.06-2.06.94zm-11 1L8.5 8.5l.94-2.06 2.06-.94-2.06-.94L8.5 2.5l-.94 2.06-2.06.94zm10 10l.94 2.06.94-2.06 2.06-.94-2.06-.94-.94-2.06-.94 2.06-2.06.94z\"/><path d=\"M17.41 7.96l-1.37-1.37c-.4-.4-.92-.59-1.43-.59-.52 0-1.04.2-1.43.59L10.3 9.45l-7.72 7.72c-.78.78-.78 2.05 0 2.83L4 21.41c.39.39.9.59 1.41.59.51 0 1.02-.2 1.41-.59l7.78-7.78 2.81-2.81c.8-.78.8-2.07 0-2.86zM5.41 20L4 18.59l7.72-7.72 1.47 1.35L5.41 20z\"/>\n",
              "  </svg>\n",
              "      </button>\n",
              "      \n",
              "  <style>\n",
              "    .colab-df-container {\n",
              "      display:flex;\n",
              "      flex-wrap:wrap;\n",
              "      gap: 12px;\n",
              "    }\n",
              "\n",
              "    .colab-df-convert {\n",
              "      background-color: #E8F0FE;\n",
              "      border: none;\n",
              "      border-radius: 50%;\n",
              "      cursor: pointer;\n",
              "      display: none;\n",
              "      fill: #1967D2;\n",
              "      height: 32px;\n",
              "      padding: 0 0 0 0;\n",
              "      width: 32px;\n",
              "    }\n",
              "\n",
              "    .colab-df-convert:hover {\n",
              "      background-color: #E2EBFA;\n",
              "      box-shadow: 0px 1px 2px rgba(60, 64, 67, 0.3), 0px 1px 3px 1px rgba(60, 64, 67, 0.15);\n",
              "      fill: #174EA6;\n",
              "    }\n",
              "\n",
              "    [theme=dark] .colab-df-convert {\n",
              "      background-color: #3B4455;\n",
              "      fill: #D2E3FC;\n",
              "    }\n",
              "\n",
              "    [theme=dark] .colab-df-convert:hover {\n",
              "      background-color: #434B5C;\n",
              "      box-shadow: 0px 1px 3px 1px rgba(0, 0, 0, 0.15);\n",
              "      filter: drop-shadow(0px 1px 2px rgba(0, 0, 0, 0.3));\n",
              "      fill: #FFFFFF;\n",
              "    }\n",
              "  </style>\n",
              "\n",
              "      <script>\n",
              "        const buttonEl =\n",
              "          document.querySelector('#df-56244408-3de1-44c5-abb3-4dcf418275b8 button.colab-df-convert');\n",
              "        buttonEl.style.display =\n",
              "          google.colab.kernel.accessAllowed ? 'block' : 'none';\n",
              "\n",
              "        async function convertToInteractive(key) {\n",
              "          const element = document.querySelector('#df-56244408-3de1-44c5-abb3-4dcf418275b8');\n",
              "          const dataTable =\n",
              "            await google.colab.kernel.invokeFunction('convertToInteractive',\n",
              "                                                     [key], {});\n",
              "          if (!dataTable) return;\n",
              "\n",
              "          const docLinkHtml = 'Like what you see? Visit the ' +\n",
              "            '<a target=\"_blank\" href=https://colab.research.google.com/notebooks/data_table.ipynb>data table notebook</a>'\n",
              "            + ' to learn more about interactive tables.';\n",
              "          element.innerHTML = '';\n",
              "          dataTable['output_type'] = 'display_data';\n",
              "          await google.colab.output.renderOutput(dataTable, element);\n",
              "          const docLink = document.createElement('div');\n",
              "          docLink.innerHTML = docLinkHtml;\n",
              "          element.appendChild(docLink);\n",
              "        }\n",
              "      </script>\n",
              "    </div>\n",
              "  </div>\n",
              "  "
            ]
          },
          "metadata": {},
          "execution_count": 60
        }
      ],
      "source": [
        "df[(df['distance']==0)]"
      ]
    },
    {
      "cell_type": "markdown",
      "metadata": {
        "id": "h31QMxTj4e3q"
      },
      "source": [
        "scenario_1  : distance =0 and fareamount not equal to 0"
      ]
    },
    {
      "cell_type": "code",
      "execution_count": 61,
      "metadata": {
        "id": "DZoPL_9r4KBY"
      },
      "outputs": [],
      "source": [
        "scenario_1= df.loc[(df['distance']==0) & (df['fare_amount']!=0)]"
      ]
    },
    {
      "cell_type": "code",
      "execution_count": 62,
      "metadata": {
        "colab": {
          "base_uri": "https://localhost:8080/"
        },
        "id": "XfbwJmWQ4XHo",
        "outputId": "81e7c0b5-63b5-4d1b-ceda-9aff0721d232"
      },
      "outputs": [
        {
          "output_type": "execute_result",
          "data": {
            "text/plain": [
              "5104"
            ]
          },
          "metadata": {},
          "execution_count": 62
        }
      ],
      "source": [
        "len(scenario_1)"
      ]
    },
    {
      "cell_type": "code",
      "execution_count": 63,
      "metadata": {
        "id": "PzbXNBcS4qs0"
      },
      "outputs": [],
      "source": [
        "scenario_2= df.loc[(df['distance']!=0) & (df['fare_amount']!=0)]"
      ]
    },
    {
      "cell_type": "code",
      "execution_count": 64,
      "metadata": {
        "colab": {
          "base_uri": "https://localhost:8080/"
        },
        "id": "5QnPx20Z4xzH",
        "outputId": "6ccd17aa-225d-43ce-d9f3-517e866c9f8e"
      },
      "outputs": [
        {
          "output_type": "execute_result",
          "data": {
            "text/plain": [
              "176567"
            ]
          },
          "metadata": {},
          "execution_count": 64
        }
      ],
      "source": [
        "len(scenario_2)"
      ]
    },
    {
      "cell_type": "code",
      "execution_count": 65,
      "metadata": {
        "id": "YPAF1jsF423J"
      },
      "outputs": [],
      "source": [
        "scenario_3= df.loc[(df['distance']==0) & (df['fare_amount']==0)]"
      ]
    },
    {
      "cell_type": "code",
      "execution_count": 66,
      "metadata": {
        "colab": {
          "base_uri": "https://localhost:8080/"
        },
        "id": "n1oTntvE47kw",
        "outputId": "de7acfe8-a9d3-4398-f59e-dbd8c4b17da9"
      },
      "outputs": [
        {
          "output_type": "execute_result",
          "data": {
            "text/plain": [
              "0"
            ]
          },
          "metadata": {},
          "execution_count": 66
        }
      ],
      "source": [
        "len(scenario_3)"
      ]
    },
    {
      "cell_type": "code",
      "execution_count": 66,
      "metadata": {
        "id": "ZvZ_o4nD2K4K"
      },
      "outputs": [],
      "source": []
    },
    {
      "cell_type": "code",
      "execution_count": 67,
      "metadata": {
        "colab": {
          "base_uri": "https://localhost:8080/",
          "height": 206
        },
        "id": "vYrMn72f4xHx",
        "outputId": "8696d735-c0af-4417-c3cc-83a1bfdd9301"
      },
      "outputs": [
        {
          "output_type": "execute_result",
          "data": {
            "text/plain": [
              "   fare_amount  passenger_count  Hour  minute  date  day  month  year  \\\n",
              "0          7.5              1.0    19      52     7    3      5  2015   \n",
              "1          7.7              1.0    20       4    17    4      7  2009   \n",
              "2         12.9              1.0    21      45    24    0      8  2009   \n",
              "3          5.3              3.0     8      22    26    4      6  2009   \n",
              "5          4.9              1.0     2      27    12    5      2  2011   \n",
              "\n",
              "   Day of Week  distance  \n",
              "0            3  1.683323  \n",
              "1            4  2.457590  \n",
              "2            0  5.036377  \n",
              "3            4  1.661683  \n",
              "5            5  0.000000  "
            ],
            "text/html": [
              "\n",
              "  <div id=\"df-4b511ce6-a2df-4d91-8527-db69eed27023\">\n",
              "    <div class=\"colab-df-container\">\n",
              "      <div>\n",
              "<style scoped>\n",
              "    .dataframe tbody tr th:only-of-type {\n",
              "        vertical-align: middle;\n",
              "    }\n",
              "\n",
              "    .dataframe tbody tr th {\n",
              "        vertical-align: top;\n",
              "    }\n",
              "\n",
              "    .dataframe thead th {\n",
              "        text-align: right;\n",
              "    }\n",
              "</style>\n",
              "<table border=\"1\" class=\"dataframe\">\n",
              "  <thead>\n",
              "    <tr style=\"text-align: right;\">\n",
              "      <th></th>\n",
              "      <th>fare_amount</th>\n",
              "      <th>passenger_count</th>\n",
              "      <th>Hour</th>\n",
              "      <th>minute</th>\n",
              "      <th>date</th>\n",
              "      <th>day</th>\n",
              "      <th>month</th>\n",
              "      <th>year</th>\n",
              "      <th>Day of Week</th>\n",
              "      <th>distance</th>\n",
              "    </tr>\n",
              "  </thead>\n",
              "  <tbody>\n",
              "    <tr>\n",
              "      <th>0</th>\n",
              "      <td>7.5</td>\n",
              "      <td>1.0</td>\n",
              "      <td>19</td>\n",
              "      <td>52</td>\n",
              "      <td>7</td>\n",
              "      <td>3</td>\n",
              "      <td>5</td>\n",
              "      <td>2015</td>\n",
              "      <td>3</td>\n",
              "      <td>1.683323</td>\n",
              "    </tr>\n",
              "    <tr>\n",
              "      <th>1</th>\n",
              "      <td>7.7</td>\n",
              "      <td>1.0</td>\n",
              "      <td>20</td>\n",
              "      <td>4</td>\n",
              "      <td>17</td>\n",
              "      <td>4</td>\n",
              "      <td>7</td>\n",
              "      <td>2009</td>\n",
              "      <td>4</td>\n",
              "      <td>2.457590</td>\n",
              "    </tr>\n",
              "    <tr>\n",
              "      <th>2</th>\n",
              "      <td>12.9</td>\n",
              "      <td>1.0</td>\n",
              "      <td>21</td>\n",
              "      <td>45</td>\n",
              "      <td>24</td>\n",
              "      <td>0</td>\n",
              "      <td>8</td>\n",
              "      <td>2009</td>\n",
              "      <td>0</td>\n",
              "      <td>5.036377</td>\n",
              "    </tr>\n",
              "    <tr>\n",
              "      <th>3</th>\n",
              "      <td>5.3</td>\n",
              "      <td>3.0</td>\n",
              "      <td>8</td>\n",
              "      <td>22</td>\n",
              "      <td>26</td>\n",
              "      <td>4</td>\n",
              "      <td>6</td>\n",
              "      <td>2009</td>\n",
              "      <td>4</td>\n",
              "      <td>1.661683</td>\n",
              "    </tr>\n",
              "    <tr>\n",
              "      <th>5</th>\n",
              "      <td>4.9</td>\n",
              "      <td>1.0</td>\n",
              "      <td>2</td>\n",
              "      <td>27</td>\n",
              "      <td>12</td>\n",
              "      <td>5</td>\n",
              "      <td>2</td>\n",
              "      <td>2011</td>\n",
              "      <td>5</td>\n",
              "      <td>0.000000</td>\n",
              "    </tr>\n",
              "  </tbody>\n",
              "</table>\n",
              "</div>\n",
              "      <button class=\"colab-df-convert\" onclick=\"convertToInteractive('df-4b511ce6-a2df-4d91-8527-db69eed27023')\"\n",
              "              title=\"Convert this dataframe to an interactive table.\"\n",
              "              style=\"display:none;\">\n",
              "        \n",
              "  <svg xmlns=\"http://www.w3.org/2000/svg\" height=\"24px\"viewBox=\"0 0 24 24\"\n",
              "       width=\"24px\">\n",
              "    <path d=\"M0 0h24v24H0V0z\" fill=\"none\"/>\n",
              "    <path d=\"M18.56 5.44l.94 2.06.94-2.06 2.06-.94-2.06-.94-.94-2.06-.94 2.06-2.06.94zm-11 1L8.5 8.5l.94-2.06 2.06-.94-2.06-.94L8.5 2.5l-.94 2.06-2.06.94zm10 10l.94 2.06.94-2.06 2.06-.94-2.06-.94-.94-2.06-.94 2.06-2.06.94z\"/><path d=\"M17.41 7.96l-1.37-1.37c-.4-.4-.92-.59-1.43-.59-.52 0-1.04.2-1.43.59L10.3 9.45l-7.72 7.72c-.78.78-.78 2.05 0 2.83L4 21.41c.39.39.9.59 1.41.59.51 0 1.02-.2 1.41-.59l7.78-7.78 2.81-2.81c.8-.78.8-2.07 0-2.86zM5.41 20L4 18.59l7.72-7.72 1.47 1.35L5.41 20z\"/>\n",
              "  </svg>\n",
              "      </button>\n",
              "      \n",
              "  <style>\n",
              "    .colab-df-container {\n",
              "      display:flex;\n",
              "      flex-wrap:wrap;\n",
              "      gap: 12px;\n",
              "    }\n",
              "\n",
              "    .colab-df-convert {\n",
              "      background-color: #E8F0FE;\n",
              "      border: none;\n",
              "      border-radius: 50%;\n",
              "      cursor: pointer;\n",
              "      display: none;\n",
              "      fill: #1967D2;\n",
              "      height: 32px;\n",
              "      padding: 0 0 0 0;\n",
              "      width: 32px;\n",
              "    }\n",
              "\n",
              "    .colab-df-convert:hover {\n",
              "      background-color: #E2EBFA;\n",
              "      box-shadow: 0px 1px 2px rgba(60, 64, 67, 0.3), 0px 1px 3px 1px rgba(60, 64, 67, 0.15);\n",
              "      fill: #174EA6;\n",
              "    }\n",
              "\n",
              "    [theme=dark] .colab-df-convert {\n",
              "      background-color: #3B4455;\n",
              "      fill: #D2E3FC;\n",
              "    }\n",
              "\n",
              "    [theme=dark] .colab-df-convert:hover {\n",
              "      background-color: #434B5C;\n",
              "      box-shadow: 0px 1px 3px 1px rgba(0, 0, 0, 0.15);\n",
              "      filter: drop-shadow(0px 1px 2px rgba(0, 0, 0, 0.3));\n",
              "      fill: #FFFFFF;\n",
              "    }\n",
              "  </style>\n",
              "\n",
              "      <script>\n",
              "        const buttonEl =\n",
              "          document.querySelector('#df-4b511ce6-a2df-4d91-8527-db69eed27023 button.colab-df-convert');\n",
              "        buttonEl.style.display =\n",
              "          google.colab.kernel.accessAllowed ? 'block' : 'none';\n",
              "\n",
              "        async function convertToInteractive(key) {\n",
              "          const element = document.querySelector('#df-4b511ce6-a2df-4d91-8527-db69eed27023');\n",
              "          const dataTable =\n",
              "            await google.colab.kernel.invokeFunction('convertToInteractive',\n",
              "                                                     [key], {});\n",
              "          if (!dataTable) return;\n",
              "\n",
              "          const docLinkHtml = 'Like what you see? Visit the ' +\n",
              "            '<a target=\"_blank\" href=https://colab.research.google.com/notebooks/data_table.ipynb>data table notebook</a>'\n",
              "            + ' to learn more about interactive tables.';\n",
              "          element.innerHTML = '';\n",
              "          dataTable['output_type'] = 'display_data';\n",
              "          await google.colab.output.renderOutput(dataTable, element);\n",
              "          const docLink = document.createElement('div');\n",
              "          docLink.innerHTML = docLinkHtml;\n",
              "          element.appendChild(docLink);\n",
              "        }\n",
              "      </script>\n",
              "    </div>\n",
              "  </div>\n",
              "  "
            ]
          },
          "metadata": {},
          "execution_count": 67
        }
      ],
      "source": [
        "df.head()"
      ]
    },
    {
      "cell_type": "code",
      "execution_count": 68,
      "metadata": {
        "colab": {
          "base_uri": "https://localhost:8080/"
        },
        "id": "mD6jQD9gkVYi",
        "outputId": "a9f9239c-06d5-4950-e597-f53b6da39970"
      },
      "outputs": [
        {
          "output_type": "execute_result",
          "data": {
            "text/plain": [
              "(181671, 10)"
            ]
          },
          "metadata": {},
          "execution_count": 68
        }
      ],
      "source": [
        "df.shape"
      ]
    },
    {
      "cell_type": "code",
      "execution_count": 69,
      "metadata": {
        "colab": {
          "base_uri": "https://localhost:8080/",
          "height": 297
        },
        "id": "t6vQ2ZVIkXgz",
        "outputId": "6d639f83-cdbd-4669-dbef-c96650c461a3"
      },
      "outputs": [
        {
          "output_type": "execute_result",
          "data": {
            "text/plain": [
              "<matplotlib.axes._subplots.AxesSubplot at 0x7f11d9c1df90>"
            ]
          },
          "metadata": {},
          "execution_count": 69
        },
        {
          "output_type": "display_data",
          "data": {
            "text/plain": [
              "<Figure size 432x288 with 1 Axes>"
            ],
            "image/png": "[encoded data removed]"
          },
          "metadata": {
            "needs_background": "light"
          }
        }
      ],
      "source": [
        "sns.scatterplot(x=df['distance'],y=df['fare_amount'])"
      ]
    },
    {
      "cell_type": "code",
      "execution_count": 70,
      "metadata": {
        "colab": {
          "base_uri": "https://localhost:8080/",
          "height": 298
        },
        "id": "rZOMRqHroD_s",
        "outputId": "8b762506-2595-4f16-876a-e090a8b68512"
      },
      "outputs": [
        {
          "output_type": "execute_result",
          "data": {
            "text/plain": [
              "<matplotlib.axes._subplots.AxesSubplot at 0x7f11d6687190>"
            ]
          },
          "metadata": {},
          "execution_count": 70
        },
        {
          "output_type": "display_data",
          "data": {
            "text/plain": [
              "<Figure size 432x288 with 1 Axes>"
            ],
            "image/png": "[encoded data removed]"
          },
          "metadata": {
            "needs_background": "light"
          }
        }
      ],
      "source": [
        "sns.scatterplot(x=df['fare_amount'],y=df['distance'])"
      ]
    },
    {
      "cell_type": "markdown",
      "metadata": {
        "id": "2G9X4NXlf6Ce"
      },
      "source": [
        "Create a function for Z-score using the below formula\n",
        "\n",
        "![image.png](data:image/png;base64,iVBORw0KGgoAAAANSUhEUgAAAJEAAAA2CAYAAADHwXt1AAAET0lEQVR4nO2cvZLbNhCAv8QpUirnJwjzBnLcpbOuc6mMuyuVN1CegS7d6Vy6VDq7k126snXldbrWlSOX6S7FEuYfSAkUTwDI/WY4kkiKs0sCy93FAjAepsDCtxARMgdmvoUIgQTY+BYiYtZIJxw1W2DiW4iImdByDx+dVxYvpMAn4INvQSLmv+zzCnjnUxAfTIA9aoX6Yo+4BiWGbomuEMX/8S3IQLgAfgfe+xbknGyR6ELphxnSKUv84EGQc2FeZb8A31rOmwNPs/O/AX8jkcgL4CvwONsXCymiy1+V/QnSqX6l/X4c4h54AtyccI1osPaaCnPKlmqL5JLSwvF74gpv78nlL5Jmx05lRyXf9lMPFw2VBLhrOT5BLFDRytwBK+C37PdT5P0fS68zjf1Tw7E+9Lgjvz+DJ6U9wbigHmlsD/wndJaItbFFo00WypV1tn3nxx4uGirGx2nimrqlmhJ3I7pEdKrqbSxUH7r9S6WRDrkRXTieb8aHHip83SLWwHVziS6bwm+j2+cuglsoNdIh+0R3uDnEl9nnMX7DkrIVOyYP9cRBli4kiIWwWZsmC2Vw0ecCsUajYIn0/mPZUX8ACXVLsCLv2SZsDoEFYrlqGWUkSl1l36eUR+Vd9dkg93YUzGkP8TfkoeoUu+Npc0S3lEe1QxlSWWN3qk2awui6rJzjqs+OESVwE5ojlRllfyOlHs1Vc0jF/cZfCak6YE/dh0rI80NFXYu46tNk7QbLnuZekyK9MiW/KavCvkOFWHOkV4Zg2k2HWZG/bpbk1meOWBuTzbZxjD6z7JxRkZL7An2wo9y4zMPyjfGHXK2iqz7pgeODJOHw0IcLa8vvEF5na7pZCFd9RlkKskdC0inwsYfr3QN/IIOYz4FXwJcernsq18Bb3AvGXPRZIPfzTUcZoyckB7hvjD/0kBFTa3nsWBhyof4UeZU95AN2KtRfIiZrQ1moPgbufKNThrrhNGVogbToVfZpzNcx4a4yYopjZ5eU60RmwGukNqWPQckl9Wq7Y7kB/uxBBuXMJIwwJ6C401RjbQbpXp5Rlr7oowRUOZGmMSNFsVK1RAukruSQD9SlnkYZAUvsuYBqWNy1nsakD7ps1fS8EiAL5EFVX2NT6g8w1HoaxSNTxLqYnJCpgltjn8ceaj2N4hFbNd8eaSBtxUch1dMoERFqPY0SEaHW0ygecV3QYU4+ZSRBQvu2qcqKoiiKogwOM9ffTO+xbepjKo2Y/FqafTcreGyRiHdGXOsgKWemabEs05AU5SB77Pk0M31bLZDSSpu10UakHIUZsLbRdeaqMjKKK3JU2TCAue1DXuQqJGxZ/QkSkV1ajhm0+E8BmtfzMeU2TYS6mJbigTn12bemCLCNaIr/hryifkiYVfu/InP7tsgiDIf+YxraDfCM01bCV0ZM8MV/Q19aJlZ2wC3iVN8CP2f7+1geRxkJURX/qU8UJlEV//0PVxklh55JLh8AAAAASUVORK5CYII=)"
      ]
    },
    {
      "cell_type": "code",
      "execution_count": 71,
      "metadata": {
        "id": "dmf8YZdLoHMl"
      },
      "outputs": [],
      "source": [
        "outliers =[]\n",
        "def outliers_zscore(df):\n",
        "    max_dev = 10\n",
        "    mean = np.mean(df)\n",
        "    std = np.std(df)\n",
        "    for i in df:\n",
        "        Z_score = (i-mean)/std\n",
        "        if np.abs(Z_score)>max_dev:\n",
        "            outliers.append(i)\n",
        "    return outliers"
      ]
    },
    {
      "cell_type": "code",
      "execution_count": 72,
      "metadata": {
        "id": "bSFccByvgQ8Q"
      },
      "outputs": [],
      "source": [
        "z_score_outlier = outliers_zscore(df['distance'])"
      ]
    },
    {
      "cell_type": "code",
      "execution_count": 73,
      "metadata": {
        "colab": {
          "base_uri": "https://localhost:8080/"
        },
        "id": "ggf5wbKkgb-F",
        "outputId": "4c7e4ef7-405b-4880-9302-4bfae15c5fb1"
      },
      "outputs": [
        {
          "output_type": "execute_result",
          "data": {
            "text/plain": [
              "[8666.398011893705,\n",
              " 8647.035598410284,\n",
              " 8666.772408492829,\n",
              " 6021.114288963912,\n",
              " 5941.05980139621,\n",
              " 8664.55672771194,\n",
              " 8654.17691733738,\n",
              " 8665.506686140774,\n",
              " 6032.019622606144,\n",
              " 4529.7811253543,\n",
              " 8647.728768268604,\n",
              " 8665.366348487581,\n",
              " 8666.344428280681,\n",
              " 8665.77421618131,\n",
              " 8664.487974628988,\n",
              " 8666.150464250506,\n",
              " 5885.528611469774,\n",
              " 8660.934207817352,\n",
              " 8656.269062038931,\n",
              " 8674.803956410682,\n",
              " 8663.92360073002,\n",
              " 8666.485077032652,\n",
              " 8667.501608017361,\n",
              " 8665.411981553198,\n",
              " 8665.000403612288,\n",
              " 8667.287756040836,\n",
              " 8663.88274165427,\n",
              " 8666.317736805837,\n",
              " 8667.641308227623,\n",
              " 8666.436931100674,\n",
              " 8656.43945104091,\n",
              " 5651.396519240892,\n",
              " 8663.378289547192,\n",
              " 8669.531629673844,\n",
              " 8667.068195440754,\n",
              " 8664.609751910566,\n",
              " 8670.986537624896,\n",
              " 8666.443832444893,\n",
              " 4445.3824536070115,\n",
              " 8667.460972843573,\n",
              " 8666.824666500353,\n",
              " 8666.309612611502,\n",
              " 8666.400403003627,\n",
              " 8666.512861496876,\n",
              " 8666.996267653498,\n",
              " 8662.361853557846,\n",
              " 6030.6721051607465,\n",
              " 8664.33179912851,\n",
              " 8666.595223790797,\n",
              " 8664.252236939961,\n",
              " 8666.431060950621,\n",
              " 8666.084739284352,\n",
              " 8666.691121066026,\n",
              " 8665.252805381298,\n",
              " 8663.380679248141,\n",
              " 8666.278258778128,\n",
              " 8666.774664010281,\n",
              " 8666.074597675039,\n",
              " 8670.152993392652,\n",
              " 8666.028533951441,\n",
              " 8666.56926530595,\n",
              " 4644.267681327299,\n",
              " 8665.099954680923,\n",
              " 8663.795349318434,\n",
              " 8776.10627864272,\n",
              " 8666.08576066199,\n",
              " 8666.348594409685,\n",
              " 8665.384389320016,\n",
              " 5445.822216808164,\n",
              " 8665.45411749749,\n",
              " 8664.892748035538,\n",
              " 6029.673042378589,\n",
              " 5448.440371149321,\n",
              " 8667.6203847283,\n",
              " 8666.872188951185,\n",
              " 8666.532396988772,\n",
              " 8666.64872360732,\n",
              " 8669.795863136906,\n",
              " 8647.09823161497,\n",
              " 8665.636930284345,\n",
              " 6032.507120068936,\n",
              " 8666.220682339499,\n",
              " 8665.051188963485,\n",
              " 8666.445863043591,\n",
              " 8665.652815004682,\n",
              " 8665.43318741242,\n",
              " 8663.865717699362,\n",
              " 8665.62993868361,\n",
              " 8665.292114981596,\n",
              " 8640.471066440132,\n",
              " 8667.41952770787,\n",
              " 8665.174814834432,\n",
              " 8666.895434265229,\n",
              " 4529.381614992154,\n",
              " 8666.051034729353,\n",
              " 8662.791291725085,\n",
              " 8666.334036596536,\n",
              " 8666.402300183965,\n",
              " 8656.463442245258,\n",
              " 8667.586578719034,\n",
              " 8663.836883419712,\n",
              " 8640.53158553477,\n",
              " 8665.888469825333,\n",
              " 8666.628061562404,\n",
              " 8660.720873219172,\n",
              " 8664.110607839719,\n",
              " 6028.930043844168,\n",
              " 8666.319502934966,\n",
              " 8664.847021544694,\n",
              " 8667.156408444624,\n",
              " 8656.269839367409,\n",
              " 8661.511145699746,\n",
              " 8665.220731409341,\n",
              " 8667.280812311747,\n",
              " 8666.010863666274,\n",
              " 8661.126859124663,\n",
              " 6022.748042033978,\n",
              " 8663.412286537294,\n",
              " 8664.472576618182,\n",
              " 6028.283894390815,\n",
              " 8664.739866620048,\n",
              " 5418.65881402757,\n",
              " 8666.605001746491,\n",
              " 8661.896089714097,\n",
              " 8665.58017031916,\n",
              " 8647.608823416427,\n",
              " 8664.087859142372,\n",
              " 8664.741976948171,\n",
              " 8666.6497976702,\n",
              " 8665.95911538339,\n",
              " 8661.454909014767,\n",
              " 4530.787940711428,\n",
              " 8782.898606177194,\n",
              " 6032.397863846438,\n",
              " 6026.60522087935,\n",
              " 8666.157071000609,\n",
              " 8667.283241199564,\n",
              " 8664.928947147733,\n",
              " 8667.693178155827,\n",
              " 8647.768344668764,\n",
              " 8662.264337243465,\n",
              " 4079.1867834766,\n",
              " 8664.978772980616,\n",
              " 8667.212218481518,\n",
              " 8666.777102238022,\n",
              " 8666.414158559577,\n",
              " 8667.394623736114,\n",
              " 8665.985142859407,\n",
              " 8652.768209193024,\n",
              " 6019.502069224716,\n",
              " 8656.60181251733,\n",
              " 5494.9937792682795,\n",
              " 8680.851745848038,\n",
              " 8665.70325846944,\n",
              " 8666.599024869834,\n",
              " 8665.579088770108,\n",
              " 8665.479967846039,\n",
              " 8665.071975050101,\n",
              " 8665.00466892101,\n",
              " 8667.7770045848,\n",
              " 8664.98357472443,\n",
              " 8664.106526427186,\n",
              " 4081.372866591482,\n",
              " 8667.310432355067,\n",
              " 8666.177461456424,\n",
              " 8664.00911265347,\n",
              " 8664.074415533943,\n",
              " 8664.575401978323,\n",
              " 8666.2767494173,\n",
              " 8657.95509432514,\n",
              " 8666.258417511172,\n",
              " 8664.51973466743,\n",
              " 5933.37035116987,\n",
              " 8666.292739251503,\n",
              " 8665.481345523543,\n",
              " 8666.48566327837,\n",
              " 8663.10798502844,\n",
              " 8666.068276694781,\n",
              " 8666.873680341656,\n",
              " 8666.590423878368,\n",
              " 8665.027182093449,\n",
              " 8664.429078050645,\n",
              " 8660.172735286042,\n",
              " 8647.21027183637,\n",
              " 8667.011961572562,\n",
              " 8663.477811672972,\n",
              " 8663.89026769409,\n",
              " 8669.864300265554,\n",
              " 8665.917387952943,\n",
              " 8665.703606096537,\n",
              " 8666.169938050743,\n",
              " 6037.9562937261,\n",
              " 8665.555720183778,\n",
              " 8664.778514484471,\n",
              " 8664.60069612982,\n",
              " 8661.954171191073,\n",
              " 8663.570723259538,\n",
              " 8665.287631418778,\n",
              " 8666.117299521085,\n",
              " 8666.9499181529,\n",
              " 8663.770371964703,\n",
              " 5419.247635159903,\n",
              " 8666.473130560593,\n",
              " 8664.523217778635,\n",
              " 8667.197529977208,\n",
              " 8665.033484735108,\n",
              " 8666.442196154989,\n",
              " 8665.495189841196,\n",
              " 5954.050697207145,\n",
              " 8663.45456115081,\n",
              " 8664.777213158695,\n",
              " 8666.19858582414,\n",
              " 6033.395367336899,\n",
              " 8667.240669756931,\n",
              " 8665.288428601003,\n",
              " 8657.150248979291,\n",
              " 8664.912406145146,\n",
              " 8659.304331180027,\n",
              " 8664.4472652394,\n",
              " 8656.39523650649,\n",
              " 8661.66128686895,\n",
              " 8665.830564291204,\n",
              " 8664.431526830618,\n",
              " 8663.169332294612,\n",
              " 4461.127769018801,\n",
              " 8666.525387920066,\n",
              " 8664.597208665342,\n",
              " 8666.597297781844,\n",
              " 8670.204551494824,\n",
              " 8647.835673828902,\n",
              " 8663.169923173227,\n",
              " 8666.70370972198,\n",
              " 8663.989789024574,\n",
              " 6031.361768464131,\n",
              " 8666.570158955308,\n",
              " 8664.853357987884,\n",
              " 8664.085438626917,\n",
              " 8647.830096517766,\n",
              " 8666.597069952333,\n",
              " 8667.207513316775,\n",
              " 8663.97132371981,\n",
              " 8665.462638956,\n",
              " 8666.161249305207,\n",
              " 8663.35636083087,\n",
              " 8665.481342073765,\n",
              " 8662.335939282291,\n",
              " 8662.882628301253,\n",
              " 8666.111136521482,\n",
              " 8661.514648214208,\n",
              " 8666.55260360996,\n",
              " 8647.07725701676,\n",
              " 8664.757606247827,\n",
              " 8665.127124984194,\n",
              " 8666.758417737563,\n",
              " 8665.164046023057,\n",
              " 8666.986510518138,\n",
              " 8667.082624761457,\n",
              " 8665.43267846796,\n",
              " 8667.686973356796,\n",
              " 8585.32924516796,\n",
              " 8667.228952286901,\n",
              " 8665.60985521375,\n",
              " 5414.242157130727,\n",
              " 8661.855575880292,\n",
              " 8666.647150288352,\n",
              " 8666.63764077552,\n",
              " 8663.886212079227,\n",
              " 8664.440421585861,\n",
              " 8665.376853033393,\n",
              " 4068.790187864378,\n",
              " 5457.044857844033,\n",
              " 6034.081262387601,\n",
              " 6020.967776887161,\n",
              " 8667.211630756767,\n",
              " 8663.413132983482,\n",
              " 8665.087931587812,\n",
              " 8708.233063178026,\n",
              " 8662.326465490218,\n",
              " 8666.511918557082,\n",
              " 8665.206256561156,\n",
              " 8666.455496637602,\n",
              " 8665.229339119804,\n",
              " 8666.629055366997,\n",
              " 6028.73819442617,\n",
              " 8666.153121043411,\n",
              " 8657.275812561926,\n",
              " 8680.863938171156,\n",
              " 8666.16920189991,\n",
              " 6008.955048039622,\n",
              " 8664.51409872582,\n",
              " 4523.262351312923,\n",
              " 8663.809052360935,\n",
              " 8665.175203438288,\n",
              " 8667.507381323247,\n",
              " 8664.525773968038,\n",
              " 8664.554995799888,\n",
              " 8666.53462916676,\n",
              " 8667.294049954611,\n",
              " 8665.703039502312,\n",
              " 4454.5583689038285,\n",
              " 8666.005583883083,\n",
              " 8665.276583538296,\n",
              " 8651.72909087053,\n",
              " 8640.757983404723,\n",
              " 8665.903285026987,\n",
              " 8664.35134095849,\n",
              " 8665.719163806267,\n",
              " 8666.719980130518,\n",
              " 8665.113469999847,\n",
              " 8665.481305079078,\n",
              " 8666.859579618986,\n",
              " 8667.382543079893,\n",
              " 8666.26993966847,\n",
              " 8666.812992231433,\n",
              " 8665.113019985822,\n",
              " 8647.567274342822,\n",
              " 8666.868914142053,\n",
              " 8646.678522844559,\n",
              " 8666.124165057307,\n",
              " 8666.320567240848,\n",
              " 8666.334759096942,\n",
              " 8667.63693290143,\n",
              " 8663.823352524181,\n",
              " 8663.417580438185,\n",
              " 8665.650134525791,\n",
              " 8666.39395085427,\n",
              " 8665.356106063507,\n",
              " 8681.10593002499,\n",
              " 8664.979918071487,\n",
              " 8667.542102745685,\n",
              " 8665.354310663837,\n",
              " 8665.580121456363,\n",
              " 8666.96019753262,\n",
              " 5415.607670292539,\n",
              " 8665.19526448858,\n",
              " 8666.943378023647,\n",
              " 8666.245025360466,\n",
              " 8663.604371303987,\n",
              " 8665.261270976833,\n",
              " 8666.341231822875,\n",
              " 6032.194972496654,\n",
              " 8666.338149499874,\n",
              " 8666.120392351057,\n",
              " 8660.542908791973,\n",
              " 5934.704576659668,\n",
              " 8667.185284457939,\n",
              " 8666.817405981286,\n",
              " 8666.817397495844,\n",
              " 8666.326553145165,\n",
              " 8665.80390846025,\n",
              " 8664.76609732811,\n",
              " 8663.591625641755,\n",
              " 8666.882465643386,\n",
              " 8649.022334941887,\n",
              " 8667.442786626376,\n",
              " 8666.64311375837,\n",
              " 8662.015178174577,\n",
              " 8666.322500424,\n",
              " 8666.147952812153,\n",
              " 8665.634729335108,\n",
              " 8666.66504764849,\n",
              " 8665.322647900079,\n",
              " 8667.555446322203,\n",
              " 8659.96590399087,\n",
              " 8665.43651223066,\n",
              " 8666.114160421106,\n",
              " 8666.174552865323,\n",
              " 8657.152157968176,\n",
              " 8662.105697454635,\n",
              " 8667.762148378777,\n",
              " 8663.526930445267,\n",
              " 5727.572530078316,\n",
              " 8665.918376725383,\n",
              " 8666.25679636466,\n",
              " 8656.690250199867,\n",
              " 8661.779757584525,\n",
              " 8665.814315926787,\n",
              " 8666.125840126504,\n",
              " 8647.904024954369,\n",
              " 8664.389118823994,\n",
              " 8665.747166998268]"
            ]
          },
          "metadata": {},
          "execution_count": 73
        }
      ],
      "source": [
        "z_score_outlier"
      ]
    },
    {
      "cell_type": "code",
      "execution_count": 73,
      "metadata": {
        "id": "vjN5-2sDjjRC"
      },
      "outputs": [],
      "source": []
    },
    {
      "cell_type": "code",
      "execution_count": 74,
      "metadata": {
        "colab": {
          "base_uri": "https://localhost:8080/",
          "height": 297
        },
        "id": "fdzl8_m4hINJ",
        "outputId": "7c585560-07e2-478a-e6ff-56f880e58f3e"
      },
      "outputs": [
        {
          "output_type": "execute_result",
          "data": {
            "text/plain": [
              "<matplotlib.axes._subplots.AxesSubplot at 0x7f11d6610710>"
            ]
          },
          "metadata": {},
          "execution_count": 74
        },
        {
          "output_type": "display_data",
          "data": {
            "text/plain": [
              "<Figure size 432x288 with 1 Axes>"
            ],
            "image/png": "[encoded data removed]"
          },
          "metadata": {
            "needs_background": "light"
          }
        }
      ],
      "source": [
        "sns.scatterplot(x=df['distance'],y=df['fare_amount'])"
      ]
    },
    {
      "cell_type": "code",
      "execution_count": 75,
      "metadata": {
        "id": "F9gOIwYAhItL"
      },
      "outputs": [],
      "source": [
        "quartile1,quartile3=np.percentile(df['distance'],[5,95])\n"
      ]
    },
    {
      "cell_type": "code",
      "execution_count": 76,
      "metadata": {
        "colab": {
          "base_uri": "https://localhost:8080/"
        },
        "id": "i5nwkPqciqUH",
        "outputId": "b75a2da5-b36d-446b-c95f-c91e953e1d4c"
      },
      "outputs": [
        {
          "output_type": "stream",
          "name": "stdout",
          "text": [
            "0.42794793611025417 10.102161489750475\n"
          ]
        }
      ],
      "source": [
        "print(quartile1,quartile3)"
      ]
    },
    {
      "cell_type": "code",
      "execution_count": 77,
      "metadata": {
        "colab": {
          "base_uri": "https://localhost:8080/"
        },
        "id": "pnMWlhahiwen",
        "outputId": "1076c61c-c7ce-4d7a-bbca-5a82f20ec942"
      },
      "outputs": [
        {
          "output_type": "stream",
          "name": "stdout",
          "text": [
            "9.674213553640222\n"
          ]
        }
      ],
      "source": [
        "interquartile_range = quartile3-quartile1\n",
        "print(interquartile_range)\n"
      ]
    },
    {
      "cell_type": "code",
      "execution_count": 78,
      "metadata": {
        "id": "X7XG2A_ui0Ji"
      },
      "outputs": [],
      "source": [
        "lower_bound = quartile1 -(1.5*interquartile_range)\n",
        "upper_bound = quartile3 +(1.5*interquartile_range)"
      ]
    },
    {
      "cell_type": "code",
      "execution_count": 79,
      "metadata": {
        "colab": {
          "base_uri": "https://localhost:8080/"
        },
        "id": "A6j6ql0Xi31M",
        "outputId": "88e63b33-8aa8-475d-f27e-4d586b0dd378"
      },
      "outputs": [
        {
          "output_type": "stream",
          "name": "stdout",
          "text": [
            "-14.083372394350079 24.613481820210808\n"
          ]
        }
      ],
      "source": [
        "print(lower_bound,upper_bound)\n"
      ]
    },
    {
      "cell_type": "code",
      "execution_count": 80,
      "metadata": {
        "id": "CxH60YvljUxI"
      },
      "outputs": [],
      "source": [
        "df.drop(df[df['distance'] >= 50].index, inplace=True)\n",
        "df.drop(df[df['distance'] <= 0 ].index, inplace=True)"
      ]
    },
    {
      "cell_type": "code",
      "execution_count": 81,
      "metadata": {
        "colab": {
          "base_uri": "https://localhost:8080/",
          "height": 297
        },
        "id": "sDYAVEJijvj1",
        "outputId": "1ffa79cc-f27e-4ca2-d9f9-fd33ef21ba2a"
      },
      "outputs": [
        {
          "output_type": "execute_result",
          "data": {
            "text/plain": [
              "<matplotlib.axes._subplots.AxesSubplot at 0x7f11d658c410>"
            ]
          },
          "metadata": {},
          "execution_count": 81
        },
        {
          "output_type": "display_data",
          "data": {
            "text/plain": [
              "<Figure size 432x288 with 1 Axes>"
            ],
            "image/png": "[encoded data removed]"
          },
          "metadata": {
            "needs_background": "light"
          }
        }
      ],
      "source": [
        "sns.scatterplot(x=df['distance'],y=df['fare_amount'])"
      ]
    },
    {
      "cell_type": "code",
      "execution_count": 82,
      "metadata": {
        "colab": {
          "base_uri": "https://localhost:8080/",
          "height": 206
        },
        "id": "RGaRk_lPytZn",
        "outputId": "8ea2ed5b-f9b5-4362-b8c9-a41f86e127d8"
      },
      "outputs": [
        {
          "output_type": "execute_result",
          "data": {
            "text/plain": [
              "   fare_amount  passenger_count  Hour  minute  date  day  month  year  \\\n",
              "0          7.5              1.0    19      52     7    3      5  2015   \n",
              "1          7.7              1.0    20       4    17    4      7  2009   \n",
              "2         12.9              1.0    21      45    24    0      8  2009   \n",
              "3          5.3              3.0     8      22    26    4      6  2009   \n",
              "8          9.7              1.0     9      32    17    4      2  2012   \n",
              "\n",
              "   Day of Week  distance  \n",
              "0            3  1.683323  \n",
              "1            4  2.457590  \n",
              "2            0  5.036377  \n",
              "3            4  1.661683  \n",
              "8            4  2.332711  "
            ],
            "text/html": [
              "\n",
              "  <div id=\"df-23c1cef9-546f-4695-b622-bfe80a17c26c\">\n",
              "    <div class=\"colab-df-container\">\n",
              "      <div>\n",
              "<style scoped>\n",
              "    .dataframe tbody tr th:only-of-type {\n",
              "        vertical-align: middle;\n",
              "    }\n",
              "\n",
              "    .dataframe tbody tr th {\n",
              "        vertical-align: top;\n",
              "    }\n",
              "\n",
              "    .dataframe thead th {\n",
              "        text-align: right;\n",
              "    }\n",
              "</style>\n",
              "<table border=\"1\" class=\"dataframe\">\n",
              "  <thead>\n",
              "    <tr style=\"text-align: right;\">\n",
              "      <th></th>\n",
              "      <th>fare_amount</th>\n",
              "      <th>passenger_count</th>\n",
              "      <th>Hour</th>\n",
              "      <th>minute</th>\n",
              "      <th>date</th>\n",
              "      <th>day</th>\n",
              "      <th>month</th>\n",
              "      <th>year</th>\n",
              "      <th>Day of Week</th>\n",
              "      <th>distance</th>\n",
              "    </tr>\n",
              "  </thead>\n",
              "  <tbody>\n",
              "    <tr>\n",
              "      <th>0</th>\n",
              "      <td>7.5</td>\n",
              "      <td>1.0</td>\n",
              "      <td>19</td>\n",
              "      <td>52</td>\n",
              "      <td>7</td>\n",
              "      <td>3</td>\n",
              "      <td>5</td>\n",
              "      <td>2015</td>\n",
              "      <td>3</td>\n",
              "      <td>1.683323</td>\n",
              "    </tr>\n",
              "    <tr>\n",
              "      <th>1</th>\n",
              "      <td>7.7</td>\n",
              "      <td>1.0</td>\n",
              "      <td>20</td>\n",
              "      <td>4</td>\n",
              "      <td>17</td>\n",
              "      <td>4</td>\n",
              "      <td>7</td>\n",
              "      <td>2009</td>\n",
              "      <td>4</td>\n",
              "      <td>2.457590</td>\n",
              "    </tr>\n",
              "    <tr>\n",
              "      <th>2</th>\n",
              "      <td>12.9</td>\n",
              "      <td>1.0</td>\n",
              "      <td>21</td>\n",
              "      <td>45</td>\n",
              "      <td>24</td>\n",
              "      <td>0</td>\n",
              "      <td>8</td>\n",
              "      <td>2009</td>\n",
              "      <td>0</td>\n",
              "      <td>5.036377</td>\n",
              "    </tr>\n",
              "    <tr>\n",
              "      <th>3</th>\n",
              "      <td>5.3</td>\n",
              "      <td>3.0</td>\n",
              "      <td>8</td>\n",
              "      <td>22</td>\n",
              "      <td>26</td>\n",
              "      <td>4</td>\n",
              "      <td>6</td>\n",
              "      <td>2009</td>\n",
              "      <td>4</td>\n",
              "      <td>1.661683</td>\n",
              "    </tr>\n",
              "    <tr>\n",
              "      <th>8</th>\n",
              "      <td>9.7</td>\n",
              "      <td>1.0</td>\n",
              "      <td>9</td>\n",
              "      <td>32</td>\n",
              "      <td>17</td>\n",
              "      <td>4</td>\n",
              "      <td>2</td>\n",
              "      <td>2012</td>\n",
              "      <td>4</td>\n",
              "      <td>2.332711</td>\n",
              "    </tr>\n",
              "  </tbody>\n",
              "</table>\n",
              "</div>\n",
              "      <button class=\"colab-df-convert\" onclick=\"convertToInteractive('df-23c1cef9-546f-4695-b622-bfe80a17c26c')\"\n",
              "              title=\"Convert this dataframe to an interactive table.\"\n",
              "              style=\"display:none;\">\n",
              "        \n",
              "  <svg xmlns=\"http://www.w3.org/2000/svg\" height=\"24px\"viewBox=\"0 0 24 24\"\n",
              "       width=\"24px\">\n",
              "    <path d=\"M0 0h24v24H0V0z\" fill=\"none\"/>\n",
              "    <path d=\"M18.56 5.44l.94 2.06.94-2.06 2.06-.94-2.06-.94-.94-2.06-.94 2.06-2.06.94zm-11 1L8.5 8.5l.94-2.06 2.06-.94-2.06-.94L8.5 2.5l-.94 2.06-2.06.94zm10 10l.94 2.06.94-2.06 2.06-.94-2.06-.94-.94-2.06-.94 2.06-2.06.94z\"/><path d=\"M17.41 7.96l-1.37-1.37c-.4-.4-.92-.59-1.43-.59-.52 0-1.04.2-1.43.59L10.3 9.45l-7.72 7.72c-.78.78-.78 2.05 0 2.83L4 21.41c.39.39.9.59 1.41.59.51 0 1.02-.2 1.41-.59l7.78-7.78 2.81-2.81c.8-.78.8-2.07 0-2.86zM5.41 20L4 18.59l7.72-7.72 1.47 1.35L5.41 20z\"/>\n",
              "  </svg>\n",
              "      </button>\n",
              "      \n",
              "  <style>\n",
              "    .colab-df-container {\n",
              "      display:flex;\n",
              "      flex-wrap:wrap;\n",
              "      gap: 12px;\n",
              "    }\n",
              "\n",
              "    .colab-df-convert {\n",
              "      background-color: #E8F0FE;\n",
              "      border: none;\n",
              "      border-radius: 50%;\n",
              "      cursor: pointer;\n",
              "      display: none;\n",
              "      fill: #1967D2;\n",
              "      height: 32px;\n",
              "      padding: 0 0 0 0;\n",
              "      width: 32px;\n",
              "    }\n",
              "\n",
              "    .colab-df-convert:hover {\n",
              "      background-color: #E2EBFA;\n",
              "      box-shadow: 0px 1px 2px rgba(60, 64, 67, 0.3), 0px 1px 3px 1px rgba(60, 64, 67, 0.15);\n",
              "      fill: #174EA6;\n",
              "    }\n",
              "\n",
              "    [theme=dark] .colab-df-convert {\n",
              "      background-color: #3B4455;\n",
              "      fill: #D2E3FC;\n",
              "    }\n",
              "\n",
              "    [theme=dark] .colab-df-convert:hover {\n",
              "      background-color: #434B5C;\n",
              "      box-shadow: 0px 1px 3px 1px rgba(0, 0, 0, 0.15);\n",
              "      filter: drop-shadow(0px 1px 2px rgba(0, 0, 0, 0.3));\n",
              "      fill: #FFFFFF;\n",
              "    }\n",
              "  </style>\n",
              "\n",
              "      <script>\n",
              "        const buttonEl =\n",
              "          document.querySelector('#df-23c1cef9-546f-4695-b622-bfe80a17c26c button.colab-df-convert');\n",
              "        buttonEl.style.display =\n",
              "          google.colab.kernel.accessAllowed ? 'block' : 'none';\n",
              "\n",
              "        async function convertToInteractive(key) {\n",
              "          const element = document.querySelector('#df-23c1cef9-546f-4695-b622-bfe80a17c26c');\n",
              "          const dataTable =\n",
              "            await google.colab.kernel.invokeFunction('convertToInteractive',\n",
              "                                                     [key], {});\n",
              "          if (!dataTable) return;\n",
              "\n",
              "          const docLinkHtml = 'Like what you see? Visit the ' +\n",
              "            '<a target=\"_blank\" href=https://colab.research.google.com/notebooks/data_table.ipynb>data table notebook</a>'\n",
              "            + ' to learn more about interactive tables.';\n",
              "          element.innerHTML = '';\n",
              "          dataTable['output_type'] = 'display_data';\n",
              "          await google.colab.output.renderOutput(dataTable, element);\n",
              "          const docLink = document.createElement('div');\n",
              "          docLink.innerHTML = docLinkHtml;\n",
              "          element.appendChild(docLink);\n",
              "        }\n",
              "      </script>\n",
              "    </div>\n",
              "  </div>\n",
              "  "
            ]
          },
          "metadata": {},
          "execution_count": 82
        }
      ],
      "source": [
        "df.head()"
      ]
    },
    {
      "cell_type": "code",
      "execution_count": 83,
      "metadata": {
        "colab": {
          "base_uri": "https://localhost:8080/"
        },
        "id": "kMr8hjlXjymO",
        "outputId": "bbb1dde1-8b79-4168-d631-83e3ccb4827b"
      },
      "outputs": [
        {
          "output_type": "execute_result",
          "data": {
            "text/plain": [
              "Index(['fare_amount', 'passenger_count', 'Hour', 'minute', 'date', 'day',\n",
              "       'month', 'year', 'Day of Week', 'distance'],\n",
              "      dtype='object')"
            ]
          },
          "metadata": {},
          "execution_count": 83
        }
      ],
      "source": [
        "df.columns"
      ]
    },
    {
      "cell_type": "markdown",
      "metadata": {
        "id": "0_Izx8QO1yvv"
      },
      "source": [
        "#**Linear regression**"
      ]
    },
    {
      "cell_type": "code",
      "execution_count": 84,
      "metadata": {
        "id": "81SaYO601x5V"
      },
      "outputs": [],
      "source": [
        "X=df.drop('fare_amount',axis=1)\n",
        "y=df['fare_amount']"
      ]
    },
    {
      "cell_type": "code",
      "execution_count": 85,
      "metadata": {
        "id": "02xi_te21x_z"
      },
      "outputs": [],
      "source": [
        "# Train test split\n",
        "from sklearn.model_selection import train_test_split\n",
        "X_train, X_test, y_train, y_test = train_test_split(X, y, test_size=0.3, random_state=42)"
      ]
    },
    {
      "cell_type": "code",
      "execution_count": 86,
      "metadata": {
        "colab": {
          "base_uri": "https://localhost:8080/"
        },
        "id": "4vv9fBA91yDT",
        "outputId": "9fdeb570-f9e1-42d0-d2bf-2cdbbb17b5e1"
      },
      "outputs": [
        {
          "output_type": "stream",
          "name": "stdout",
          "text": [
            "52837\n",
            "123284\n",
            "52837\n",
            "123284\n"
          ]
        }
      ],
      "source": [
        "print(len(X_test) )\n",
        "print(len(X_train))\n",
        "print(len(y_test) )\n",
        "print(len(y_train))"
      ]
    },
    {
      "cell_type": "code",
      "execution_count": 87,
      "metadata": {
        "colab": {
          "base_uri": "https://localhost:8080/"
        },
        "id": "bkx6QvJH1yGL",
        "outputId": "db05b1b8-32a2-47f3-a3a1-e81410494d51"
      },
      "outputs": [
        {
          "output_type": "execute_result",
          "data": {
            "text/plain": [
              "array([0.00341371, 0.01951769, 0.        , 0.        , 0.00172751,\n",
              "       0.01448116, 0.4693409 , 0.00264466, 0.92700988])"
            ]
          },
          "metadata": {},
          "execution_count": 87
        }
      ],
      "source": [
        "from sklearn.feature_selection import mutual_info_regression\n",
        "# determine the mutual information\n",
        "mutual_info = mutual_info_regression(X_train, y_train)\n",
        "mutual_info"
      ]
    },
    {
      "cell_type": "code",
      "execution_count": 88,
      "metadata": {
        "colab": {
          "base_uri": "https://localhost:8080/"
        },
        "id": "dN9PFdeO1yJD",
        "outputId": "9154eda1-0f35-4918-b9ef-245aa39dd7c5"
      },
      "outputs": [
        {
          "output_type": "execute_result",
          "data": {
            "text/plain": [
              "distance           0.927010\n",
              "year               0.469341\n",
              "Hour               0.019518\n",
              "month              0.014481\n",
              "passenger_count    0.003414\n",
              "Day of Week        0.002645\n",
              "day                0.001728\n",
              "minute             0.000000\n",
              "date               0.000000\n",
              "dtype: float64"
            ]
          },
          "metadata": {},
          "execution_count": 88
        }
      ],
      "source": [
        "mutual_info = pd.Series(mutual_info)\n",
        "mutual_info.index = X_train.columns\n",
        "mutual_info.sort_values(ascending=False)"
      ]
    },
    {
      "cell_type": "code",
      "execution_count": 89,
      "metadata": {
        "colab": {
          "base_uri": "https://localhost:8080/",
          "height": 413
        },
        "id": "6atnRGVL1yL_",
        "outputId": "28abe6d4-e69c-4466-ae07-e81530bfc05c"
      },
      "outputs": [
        {
          "output_type": "execute_result",
          "data": {
            "text/plain": [
              "<matplotlib.axes._subplots.AxesSubplot at 0x7f11d6483210>"
            ]
          },
          "metadata": {},
          "execution_count": 89
        },
        {
          "output_type": "display_data",
          "data": {
            "text/plain": [
              "<Figure size 1080x360 with 1 Axes>"
            ],
            "image/png": "[encoded data removed]"
          },
          "metadata": {
            "needs_background": "light"
          }
        }
      ],
      "source": [
        "mutual_info.sort_values(ascending=False).plot.bar(figsize=(15,5))"
      ]
    },
    {
      "cell_type": "code",
      "execution_count": 90,
      "metadata": {
        "id": "uAn8LJf31yOV"
      },
      "outputs": [],
      "source": [
        "from sklearn.linear_model import LinearRegression\n",
        "\n",
        "reg = LinearRegression().fit(X_train, y_train)"
      ]
    },
    {
      "cell_type": "code",
      "execution_count": 91,
      "metadata": {
        "colab": {
          "base_uri": "https://localhost:8080/"
        },
        "id": "XQBGXFoS2OO9",
        "outputId": "ab45e7ee-65c1-46aa-df51-fa8e2e5a6d01"
      },
      "outputs": [
        {
          "output_type": "execute_result",
          "data": {
            "text/plain": [
              "0.78562740555234"
            ]
          },
          "metadata": {},
          "execution_count": 91
        }
      ],
      "source": [
        "reg.score(X_train, y_train)"
      ]
    },
    {
      "cell_type": "markdown",
      "source": [
        "Desicion Tree"
      ],
      "metadata": {
        "id": "5OZjvRJ34MEs"
      }
    },
    {
      "cell_type": "code",
      "source": [
        "\n",
        "from sklearn.preprocessing import StandardScaler\n",
        "from sklearn.model_selection import train_test_split\n",
        "from sklearn.metrics import mean_squared_error,r2_score,mean_absolute_error\n",
        "from sklearn.linear_model import LinearRegression\n",
        "from sklearn.tree import DecisionTreeRegressor\n",
        "from sklearn.ensemble import RandomForestRegressor"
      ],
      "metadata": {
        "id": "ojrYcUXQ5Ibw"
      },
      "execution_count": 92,
      "outputs": []
    },
    {
      "cell_type": "code",
      "source": [
        "def predict(ml_model,X,y):\n",
        "    X_train,X_test,y_train,y_test=train_test_split(X,y,test_size=0.25,random_state=12)\n",
        "    sc=StandardScaler()\n",
        "    X_train=sc.fit_transform(X_train)\n",
        "    X_test=sc.transform(X_test)\n",
        "    model=ml_model.fit(X_train,y_train)\n",
        "    y_pred=model.predict(X_test)\n",
        "    plt.scatter(y_pred,y_test,color='b')\n",
        "    plt.xlabel('Predicted')\n",
        "    plt.ylabel('Actual')\n",
        "    overlay=(f'R^2 is {model.score(X_test,y_test)}\\n Adj R^2 is {1-(1-model.score(X_test,y_test))*(len(y_test)-1)/(len(y_test)-X_test.shape[1]-1)}\\n RMSE is: {mean_squared_error(y_test,y_pred,squared=False)}')\n",
        "    plt.annotate(s=overlay,xy=(0,2500),size='x-large')"
      ],
      "metadata": {
        "id": "6EPRO8tM4LW4"
      },
      "execution_count": 93,
      "outputs": []
    },
    {
      "cell_type": "code",
      "source": [
        "from sklearn.tree import DecisionTreeRegressor\n",
        "regressor = DecisionTreeRegressor(random_state=0)\n",
        "regressor.fit(X_train, y_train)"
      ],
      "metadata": {
        "colab": {
          "base_uri": "https://localhost:8080/"
        },
        "id": "nzGHncGa4Llw",
        "outputId": "6169bf2a-35f2-4e69-b391-fbd844425cc3"
      },
      "execution_count": 94,
      "outputs": [
        {
          "output_type": "execute_result",
          "data": {
            "text/plain": [
              "DecisionTreeRegressor(random_state=0)"
            ]
          },
          "metadata": {},
          "execution_count": 94
        }
      ]
    },
    {
      "cell_type": "code",
      "source": [
        "y_pred=regressor.predict(X_test)\n",
        "y_pred"
      ],
      "metadata": {
        "colab": {
          "base_uri": "https://localhost:8080/"
        },
        "id": "w3kZx18L4LoJ",
        "outputId": "3ad29665-f283-48c6-809b-05e13e2e076d"
      },
      "execution_count": 95,
      "outputs": [
        {
          "output_type": "execute_result",
          "data": {
            "text/plain": [
              "array([10.5,  7. ,  7.5, ...,  5.7,  8. , 18.5])"
            ]
          },
          "metadata": {},
          "execution_count": 95
        }
      ]
    },
    {
      "cell_type": "code",
      "source": [
        "from sklearn.metrics import r2_score\n",
        "from sklearn import metrics\n",
        "from sklearn.metrics import mean_squared_error"
      ],
      "metadata": {
        "id": "ycpiCZiY5aBI"
      },
      "execution_count": 96,
      "outputs": []
    },
    {
      "cell_type": "code",
      "source": [
        "metrics.r2_score(y_test,y_pred)"
      ],
      "metadata": {
        "colab": {
          "base_uri": "https://localhost:8080/"
        },
        "id": "R_LsGhAM48O8",
        "outputId": "fd8a1b04-d98b-49ab-9b96-af3e6ff65857"
      },
      "execution_count": 97,
      "outputs": [
        {
          "output_type": "execute_result",
          "data": {
            "text/plain": [
              "0.5914164222394152"
            ]
          },
          "metadata": {},
          "execution_count": 97
        }
      ]
    },
    {
      "cell_type": "markdown",
      "source": [],
      "metadata": {
        "id": "YRHnOjDy5lCV"
      }
    },
    {
      "cell_type": "code",
      "source": [
        "from sklearn.pipeline import make_pipeline\n",
        "from xgboost import XGBRegressor"
      ],
      "metadata": {
        "id": "YzgxLaq55lqT"
      },
      "execution_count": 98,
      "outputs": []
    },
    {
      "cell_type": "code",
      "source": [
        "def predict(ml_model,X,y):\n",
        "    X_train,X_test,y_train,y_test=train_test_split(X,y,test_size=0.25,random_state=12)\n",
        "    sc=StandardScaler()\n",
        "    X_train=sc.fit_transform(X_train)\n",
        "    X_test=sc.transform(X_test)\n",
        "    model=ml_model.fit(X_train,y_train)\n",
        "    y_pred=model.predict(X_test)\n",
        "    plt.scatter(y_pred,y_test,color='b')\n",
        "    plt.xlabel('Predicted')\n",
        "    plt.ylabel('Actual')\n",
        "    overlay=(f'R^2 is {model.score(X_test,y_test)}\\n Adj R^2 is {1-(1-model.score(X_test,y_test))*(len(y_test)-1)/(len(y_test)-X_test.shape[1]-1)}\\n RMSE is: {mean_squared_error(y_test,y_pred,squared=False)}')\n",
        "    plt.annotate(s=overlay,xy=(0,2500),size='x-large')"
      ],
      "metadata": {
        "id": "EYpRswad5lxO"
      },
      "execution_count": 99,
      "outputs": []
    },
    {
      "cell_type": "code",
      "source": [
        "from sklearn.preprocessing import StandardScaler, LabelEncoder\n",
        "from sklearn.model_selection import cross_val_score, train_test_split, GridSearchCV\n",
        "from xgboost import XGBRegressor\n",
        "import xgboost as xgb"
      ],
      "metadata": {
        "id": "b8uN7m4C6JHX"
      },
      "execution_count": 100,
      "outputs": []
    },
    {
      "cell_type": "code",
      "source": [
        "# Pipeline with baseline XGBoost\n",
        "pipe = make_pipeline(StandardScaler(), XGBRegressor())\n",
        "\n",
        "# Cross-validation\n",
        "cv = cross_val_score(pipe, X_train, y_train, cv=10)\n",
        "print('5-fold R2 scores:', cv)\n",
        "print('Mean R2', np.mean(cv))"
      ],
      "metadata": {
        "colab": {
          "base_uri": "https://localhost:8080/"
        },
        "id": "-Esque7h5l42",
        "outputId": "2c49bc9b-200b-4b62-8fa8-80204526fc73"
      },
      "execution_count": 101,
      "outputs": [
        {
          "output_type": "stream",
          "name": "stdout",
          "text": [
            "[15:53:54] WARNING: /workspace/src/objective/regression_obj.cu:152: reg:linear is now deprecated in favor of reg:squarederror.\n",
            "[15:54:00] WARNING: /workspace/src/objective/regression_obj.cu:152: reg:linear is now deprecated in favor of reg:squarederror.\n",
            "[15:54:05] WARNING: /workspace/src/objective/regression_obj.cu:152: reg:linear is now deprecated in favor of reg:squarederror.\n",
            "[15:54:11] WARNING: /workspace/src/objective/regression_obj.cu:152: reg:linear is now deprecated in favor of reg:squarederror.\n",
            "[15:54:17] WARNING: /workspace/src/objective/regression_obj.cu:152: reg:linear is now deprecated in favor of reg:squarederror.\n",
            "[15:54:22] WARNING: /workspace/src/objective/regression_obj.cu:152: reg:linear is now deprecated in favor of reg:squarederror.\n",
            "[15:54:28] WARNING: /workspace/src/objective/regression_obj.cu:152: reg:linear is now deprecated in favor of reg:squarederror.\n",
            "[15:54:34] WARNING: /workspace/src/objective/regression_obj.cu:152: reg:linear is now deprecated in favor of reg:squarederror.\n",
            "[15:54:39] WARNING: /workspace/src/objective/regression_obj.cu:152: reg:linear is now deprecated in favor of reg:squarederror.\n",
            "[15:54:45] WARNING: /workspace/src/objective/regression_obj.cu:152: reg:linear is now deprecated in favor of reg:squarederror.\n",
            "5-fold R2 scores: [0.79726106 0.8097181  0.84151983 0.81107725 0.82432877 0.80095204\n",
            " 0.80883827 0.8323182  0.8228657  0.82929425]\n",
            "Mean R2 0.8178173472674493\n"
          ]
        }
      ]
    },
    {
      "cell_type": "code",
      "source": [
        "# Pipeline with tuned XGBoost\n",
        "pipe = make_pipeline(StandardScaler(), XGBRegressor(n_estimators=70, max_depth=10, eta=0.08,\n",
        "                                                    subsample=0.8, reg_lambda=1.2))\n",
        "\n",
        "# Cross-validation\n",
        "cv = cross_val_score(pipe, X_train, y_train, cv=10)\n",
        "print('5-fold R2 scores:', cv)\n",
        "print('Mean R2', np.mean(cv))"
      ],
      "metadata": {
        "colab": {
          "base_uri": "https://localhost:8080/"
        },
        "id": "PgPmeT-15l6n",
        "outputId": "6b4953df-bc12-47ad-c2bf-68ad97857dbb"
      },
      "execution_count": 102,
      "outputs": [
        {
          "output_type": "stream",
          "name": "stdout",
          "text": [
            "[15:54:51] WARNING: /workspace/src/objective/regression_obj.cu:152: reg:linear is now deprecated in favor of reg:squarederror.\n",
            "[15:55:07] WARNING: /workspace/src/objective/regression_obj.cu:152: reg:linear is now deprecated in favor of reg:squarederror.\n",
            "[15:55:23] WARNING: /workspace/src/objective/regression_obj.cu:152: reg:linear is now deprecated in favor of reg:squarederror.\n",
            "[15:55:39] WARNING: /workspace/src/objective/regression_obj.cu:152: reg:linear is now deprecated in favor of reg:squarederror.\n",
            "[15:55:54] WARNING: /workspace/src/objective/regression_obj.cu:152: reg:linear is now deprecated in favor of reg:squarederror.\n",
            "[15:56:11] WARNING: /workspace/src/objective/regression_obj.cu:152: reg:linear is now deprecated in favor of reg:squarederror.\n",
            "[15:56:26] WARNING: /workspace/src/objective/regression_obj.cu:152: reg:linear is now deprecated in favor of reg:squarederror.\n",
            "[15:56:42] WARNING: /workspace/src/objective/regression_obj.cu:152: reg:linear is now deprecated in favor of reg:squarederror.\n",
            "[15:56:57] WARNING: /workspace/src/objective/regression_obj.cu:152: reg:linear is now deprecated in favor of reg:squarederror.\n",
            "[15:57:12] WARNING: /workspace/src/objective/regression_obj.cu:152: reg:linear is now deprecated in favor of reg:squarederror.\n",
            "5-fold R2 scores: [0.79574239 0.80594204 0.83852058 0.80376721 0.81838415 0.78667587\n",
            " 0.79580408 0.82135453 0.81719071 0.83506424]\n",
            "Mean R2 0.8118445783993253\n"
          ]
        }
      ]
    },
    {
      "cell_type": "code",
      "source": [
        "# Fit and predict\n",
        "pipe.fit(X_train, y_train)\n",
        "y_pred = pipe.predict(X_test)"
      ],
      "metadata": {
        "colab": {
          "base_uri": "https://localhost:8080/"
        },
        "id": "KYcy2ONZ5l9B",
        "outputId": "cf9e3092-39ad-474b-dbab-ec43a95b9db9"
      },
      "execution_count": 103,
      "outputs": [
        {
          "output_type": "stream",
          "name": "stdout",
          "text": [
            "[15:57:28] WARNING: /workspace/src/objective/regression_obj.cu:152: reg:linear is now deprecated in favor of reg:squarederror.\n"
          ]
        }
      ]
    },
    {
      "cell_type": "code",
      "source": [
        "plt.figure(figsize=(7,7))\n",
        "\n",
        "# 1:1 line\n",
        "x = np.linspace(0,3500,10)\n",
        "y = x\n",
        "\n",
        "# Scatter plot predicted vs. actual\n",
        "plt.scatter(y_pred, y_test)\n",
        "plt.plot(x, y, c='r')\n",
        "plt.gca().set_aspect('equal')\n",
        "plt.xlabel('Distance', size=12)\n",
        "plt.ylabel('Fare_amount', size=12)\n",
        "plt.title('fare vs. distance', size=20)\n",
        "plt.xlim(0,150)\n",
        "plt.ylim(0,150)"
      ],
      "metadata": {
        "colab": {
          "base_uri": "https://localhost:8080/",
          "height": 484
        },
        "id": "XnOpYC2H6Ci8",
        "outputId": "14b300aa-bb94-4685-d0cc-911352f6a47c"
      },
      "execution_count": 104,
      "outputs": [
        {
          "output_type": "execute_result",
          "data": {
            "text/plain": [
              "(0.0, 150.0)"
            ]
          },
          "metadata": {},
          "execution_count": 104
        },
        {
          "output_type": "display_data",
          "data": {
            "text/plain": [
              "<Figure size 504x504 with 1 Axes>"
            ],
            "image/png": "[encoded data removed]"
          },
          "metadata": {
            "needs_background": "light"
          }
        }
      ]
    },
    {
      "cell_type": "code",
      "source": [],
      "metadata": {
        "id": "8qMrkWiC6CmS"
      },
      "execution_count": 104,
      "outputs": []
    },
    {
      "cell_type": "markdown",
      "metadata": {
        "id": "d0FaRZn24ECN"
      },
      "source": [
        "#**RandomForest Regression**"
      ]
    },
    {
      "cell_type": "code",
      "source": [
        "X=df.drop('fare_amount',axis=1)\n",
        "y=df['fare_amount']"
      ],
      "metadata": {
        "id": "qB6qvaub9yCP"
      },
      "execution_count": 105,
      "outputs": []
    },
    {
      "cell_type": "code",
      "source": [
        "from sklearn.model_selection import train_test_split\n",
        "\n",
        "X_train, X_test, y_train, y_test = train_test_split(X,y, test_size=0.4, random_state = 42)"
      ],
      "metadata": {
        "id": "-TfXOa6j-BK4"
      },
      "execution_count": 106,
      "outputs": []
    },
    {
      "cell_type": "code",
      "source": [
        "# from sklearn.ensemble import RandomForestRegressor\n",
        "\n",
        "# model = RandomForestRegressor(n_estimators=250, criterion='mae')\n"
      ],
      "metadata": {
        "id": "h_DondEz-kno"
      },
      "execution_count": null,
      "outputs": []
    },
    {
      "cell_type": "code",
      "source": [
        "\n",
        "# Fitting Random Forest Regression to the dataset\n",
        "# import the regressor\n",
        "from sklearn.ensemble import RandomForestRegressor\n",
        "  \n",
        "# create regressor object\n",
        "regressor = RandomForestRegressor(n_estimators = 250, criterion='squared_error')\n"
      ],
      "metadata": {
        "id": "vyG1b2Lp7df3"
      },
      "execution_count": 115,
      "outputs": []
    },
    {
      "cell_type": "code",
      "source": [
        "regressor.fit(X_train, y_train)"
      ],
      "metadata": {
        "colab": {
          "base_uri": "https://localhost:8080/"
        },
        "id": "a9giVJS17diO",
        "outputId": "ed74c678-b197-4464-9532-d154186a46c8"
      },
      "execution_count": 116,
      "outputs": [
        {
          "output_type": "execute_result",
          "data": {
            "text/plain": [
              "RandomForestRegressor(n_estimators=250)"
            ]
          },
          "metadata": {},
          "execution_count": 116
        }
      ]
    },
    {
      "cell_type": "code",
      "source": [
        "predicts = regressor.predict(X_test)"
      ],
      "metadata": {
        "id": "q07GlhyR7dkv"
      },
      "execution_count": 117,
      "outputs": []
    },
    {
      "cell_type": "code",
      "source": [
        "regressor.score(X_train, y_train)"
      ],
      "metadata": {
        "colab": {
          "base_uri": "https://localhost:8080/"
        },
        "id": "AblrhoMb7dnm",
        "outputId": "72bb93a9-1646-4586-e21b-73e6b9da7f20"
      },
      "execution_count": 118,
      "outputs": [
        {
          "output_type": "execute_result",
          "data": {
            "text/plain": [
              "0.9739702342355852"
            ]
          },
          "metadata": {},
          "execution_count": 118
        }
      ]
    },
    {
      "cell_type": "code",
      "source": [
        "y_test.head(20)"
      ],
      "metadata": {
        "colab": {
          "base_uri": "https://localhost:8080/"
        },
        "id": "52ftpAuw7dpg",
        "outputId": "3799f66e-babe-46bb-a8e0-8371223fbb94"
      },
      "execution_count": 119,
      "outputs": [
        {
          "output_type": "execute_result",
          "data": {
            "text/plain": [
              "78909     10.0\n",
              "20767      6.0\n",
              "158568     7.5\n",
              "15410      6.0\n",
              "79128     13.5\n",
              "97303      8.5\n",
              "162892    12.0\n",
              "127149     8.5\n",
              "80736     11.7\n",
              "110811     8.9\n",
              "33255      6.5\n",
              "20357     34.5\n",
              "96716     45.0\n",
              "82137      7.5\n",
              "199593     7.3\n",
              "176309     6.5\n",
              "194801     5.3\n",
              "194972     3.5\n",
              "41149     10.5\n",
              "120686    20.1\n",
              "Name: fare_amount, dtype: float64"
            ]
          },
          "metadata": {},
          "execution_count": 119
        }
      ]
    },
    {
      "cell_type": "code",
      "source": [
        "predicts[:20]"
      ],
      "metadata": {
        "colab": {
          "base_uri": "https://localhost:8080/"
        },
        "id": "oGdlR8LhC7Oj",
        "outputId": "b15df597-eb97-4b7b-9aad-9cba276bd8ad"
      },
      "execution_count": 120,
      "outputs": [
        {
          "output_type": "execute_result",
          "data": {
            "text/plain": [
              "array([13.70456,  6.60028,  8.424  ,  6.852  , 15.352  ,  8.4568 ,\n",
              "       10.67   ,  9.29924, 10.1672 ,  8.7856 ,  9.18   , 37.34188,\n",
              "       47.82464,  6.528  ,  7.3904 ,  6.6064 ,  5.5872 ,  4.632  ,\n",
              "        8.6548 , 27.62436])"
            ]
          },
          "metadata": {},
          "execution_count": 120
        }
      ]
    },
    {
      "cell_type": "markdown",
      "source": [
        "# **Model Evaluation**"
      ],
      "metadata": {
        "id": "acV58ztZ_UKZ"
      }
    },
    {
      "cell_type": "code",
      "source": [
        "from sklearn.metrics import r2_score\n",
        "\n",
        "score=r2_score(y_test,predicts)\n",
        "score"
      ],
      "metadata": {
        "colab": {
          "base_uri": "https://localhost:8080/"
        },
        "id": "sYua7qc87dr7",
        "outputId": "411a0de3-56fa-4fa6-e980-52e86eb6fc30"
      },
      "execution_count": 121,
      "outputs": [
        {
          "output_type": "execute_result",
          "data": {
            "text/plain": [
              "0.7996765680819717"
            ]
          },
          "metadata": {},
          "execution_count": 121
        }
      ]
    },
    {
      "cell_type": "code",
      "source": [
        "from sklearn.metrics import mean_squared_error\n",
        "RMSE = np.sqrt(mean_squared_error(y_test, predicts))\n",
        "print(RMSE)"
      ],
      "metadata": {
        "colab": {
          "base_uri": "https://localhost:8080/"
        },
        "id": "DVFxrIU17duP",
        "outputId": "eecbde57-56ec-44f1-ffbf-816a080d2e9f"
      },
      "execution_count": 122,
      "outputs": [
        {
          "output_type": "stream",
          "name": "stdout",
          "text": [
            "4.267385761535002\n"
          ]
        }
      ]
    },
    {
      "cell_type": "code",
      "source": [],
      "metadata": {
        "id": "2jHKQCAzDzYZ"
      },
      "execution_count": 122,
      "outputs": []
    }
  ],
  "metadata": {
    "colab": {
      "collapsed_sections": [],
      "provenance": [],
      "authorship_tag": "ABX9TyPxgnqYaWzk7qEVQ9ZbItl0",
      "include_colab_link": true
    },
    "kernelspec": {
      "display_name": "Python 3",
      "name": "python3"
    },
    "language_info": {
      "name": "python"
    }
  },
  "nbformat": 4,
  "nbformat_minor": 0
}